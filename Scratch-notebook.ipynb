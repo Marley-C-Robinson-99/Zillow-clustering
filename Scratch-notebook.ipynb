{
 "cells": [
  {
   "cell_type": "markdown",
   "id": "5e6f4eba",
   "metadata": {},
   "source": [
    "# **Zillow Clustering Project**"
   ]
  },
  {
   "cell_type": "markdown",
   "id": "89927efd",
   "metadata": {},
   "source": [
    "## Project Goals\n",
    "- Create documented files to clean and prepare Zillow dataset for processing by clustering algorithm for further modeling via a regression ML algorithm.\n",
    "- Use clustering to identify driving features of log error and to potentially create new feature combinations or simply to use the cluster as a driving feature.\n",
    "- Evaluate the clusters and try to extrapolate usefull info from them.\n",
    "- Pass updated dataframe with new features/chosen features/cluster features to a regression model.\n",
    "- Present on my final Jupyter Notebook, giving a high-level overview of the process used to create the clusters and how the information garnered from them is useful to my regression model."
   ]
  },
  {
   "cell_type": "markdown",
   "id": "fa756f87",
   "metadata": {},
   "source": [
    "## Initial Hypotheses:\n",
    "***\n",
    ">   - $H_{i}$: The key drivers of log error will be linked to tax value clusters and area clusters\n",
    "***"
   ]
  },
  {
   "cell_type": "markdown",
   "id": "1fbcf416",
   "metadata": {},
   "source": [
    "## Plan:\n",
    "- [x] Create repo on github to save all files related to the project.\n",
    "- [x] Create README.md with goals, initial hypotheses, data dictionary, and outline plans for the project in a trello board.\n",
    "- [x] Acqiure zillow data using acquire.py file drawing directly from Codeups `zillow` database with SQL queries. Create functions for use in conjunction with prepare.py.\n",
    "- [x] Clean, tidy, and encode data in such a way that it is usable in a machine learning algorithm. Includes dropping unneccesary columns, creating dummies where needed and changing string values to numeric values and getting rid of outliers\n",
    "- [] Utilize recursive feature elimination and clustering algorithms to search the data for meaningful driving features of log error.\n",
    "- [] Create hypotheses based on preliminary statistical tests\n",
    "- [] Test hypotheses with tests such as t-test, chi-squared to determine the viability of said hypotheses by comparing p-values to alpha.\n",
    "- [] Establish a baseline accuracy.\n",
    "- [] Train three different classification models from OLS, GLM, and Lasso + Lars, testing a variety of parameters and features, both engineered and pre-existing.\n",
    "- [] Evaluate models using RMSE, R^2 score, and other metrics on in-sample and out-of-sample datasets.\n",
    "- [] Once a single, best preforming model has been chosen, evaluate the preformance of the model on the test dataset.\n",
    "- [] Present my jupyter notebook to Codeup instructors"
   ]
  },
  {
   "cell_type": "code",
   "execution_count": 1,
   "id": "e3bfe1fc",
   "metadata": {},
   "outputs": [],
   "source": [
    "# Imports from my .py scripts and modules necessary \n",
    "# for modeling and exploring data \n",
    "import wrangle as wr\n",
    "import explore as ex\n",
    "import model as md\n",
    "\n",
    "import random\n",
    "from sklearn.preprocessing import PolynomialFeatures, MinMaxScaler, StandardScaler\n",
    "import sklearn.preprocessing\n",
    "import scipy.stats as stats\n",
    "from sklearn.cluster import KMeans\n",
    "from sklearn.linear_model import LinearRegression\n",
    "\n",
    "import pandas as pd\n",
    "import numpy as np\n",
    "import seaborn as sns\n",
    "import matplotlib.pyplot as plt\n",
    "import matplotlib as mpl\n",
    "\n",
    "import itertools\n",
    "import datetime\n",
    "\n",
    "%matplotlib inline\n",
    "np.set_printoptions(suppress=True)\n",
    "import warnings\n",
    "warnings.filterwarnings(\"ignore\")"
   ]
  },
  {
   "cell_type": "markdown",
   "id": "ac299bf6",
   "metadata": {},
   "source": [
    "## Wrangle\n",
    "\n",
    "### Acquire"
   ]
  },
  {
   "cell_type": "code",
   "execution_count": 2,
   "id": "459330c2",
   "metadata": {},
   "outputs": [],
   "source": [
    "# Acquire Zillow data from MySQL database\n",
    "\n",
    "zillow_raw = wr.acquire_zillow()"
   ]
  },
  {
   "cell_type": "code",
   "execution_count": 3,
   "id": "44885573",
   "metadata": {},
   "outputs": [
    {
     "data": {
      "text/plain": [
       "(77381, 67)"
      ]
     },
     "execution_count": 3,
     "metadata": {},
     "output_type": "execute_result"
    }
   ],
   "source": [
    "zillow_raw.shape"
   ]
  },
  {
   "cell_type": "code",
   "execution_count": 4,
   "id": "e78902a4",
   "metadata": {},
   "outputs": [
    {
     "data": {
      "text/html": [
       "<div>\n",
       "<style scoped>\n",
       "    .dataframe tbody tr th:only-of-type {\n",
       "        vertical-align: middle;\n",
       "    }\n",
       "\n",
       "    .dataframe tbody tr th {\n",
       "        vertical-align: top;\n",
       "    }\n",
       "\n",
       "    .dataframe thead th {\n",
       "        text-align: right;\n",
       "    }\n",
       "</style>\n",
       "<table border=\"1\" class=\"dataframe\">\n",
       "  <thead>\n",
       "    <tr style=\"text-align: right;\">\n",
       "      <th></th>\n",
       "      <th>0</th>\n",
       "      <th>1</th>\n",
       "      <th>2</th>\n",
       "      <th>3</th>\n",
       "      <th>4</th>\n",
       "    </tr>\n",
       "  </thead>\n",
       "  <tbody>\n",
       "    <tr>\n",
       "      <th>parcelid</th>\n",
       "      <td>14297519</td>\n",
       "      <td>17052889</td>\n",
       "      <td>14186244</td>\n",
       "      <td>12177905</td>\n",
       "      <td>10887214</td>\n",
       "    </tr>\n",
       "    <tr>\n",
       "      <th>airconditioningtypeid</th>\n",
       "      <td>NaN</td>\n",
       "      <td>NaN</td>\n",
       "      <td>NaN</td>\n",
       "      <td>NaN</td>\n",
       "      <td>1.0</td>\n",
       "    </tr>\n",
       "    <tr>\n",
       "      <th>architecturalstyletypeid</th>\n",
       "      <td>NaN</td>\n",
       "      <td>NaN</td>\n",
       "      <td>NaN</td>\n",
       "      <td>NaN</td>\n",
       "      <td>NaN</td>\n",
       "    </tr>\n",
       "    <tr>\n",
       "      <th>basementsqft</th>\n",
       "      <td>NaN</td>\n",
       "      <td>NaN</td>\n",
       "      <td>NaN</td>\n",
       "      <td>NaN</td>\n",
       "      <td>NaN</td>\n",
       "    </tr>\n",
       "    <tr>\n",
       "      <th>bathroomcnt</th>\n",
       "      <td>3.5</td>\n",
       "      <td>1.0</td>\n",
       "      <td>2.0</td>\n",
       "      <td>3.0</td>\n",
       "      <td>3.0</td>\n",
       "    </tr>\n",
       "    <tr>\n",
       "      <th>...</th>\n",
       "      <td>...</td>\n",
       "      <td>...</td>\n",
       "      <td>...</td>\n",
       "      <td>...</td>\n",
       "      <td>...</td>\n",
       "    </tr>\n",
       "    <tr>\n",
       "      <th>buildingclassdesc</th>\n",
       "      <td>NaN</td>\n",
       "      <td>NaN</td>\n",
       "      <td>NaN</td>\n",
       "      <td>NaN</td>\n",
       "      <td>NaN</td>\n",
       "    </tr>\n",
       "    <tr>\n",
       "      <th>heatingorsystemdesc</th>\n",
       "      <td>NaN</td>\n",
       "      <td>NaN</td>\n",
       "      <td>NaN</td>\n",
       "      <td>Central</td>\n",
       "      <td>Central</td>\n",
       "    </tr>\n",
       "    <tr>\n",
       "      <th>propertylandusedesc</th>\n",
       "      <td>Single Family Residential</td>\n",
       "      <td>Single Family Residential</td>\n",
       "      <td>Single Family Residential</td>\n",
       "      <td>Single Family Residential</td>\n",
       "      <td>Condominium</td>\n",
       "    </tr>\n",
       "    <tr>\n",
       "      <th>storydesc</th>\n",
       "      <td>NaN</td>\n",
       "      <td>NaN</td>\n",
       "      <td>NaN</td>\n",
       "      <td>NaN</td>\n",
       "      <td>NaN</td>\n",
       "    </tr>\n",
       "    <tr>\n",
       "      <th>typeconstructiondesc</th>\n",
       "      <td>NaN</td>\n",
       "      <td>NaN</td>\n",
       "      <td>NaN</td>\n",
       "      <td>NaN</td>\n",
       "      <td>NaN</td>\n",
       "    </tr>\n",
       "  </tbody>\n",
       "</table>\n",
       "<p>67 rows × 5 columns</p>\n",
       "</div>"
      ],
      "text/plain": [
       "                                                  0  \\\n",
       "parcelid                                   14297519   \n",
       "airconditioningtypeid                           NaN   \n",
       "architecturalstyletypeid                        NaN   \n",
       "basementsqft                                    NaN   \n",
       "bathroomcnt                                     3.5   \n",
       "...                                             ...   \n",
       "buildingclassdesc                               NaN   \n",
       "heatingorsystemdesc                             NaN   \n",
       "propertylandusedesc       Single Family Residential   \n",
       "storydesc                                       NaN   \n",
       "typeconstructiondesc                            NaN   \n",
       "\n",
       "                                                  1  \\\n",
       "parcelid                                   17052889   \n",
       "airconditioningtypeid                           NaN   \n",
       "architecturalstyletypeid                        NaN   \n",
       "basementsqft                                    NaN   \n",
       "bathroomcnt                                     1.0   \n",
       "...                                             ...   \n",
       "buildingclassdesc                               NaN   \n",
       "heatingorsystemdesc                             NaN   \n",
       "propertylandusedesc       Single Family Residential   \n",
       "storydesc                                       NaN   \n",
       "typeconstructiondesc                            NaN   \n",
       "\n",
       "                                                  2  \\\n",
       "parcelid                                   14186244   \n",
       "airconditioningtypeid                           NaN   \n",
       "architecturalstyletypeid                        NaN   \n",
       "basementsqft                                    NaN   \n",
       "bathroomcnt                                     2.0   \n",
       "...                                             ...   \n",
       "buildingclassdesc                               NaN   \n",
       "heatingorsystemdesc                             NaN   \n",
       "propertylandusedesc       Single Family Residential   \n",
       "storydesc                                       NaN   \n",
       "typeconstructiondesc                            NaN   \n",
       "\n",
       "                                                  3            4  \n",
       "parcelid                                   12177905     10887214  \n",
       "airconditioningtypeid                           NaN          1.0  \n",
       "architecturalstyletypeid                        NaN          NaN  \n",
       "basementsqft                                    NaN          NaN  \n",
       "bathroomcnt                                     3.0          3.0  \n",
       "...                                             ...          ...  \n",
       "buildingclassdesc                               NaN          NaN  \n",
       "heatingorsystemdesc                         Central      Central  \n",
       "propertylandusedesc       Single Family Residential  Condominium  \n",
       "storydesc                                       NaN          NaN  \n",
       "typeconstructiondesc                            NaN          NaN  \n",
       "\n",
       "[67 rows x 5 columns]"
      ]
     },
     "execution_count": 4,
     "metadata": {},
     "output_type": "execute_result"
    }
   ],
   "source": [
    "# Sample of raw data\n",
    "zillow_raw.head().T"
   ]
  },
  {
   "cell_type": "code",
   "execution_count": 5,
   "id": "02dc4629",
   "metadata": {
    "scrolled": true
   },
   "outputs": [
    {
     "name": "stdout",
     "output_type": "stream",
     "text": [
      "=====================================================\n",
      "\n",
      "\n",
      "Dataframe info: \n",
      "<class 'pandas.core.frame.DataFrame'>\n",
      "RangeIndex: 77381 entries, 0 to 77380\n",
      "Data columns (total 67 columns):\n",
      " #   Column                        Non-Null Count  Dtype  \n",
      "---  ------                        --------------  -----  \n",
      " 0   parcelid                      77381 non-null  int64  \n",
      " 1   airconditioningtypeid         24953 non-null  float64\n",
      " 2   architecturalstyletypeid      206 non-null    float64\n",
      " 3   basementsqft                  50 non-null     float64\n",
      " 4   bathroomcnt                   77381 non-null  float64\n",
      " 5   bedroomcnt                    77381 non-null  float64\n",
      " 6   buildingclasstypeid           15 non-null     float64\n",
      " 7   buildingqualitytypeid         49672 non-null  float64\n",
      " 8   calculatedbathnbr             76772 non-null  float64\n",
      " 9   decktypeid                    614 non-null    float64\n",
      " 10  finishedfloor1squarefeet      6023 non-null   float64\n",
      " 11  calculatedfinishedsquarefeet  77185 non-null  float64\n",
      " 12  finishedsquarefeet12          73749 non-null  float64\n",
      " 13  finishedsquarefeet13          41 non-null     float64\n",
      " 14  finishedsquarefeet15          3009 non-null   float64\n",
      " 15  finishedsquarefeet50          6023 non-null   float64\n",
      " 16  finishedsquarefeet6           386 non-null    float64\n",
      " 17  fips                          77381 non-null  float64\n",
      " 18  fireplacecnt                  8276 non-null   float64\n",
      " 19  fullbathcnt                   76772 non-null  float64\n",
      " 20  garagecarcnt                  25474 non-null  float64\n",
      " 21  garagetotalsqft               25474 non-null  float64\n",
      " 22  hashottuborspa                1538 non-null   float64\n",
      " 23  heatingorsystemtypeid         49440 non-null  float64\n",
      " 24  latitude                      77381 non-null  float64\n",
      " 25  longitude                     77381 non-null  float64\n",
      " 26  lotsizesquarefeet             69142 non-null  float64\n",
      " 27  poolcnt                       16137 non-null  float64\n",
      " 28  poolsizesum                   867 non-null    float64\n",
      " 29  pooltypeid10                  464 non-null    float64\n",
      " 30  pooltypeid2                   1074 non-null   float64\n",
      " 31  pooltypeid7                   15042 non-null  float64\n",
      " 32  propertycountylandusecode     77381 non-null  object \n",
      " 33  propertylandusetypeid         77381 non-null  float64\n",
      " 34  propertyzoningdesc            50331 non-null  object \n",
      " 35  rawcensustractandblock        77381 non-null  float64\n",
      " 36  regionidcity                  75910 non-null  float64\n",
      " 37  regionidcounty                77381 non-null  float64\n",
      " 38  regionidneighborhood          30890 non-null  float64\n",
      " 39  regionidzip                   77331 non-null  float64\n",
      " 40  roomcnt                       77381 non-null  float64\n",
      " 41  storytypeid                   50 non-null     float64\n",
      " 42  threequarterbathnbr           10096 non-null  float64\n",
      " 43  typeconstructiontypeid        222 non-null    float64\n",
      " 44  unitcnt                       50563 non-null  float64\n",
      " 45  yardbuildingsqft17            2388 non-null   float64\n",
      " 46  yardbuildingsqft26            70 non-null     float64\n",
      " 47  yearbuilt                     77118 non-null  float64\n",
      " 48  numberofstories               17560 non-null  float64\n",
      " 49  fireplaceflag                 172 non-null    float64\n",
      " 50  structuretaxvaluedollarcnt    77269 non-null  float64\n",
      " 51  taxvaluedollarcnt             77380 non-null  float64\n",
      " 52  assessmentyear                77381 non-null  float64\n",
      " 53  landtaxvaluedollarcnt         77379 non-null  float64\n",
      " 54  taxamount                     77376 non-null  float64\n",
      " 55  taxdelinquencyflag            2886 non-null   object \n",
      " 56  taxdelinquencyyear            2886 non-null   float64\n",
      " 57  censustractandblock           77137 non-null  float64\n",
      " 58  logerror                      77381 non-null  float64\n",
      " 59  transactiondate               77381 non-null  object \n",
      " 60  airconditioningdesc           24953 non-null  object \n",
      " 61  architecturalstyledesc        206 non-null    object \n",
      " 62  buildingclassdesc             15 non-null     object \n",
      " 63  heatingorsystemdesc           49440 non-null  object \n",
      " 64  propertylandusedesc           77381 non-null  object \n",
      " 65  storydesc                     50 non-null     object \n",
      " 66  typeconstructiondesc          222 non-null    object \n",
      "dtypes: float64(55), int64(1), object(11)\n",
      "memory usage: 39.6+ MB\n",
      "None\n",
      "=====================================================\n",
      "\n",
      "\n",
      "Dataframe Description: \n",
      "           parcelid  airconditioningtypeid  architecturalstyletypeid  \\\n",
      "count  7.738100e+04           24953.000000                206.000000   \n",
      "mean   1.300715e+07               1.813289                  7.388350   \n",
      "std    3.481346e+06               2.967894                  2.734542   \n",
      "min    1.071186e+07               1.000000                  2.000000   \n",
      "25%    1.153830e+07               1.000000                  7.000000   \n",
      "50%    1.253157e+07               1.000000                  7.000000   \n",
      "75%    1.421183e+07               1.000000                  7.000000   \n",
      "max    1.676893e+08              13.000000                 21.000000   \n",
      "\n",
      "       basementsqft   bathroomcnt    bedroomcnt  buildingclasstypeid  \\\n",
      "count     50.000000  77381.000000  77381.000000            15.000000   \n",
      "mean     679.720000      2.299130      3.053489             3.933333   \n",
      "std      689.703546      0.996651      1.139096             0.258199   \n",
      "min       38.000000      0.000000      0.000000             3.000000   \n",
      "25%      273.000000      2.000000      2.000000             4.000000   \n",
      "50%      515.000000      2.000000      3.000000             4.000000   \n",
      "75%      796.500000      3.000000      4.000000             4.000000   \n",
      "max     3560.000000     18.000000     16.000000             4.000000   \n",
      "\n",
      "       buildingqualitytypeid  calculatedbathnbr  decktypeid  ...  \\\n",
      "count           49672.000000       76772.000000       614.0  ...   \n",
      "mean                6.534587           2.316867        66.0  ...   \n",
      "std                 1.721953           0.979755         0.0  ...   \n",
      "min                 1.000000           1.000000        66.0  ...   \n",
      "25%                 6.000000           2.000000        66.0  ...   \n",
      "50%                 6.000000           2.000000        66.0  ...   \n",
      "75%                 8.000000           3.000000        66.0  ...   \n",
      "max                12.000000          18.000000        66.0  ...   \n",
      "\n",
      "       numberofstories  fireplaceflag  structuretaxvaluedollarcnt  \\\n",
      "count     17560.000000          172.0                7.726900e+04   \n",
      "mean          1.434738            1.0                1.893145e+05   \n",
      "std           0.544569            0.0                2.300874e+05   \n",
      "min           1.000000            1.0                4.400000e+01   \n",
      "25%           1.000000            1.0                8.426500e+04   \n",
      "50%           1.000000            1.0                1.364990e+05   \n",
      "75%           2.000000            1.0                2.187870e+05   \n",
      "max           6.000000            1.0                1.142179e+07   \n",
      "\n",
      "       taxvaluedollarcnt  assessmentyear  landtaxvaluedollarcnt  \\\n",
      "count       7.738000e+04         77381.0           7.737900e+04   \n",
      "mean        4.901345e+05          2016.0           3.010954e+05   \n",
      "std         6.534440e+05             0.0           4.925960e+05   \n",
      "min         1.000000e+03          2016.0           1.610000e+02   \n",
      "25%         2.070000e+05          2016.0           8.550400e+04   \n",
      "50%         3.589755e+05          2016.0           2.033720e+05   \n",
      "75%         5.690015e+05          2016.0           3.667965e+05   \n",
      "max         4.906124e+07          2016.0           4.895220e+07   \n",
      "\n",
      "           taxamount  taxdelinquencyyear  censustractandblock      logerror  \n",
      "count   77376.000000         2886.000000         7.713700e+04  77381.000000  \n",
      "mean     5995.532346           14.087318         6.049673e+13      0.016625  \n",
      "std      7622.844153            2.185663         1.535242e+12      0.170191  \n",
      "min        19.920000            3.000000         6.037101e+13     -4.655420  \n",
      "25%      2715.632500           14.000000         6.037311e+13     -0.024377  \n",
      "50%      4450.695000           15.000000         6.037603e+13      0.006627  \n",
      "75%      6927.790000           15.000000         6.059042e+13      0.039203  \n",
      "max    586639.300000           99.000000         4.830301e+14      5.262999  \n",
      "\n",
      "[8 rows x 56 columns]\n",
      "=====================================================\n",
      "\n",
      "\n",
      "Dataframe Value Counts: \n",
      "(10554877.537, 26409601.2]    77350\n",
      "(26409601.2, 42107347.4]          0\n",
      "(42107347.4, 57805093.6]          0\n",
      "(57805093.6, 73502839.8]          0\n",
      "(73502839.8, 89200586.0]          1\n",
      "(89200586.0, 104898332.2]         1\n",
      "(104898332.2, 120596078.4]        0\n",
      "(120596078.4, 136293824.6]        0\n",
      "(136293824.6, 151991570.8]        0\n",
      "(151991570.8, 167689317.0]       29\n",
      "Name: parcelid, dtype: int64\n",
      "(0.987, 2.2]    23133\n",
      "(2.2, 3.4]          0\n",
      "(3.4, 4.6]          0\n",
      "(4.6, 5.8]        167\n",
      "(5.8, 7.0]          0\n",
      "(7.0, 8.2]          0\n",
      "(8.2, 9.4]         26\n",
      "(9.4, 10.6]         0\n",
      "(10.6, 11.8]       53\n",
      "(11.8, 13.0]     1574\n",
      "Name: airconditioningtypeid, dtype: int64\n",
      "(1.9800000000000002, 3.9]      8\n",
      "(3.9, 5.8]                     0\n",
      "(5.8, 7.7]                   172\n",
      "(7.7, 9.6]                    19\n",
      "(9.6, 11.5]                    0\n",
      "(11.5, 13.4]                   0\n",
      "(13.4, 15.3]                   0\n",
      "(15.3, 17.2]                   0\n",
      "(17.2, 19.1]                   0\n",
      "(19.1, 21.0]                   7\n",
      "Name: architecturalstyletypeid, dtype: int64\n",
      "(34.477000000000004, 390.2]    20\n",
      "(390.2, 742.4]                 16\n",
      "(742.4, 1094.6]                 7\n",
      "(1094.6, 1446.8]                3\n",
      "(1446.8, 1799.0]                0\n",
      "(1799.0, 2151.2]                2\n",
      "(2151.2, 2503.4]                0\n",
      "(2503.4, 2855.6]                0\n",
      "(2855.6, 3207.8]                1\n",
      "(3207.8, 3560.0]                1\n",
      "Name: basementsqft, dtype: int64\n",
      "(-0.019, 1.8]    14909\n",
      "(1.8, 3.6]       56436\n",
      "(3.6, 5.4]        5073\n",
      "(5.4, 7.2]         801\n",
      "(7.2, 9.0]         150\n",
      "(9.0, 10.8]          7\n",
      "(10.8, 12.6]         3\n",
      "(12.6, 14.4]         1\n",
      "(14.4, 16.2]         0\n",
      "(16.2, 18.0]         1\n",
      "Name: bathroomcnt, dtype: int64\n",
      "(-0.017, 1.6]     4209\n",
      "(1.6, 3.2]       49531\n",
      "(3.2, 4.8]       17513\n",
      "(4.8, 6.4]        5541\n",
      "(6.4, 8.0]         460\n",
      "(8.0, 9.6]          70\n",
      "(9.6, 11.2]         39\n",
      "(11.2, 12.8]        14\n",
      "(12.8, 14.4]         3\n",
      "(14.4, 16.0]         1\n",
      "Name: bedroomcnt, dtype: int64\n",
      "(2.998, 3.1]     1\n",
      "(3.1, 3.2]       0\n",
      "(3.2, 3.3]       0\n",
      "(3.3, 3.4]       0\n",
      "(3.4, 3.5]       0\n",
      "(3.5, 3.6]       0\n",
      "(3.6, 3.7]       0\n",
      "(3.7, 3.8]       0\n",
      "(3.8, 3.9]       0\n",
      "(3.9, 4.0]      14\n",
      "Name: buildingclasstypeid, dtype: int64\n",
      "(0.988, 2.1]       35\n",
      "(2.1, 3.2]        329\n",
      "(3.2, 4.3]       9483\n",
      "(4.3, 5.4]       2088\n",
      "(5.4, 6.5]      13462\n",
      "(6.5, 7.6]       5971\n",
      "(7.6, 8.7]      14645\n",
      "(8.7, 9.8]       2299\n",
      "(9.8, 10.9]       313\n",
      "(10.9, 12.0]     1047\n",
      "Name: buildingqualitytypeid, dtype: int64\n",
      "(0.982, 2.7]    52390\n",
      "(2.7, 4.4]      21699\n",
      "(4.4, 6.1]       2361\n",
      "(6.1, 7.8]        176\n",
      "(7.8, 9.5]        134\n",
      "(9.5, 11.2]        10\n",
      "(11.2, 12.9]        0\n",
      "(12.9, 14.6]        1\n",
      "(14.6, 16.3]        0\n",
      "(16.3, 18.0]        1\n",
      "Name: calculatedbathnbr, dtype: int64\n",
      "(65.93299999999999, 65.947]      0\n",
      "(65.947, 65.96]                  0\n",
      "(65.96, 65.974]                  0\n",
      "(65.974, 65.987]                 0\n",
      "(65.987, 66.0]                 614\n",
      "(66.0, 66.013]                   0\n",
      "(66.013, 66.026]                 0\n",
      "(66.026, 66.04]                  0\n",
      "(66.04, 66.053]                  0\n",
      "(66.053, 66.066]                 0\n",
      "Name: decktypeid, dtype: int64\n",
      "(37.131, 730.8]      702\n",
      "(730.8, 1417.6]     3025\n",
      "(1417.6, 2104.4]    1733\n",
      "(2104.4, 2791.2]     336\n",
      "(2791.2, 3478.0]     136\n",
      "(3478.0, 4164.8]      43\n",
      "(4164.8, 4851.6]      26\n",
      "(4851.6, 5538.4]      12\n",
      "(5538.4, 6225.2]       6\n",
      "(6225.2, 6912.0]       4\n",
      "Name: finishedfloor1squarefeet, dtype: int64\n",
      "(92.487, 3679.2]      73880\n",
      "(3679.2, 7230.4]       3134\n",
      "(7230.4, 10781.6]       148\n",
      "(10781.6, 14332.8]       15\n",
      "(14332.8, 17884.0]        3\n",
      "(17884.0, 21435.2]        3\n",
      "(21435.2, 24986.4]        1\n",
      "(24986.4, 28537.6]        0\n",
      "(28537.6, 32088.8]        0\n",
      "(32088.8, 35640.0]        1\n",
      "Name: calculatedfinishedsquarefeet, dtype: int64\n",
      "(106.198, 2308.1]     59593\n",
      "(2308.1, 4488.2]      12862\n",
      "(4488.2, 6668.3]       1069\n",
      "(6668.3, 8848.4]        161\n",
      "(8848.4, 11028.5]        45\n",
      "(11028.5, 13208.6]       12\n",
      "(13208.6, 15388.7]        2\n",
      "(15388.7, 17568.8]        2\n",
      "(17568.8, 19748.9]        1\n",
      "(19748.9, 21929.0]        2\n",
      "Name: finishedsquarefeet12, dtype: int64\n",
      "(1055.4950000000001, 1106.4]     2\n",
      "(1106.4, 1156.8]                 2\n",
      "(1156.8, 1207.2]                 1\n",
      "(1207.2, 1257.6]                 2\n",
      "(1257.6, 1308.0]                 1\n",
      "(1308.0, 1358.4]                 5\n",
      "(1358.4, 1408.8]                 2\n",
      "(1408.8, 1459.2]                18\n",
      "(1459.2, 1509.6]                 3\n",
      "(1509.6, 1560.0]                 5\n",
      "Name: finishedsquarefeet13, dtype: int64\n",
      "(562.957, 4102.2]     2811\n",
      "(4102.2, 7606.4]       193\n",
      "(7606.4, 11110.6]        3\n",
      "(11110.6, 14614.8]       0\n",
      "(14614.8, 18119.0]       0\n",
      "(18119.0, 21623.2]       1\n",
      "(21623.2, 25127.4]       0\n",
      "(25127.4, 28631.6]       0\n",
      "(28631.6, 32135.8]       0\n",
      "(32135.8, 35640.0]       1\n",
      "Name: finishedsquarefeet15, dtype: int64\n",
      "(31.576, 1286.3]      3138\n",
      "(1286.3, 2528.6]      2552\n",
      "(2528.6, 3770.9]       243\n",
      "(3770.9, 5013.2]        62\n",
      "(5013.2, 6255.5]        17\n",
      "(6255.5, 7497.8]         7\n",
      "(7497.8, 8740.1]         2\n",
      "(8740.1, 9982.4]         1\n",
      "(9982.4, 11224.7]        0\n",
      "(11224.7, 12467.0]       1\n",
      "Name: finishedsquarefeet50, dtype: int64\n",
      "(374.781, 901.8]    67\n",
      "(901.8, 1423.6]     95\n",
      "(1423.6, 1945.4]    45\n",
      "(1945.4, 2467.2]    46\n",
      "(2467.2, 2989.0]    30\n",
      "(2989.0, 3510.8]    33\n",
      "(3510.8, 4032.6]    31\n",
      "(4032.6, 4554.4]    33\n",
      "(4554.4, 5076.2]     4\n",
      "(5076.2, 5598.0]     2\n",
      "Name: finishedsquarefeet6, dtype: int64\n",
      "(6036.925, 6044.4]    50551\n",
      "(6044.4, 6051.8]          0\n",
      "(6051.8, 6059.2]      20593\n",
      "(6059.2, 6066.6]          0\n",
      "(6066.6, 6074.0]          0\n",
      "(6074.0, 6081.4]          0\n",
      "(6081.4, 6088.8]          0\n",
      "(6088.8, 6096.2]          0\n",
      "(6096.2, 6103.6]          0\n",
      "(6103.6, 6111.0]       6237\n",
      "Name: fips, dtype: int64\n",
      "(0.995, 1.4]    7008\n",
      "(1.4, 1.8]         0\n",
      "(1.8, 2.2]       995\n",
      "(2.2, 2.6]         0\n",
      "(2.6, 3.0]       235\n",
      "(3.0, 3.4]         0\n",
      "(3.4, 3.8]         0\n",
      "(3.8, 4.2]        35\n",
      "(4.2, 4.6]         0\n",
      "(4.6, 5.0]         3\n",
      "Name: fireplacecnt, dtype: int64\n",
      "(0.982, 2.7]    52407\n",
      "(2.7, 4.4]      22399\n",
      "(4.4, 6.1]       1699\n",
      "(6.1, 7.8]        121\n",
      "(7.8, 9.5]        134\n",
      "(9.5, 11.2]        10\n",
      "(11.2, 12.9]        0\n",
      "(12.9, 14.6]        1\n",
      "(14.6, 16.3]        0\n",
      "(16.3, 18.0]        1\n",
      "Name: fullbathcnt, dtype: int64\n"
     ]
    },
    {
     "name": "stdout",
     "output_type": "stream",
     "text": [
      "(-0.015, 1.4]     5906\n",
      "(1.4, 2.8]       18608\n",
      "(2.8, 4.2]         887\n",
      "(4.2, 5.6]          45\n",
      "(5.6, 7.0]          18\n",
      "(7.0, 8.4]           2\n",
      "(8.4, 9.8]           2\n",
      "(9.8, 11.2]          4\n",
      "(11.2, 12.6]         0\n",
      "(12.6, 14.0]         2\n",
      "Name: garagecarcnt, dtype: int64\n",
      "(-4.252000000000001, 425.1]    11937\n",
      "(425.1, 850.2]                 13160\n",
      "(850.2, 1275.3]                  323\n",
      "(1275.3, 1700.4]                  38\n",
      "(1700.4, 2125.5]                   6\n",
      "(2125.5, 2550.6]                   2\n",
      "(2550.6, 2975.7]                   4\n",
      "(2975.7, 3400.8]                   2\n",
      "(3400.8, 3825.9]                   1\n",
      "(3825.9, 4251.0]                   1\n",
      "Name: garagetotalsqft, dtype: int64\n",
      "(0.9989, 0.9992]       0\n",
      "(0.9992, 0.9994]       0\n",
      "(0.9994, 0.9996]       0\n",
      "(0.9996, 0.9998]       0\n",
      "(0.9998, 1.0]       1538\n",
      "(1.0, 1.0002]          0\n",
      "(1.0002, 1.0004]       0\n",
      "(1.0004, 1.0006]       0\n",
      "(1.0006, 1.0008]       0\n",
      "(1.0008, 1.001]        0\n",
      "Name: hashottuborspa, dtype: int64\n",
      "(0.976, 3.3]    33563\n",
      "(3.3, 5.6]          0\n",
      "(5.6, 7.9]      14841\n",
      "(7.9, 10.2]         3\n",
      "(10.2, 12.5]        1\n",
      "(12.5, 14.8]       59\n",
      "(14.8, 17.1]        0\n",
      "(17.1, 19.4]       23\n",
      "(19.4, 21.7]      104\n",
      "(21.7, 24.0]      846\n",
      "Name: heatingorsystemtypeid, dtype: int64\n",
      "(33338047.759000003, 33487451.0]     1045\n",
      "(33487451.0, 33635375.0]             5318\n",
      "(33635375.0, 33783299.0]            10047\n",
      "(33783299.0, 33931223.0]            14789\n",
      "(33931223.0, 34079147.0]            14222\n",
      "(34079147.0, 34227071.0]            18893\n",
      "(34227071.0, 34374995.0]             6261\n",
      "(34374995.0, 34522919.0]             3146\n",
      "(34522919.0, 34670843.0]             2321\n",
      "(34670843.0, 34818767.0]             1339\n",
      "Name: latitude, dtype: int64\n",
      "(-119477336.781, -119283338.0]      221\n",
      "(-119283338.0, -119091260.0]       1997\n",
      "(-119091260.0, -118899182.0]       1494\n",
      "(-118899182.0, -118707104.0]       2660\n",
      "(-118707104.0, -118515026.0]       5926\n",
      "(-118515026.0, -118322948.0]      15424\n",
      "(-118322948.0, -118130870.0]      15361\n",
      "(-118130870.0, -117938792.0]      14219\n",
      "(-117938792.0, -117746714.0]      12689\n",
      "(-117746714.0, -117554636.0]       7390\n",
      "Name: longitude, dtype: int64\n",
      "(-6734.775000000001, 697313.4]    68856\n",
      "(697313.4, 1394390.8]               227\n",
      "(1394390.8, 2091468.2]               40\n",
      "(2091468.2, 2788545.6]                2\n",
      "(2788545.6, 3485623.0]                1\n",
      "(3485623.0, 4182700.4]                9\n",
      "(4182700.4, 4879777.8]                0\n",
      "(4879777.8, 5576855.2]                0\n",
      "(5576855.2, 6273932.6]                0\n",
      "(6273932.6, 6971010.0]                7\n",
      "Name: lotsizesquarefeet, dtype: int64\n",
      "(0.9989, 0.9992]        0\n",
      "(0.9992, 0.9994]        0\n",
      "(0.9994, 0.9996]        0\n",
      "(0.9996, 0.9998]        0\n",
      "(0.9998, 1.0]       16137\n",
      "(1.0, 1.0002]           0\n",
      "(1.0002, 1.0004]        0\n",
      "(1.0004, 1.0006]        0\n",
      "(1.0006, 1.0008]        0\n",
      "(1.0008, 1.001]         0\n",
      "Name: poolcnt, dtype: int64\n",
      "(22.523, 171.6]       7\n",
      "(171.6, 319.2]       47\n",
      "(319.2, 466.8]      322\n",
      "(466.8, 614.4]      306\n",
      "(614.4, 762.0]      123\n",
      "(762.0, 909.6]       48\n",
      "(909.6, 1057.2]       7\n",
      "(1057.2, 1204.8]      5\n",
      "(1204.8, 1352.4]      0\n",
      "(1352.4, 1500.0]      2\n",
      "Name: poolsizesum, dtype: int64\n",
      "(0.9989, 0.9992]      0\n",
      "(0.9992, 0.9994]      0\n",
      "(0.9994, 0.9996]      0\n",
      "(0.9996, 0.9998]      0\n",
      "(0.9998, 1.0]       464\n",
      "(1.0, 1.0002]         0\n",
      "(1.0002, 1.0004]      0\n",
      "(1.0004, 1.0006]      0\n",
      "(1.0006, 1.0008]      0\n",
      "(1.0008, 1.001]       0\n",
      "Name: pooltypeid10, dtype: int64\n",
      "(0.9989, 0.9992]       0\n",
      "(0.9992, 0.9994]       0\n",
      "(0.9994, 0.9996]       0\n",
      "(0.9996, 0.9998]       0\n",
      "(0.9998, 1.0]       1074\n",
      "(1.0, 1.0002]          0\n",
      "(1.0002, 1.0004]       0\n",
      "(1.0004, 1.0006]       0\n",
      "(1.0006, 1.0008]       0\n",
      "(1.0008, 1.001]        0\n",
      "Name: pooltypeid2, dtype: int64\n",
      "(0.9989, 0.9992]        0\n",
      "(0.9992, 0.9994]        0\n",
      "(0.9994, 0.9996]        0\n",
      "(0.9996, 0.9998]        0\n",
      "(0.9998, 1.0]       15042\n",
      "(1.0, 1.0002]           0\n",
      "(1.0002, 1.0004]        0\n",
      "(1.0004, 1.0006]        0\n",
      "(1.0006, 1.0008]        0\n",
      "(1.0008, 1.001]         0\n",
      "Name: pooltypeid7, dtype: int64\n",
      "0100    26714\n",
      "122     13045\n",
      "010C     8813\n",
      "0101     6399\n",
      "34       4922\n",
      "        ...  \n",
      "0115        1\n",
      "0131        1\n",
      "1432        1\n",
      "040G        1\n",
      "020E        1\n",
      "Name: propertycountylandusecode, Length: 75, dtype: int64\n",
      "(30.755, 55.4]       15\n",
      "(55.4, 79.8]          0\n",
      "(79.8, 104.2]         0\n",
      "(104.2, 128.6]        0\n",
      "(128.6, 153.0]        0\n",
      "(153.0, 177.4]        0\n",
      "(177.4, 201.8]        0\n",
      "(201.8, 226.2]        0\n",
      "(226.2, 250.6]     3271\n",
      "(250.6, 275.0]    74095\n",
      "Name: propertylandusetypeid, dtype: int64\n",
      "LAR1         6747\n",
      "LAR3         2437\n",
      "LARS         1389\n",
      "LBR1N        1222\n",
      "LARD1.5      1127\n",
      "             ... \n",
      "PSR47200*       1\n",
      "LBRR2I          1\n",
      "PD SP           1\n",
      "AVR2*           1\n",
      "BFA15000*       1\n",
      "Name: propertyzoningdesc, Length: 1907, dtype: int64\n",
      "(60370272.019999996, 60444919.091]    50551\n",
      "(60444919.091, 60518827.081]              0\n",
      "(60518827.081, 60592735.071]          20593\n",
      "(60592735.071, 60666643.061]              0\n",
      "(60666643.061, 60740551.052]              0\n",
      "(60740551.052, 60814459.042]              0\n",
      "(60814459.042, 60888367.032]              0\n",
      "(60888367.032, 60962275.022]              0\n",
      "(60962275.022, 61036183.012]              0\n",
      "(61036183.012, 61110091.002]           6237\n",
      "Name: rawcensustractandblock, dtype: int64\n",
      "(3097.9339999999997, 42797.5]    55659\n",
      "(42797.5, 82104.0]               18118\n",
      "(82104.0, 121410.5]               1053\n",
      "(121410.5, 160717.0]                 0\n",
      "(160717.0, 200023.5]                 0\n",
      "(200023.5, 239330.0]                 0\n",
      "(239330.0, 278636.5]                24\n",
      "(278636.5, 317943.0]                 0\n",
      "(317943.0, 357249.5]                 0\n",
      "(357249.5, 396556.0]              1056\n",
      "Name: regionidcity, dtype: int64\n",
      "(1284.184, 1467.5]    20593\n",
      "(1467.5, 1649.0]          0\n",
      "(1649.0, 1830.5]          0\n",
      "(1830.5, 2012.0]          0\n",
      "(2012.0, 2193.5]       6237\n",
      "(2193.5, 2375.0]          0\n",
      "(2375.0, 2556.5]          0\n",
      "(2556.5, 2738.0]          0\n",
      "(2738.0, 2919.5]          0\n",
      "(2919.5, 3101.0]      50551\n",
      "Name: regionidcounty, dtype: int64\n",
      "(6194.784, 82673.5]     11546\n",
      "(82673.5, 158395.0]      4585\n",
      "(158395.0, 234116.5]       43\n",
      "(234116.5, 309838.0]    11551\n",
      "(309838.0, 385559.5]       77\n",
      "(385559.5, 461281.0]     1948\n",
      "(461281.0, 537002.5]        0\n",
      "(537002.5, 612724.0]        0\n",
      "(612724.0, 688445.5]       66\n",
      "(688445.5, 764167.0]     1074\n",
      "Name: regionidneighborhood, dtype: int64\n",
      "(95678.306, 126351.3]    77319\n",
      "(126351.3, 156720.6]         0\n",
      "(156720.6, 187089.9]         0\n",
      "(187089.9, 217459.2]         0\n",
      "(217459.2, 247828.5]         0\n",
      "(247828.5, 278197.8]         0\n",
      "(278197.8, 308567.1]         0\n",
      "(308567.1, 338936.4]         0\n",
      "(338936.4, 369305.7]         0\n",
      "(369305.7, 399675.0]        12\n",
      "Name: regionidzip, dtype: int64\n",
      "(-0.016, 1.5]    59809\n",
      "(1.5, 3.0]         226\n",
      "(3.0, 4.5]        1415\n",
      "(4.5, 6.0]        7529\n",
      "(6.0, 7.5]        3838\n",
      "(7.5, 9.0]        4065\n",
      "(9.0, 10.5]        339\n",
      "(10.5, 12.0]       143\n",
      "(12.0, 13.5]        10\n",
      "(13.5, 15.0]         7\n",
      "Name: roomcnt, dtype: int64\n",
      "(6.992, 6.994]     0\n",
      "(6.994, 6.996]     0\n",
      "(6.996, 6.997]     0\n",
      "(6.997, 6.999]     0\n",
      "(6.999, 7.0]      50\n",
      "(7.0, 7.001]       0\n",
      "(7.001, 7.003]     0\n",
      "(7.003, 7.004]     0\n",
      "(7.004, 7.006]     0\n",
      "(7.006, 7.007]     0\n",
      "Name: storytypeid, dtype: int64\n",
      "(0.993, 1.6]    10012\n",
      "(1.6, 2.2]         75\n",
      "(2.2, 2.8]          0\n",
      "(2.8, 3.4]          8\n",
      "(3.4, 4.0]          0\n",
      "(4.0, 4.6]          0\n",
      "(4.6, 5.2]          0\n",
      "(5.2, 5.8]          0\n",
      "(5.8, 6.4]          0\n",
      "(6.4, 7.0]          1\n",
      "Name: threequarterbathnbr, dtype: int64\n",
      "(3.99, 4.9]       1\n",
      "(4.9, 5.8]        0\n",
      "(5.8, 6.7]      219\n",
      "(6.7, 7.6]        0\n",
      "(7.6, 8.5]        0\n",
      "(8.5, 9.4]        0\n",
      "(9.4, 10.3]       1\n",
      "(10.3, 11.2]      0\n",
      "(11.2, 12.1]      0\n",
      "(12.1, 13.0]      1\n",
      "Name: typeconstructiontypeid, dtype: int64\n",
      "(0.763, 24.6]     50560\n",
      "(24.6, 48.2]          2\n",
      "(48.2, 71.8]          0\n",
      "(71.8, 95.4]          0\n",
      "(95.4, 119.0]         0\n",
      "(119.0, 142.6]        0\n",
      "(142.6, 166.2]        0\n",
      "(166.2, 189.8]        0\n",
      "(189.8, 213.4]        0\n",
      "(213.4, 237.0]        1\n",
      "Name: unitcnt, dtype: int64\n",
      "(7.819, 329.0]      1635\n",
      "(329.0, 647.0]       607\n",
      "(647.0, 965.0]        95\n",
      "(965.0, 1283.0]       34\n",
      "(1283.0, 1601.0]       9\n",
      "(1601.0, 1919.0]       1\n",
      "(1919.0, 2237.0]       2\n",
      "(2237.0, 2555.0]       2\n",
      "(2555.0, 2873.0]       1\n",
      "(2873.0, 3191.0]       2\n",
      "Name: yardbuildingsqft17, dtype: int64\n",
      "(11.143, 97.6]    24\n",
      "(97.6, 183.2]     14\n",
      "(183.2, 268.8]    10\n",
      "(268.8, 354.4]     7\n",
      "(354.4, 440.0]     4\n",
      "(440.0, 525.6]     6\n",
      "(525.6, 611.2]     2\n",
      "(611.2, 696.8]     1\n",
      "(696.8, 782.4]     1\n",
      "(782.4, 868.0]     1\n",
      "Name: yardbuildingsqft26, dtype: int64\n",
      "(1823.807, 1843.2]        1\n",
      "(1843.2, 1862.4]          0\n",
      "(1862.4, 1881.6]          3\n",
      "(1881.6, 1900.8]         90\n",
      "(1900.8, 1920.0]       1743\n",
      "(1920.0, 1939.2]       6688\n",
      "(1939.2, 1958.4]      18463\n",
      "(1958.4, 1977.6]      20355\n",
      "(1977.6, 1996.8]      19097\n",
      "(1996.8, 2016.0]      10678\n",
      "Name: yearbuilt, dtype: int64\n",
      "(0.994, 1.5]    10366\n",
      "(1.5, 2.0]       6757\n",
      "(2.0, 2.5]          0\n",
      "(2.5, 3.0]        436\n",
      "(3.0, 3.5]          0\n",
      "(3.5, 4.0]          0\n",
      "(4.0, 4.5]          0\n",
      "(4.5, 5.0]          0\n",
      "(5.0, 5.5]          0\n",
      "(5.5, 6.0]          1\n",
      "Name: numberofstories, dtype: int64\n",
      "(0.9989, 0.9992]      0\n",
      "(0.9992, 0.9994]      0\n",
      "(0.9994, 0.9996]      0\n",
      "(0.9996, 0.9998]      0\n",
      "(0.9998, 1.0]       172\n",
      "(1.0, 1.0002]         0\n",
      "(1.0002, 1.0004]      0\n",
      "(1.0004, 1.0006]      0\n",
      "(1.0006, 1.0008]      0\n",
      "(1.0008, 1.001]       0\n",
      "Name: fireplaceflag, dtype: int64\n",
      "(-11377.747, 1142218.6]     76665\n",
      "(1142218.6, 2284393.2]        493\n",
      "(2284393.2, 3426567.8]         73\n",
      "(3426567.8, 4568742.4]         19\n",
      "(4568742.4, 5710917.0]          9\n",
      "(5710917.0, 6853091.6]          2\n",
      "(6853091.6, 7995266.2]          6\n",
      "(7995266.2, 9137440.8]          0\n",
      "(9137440.8, 10279615.4]         1\n",
      "(10279615.4, 11421790.0]        1\n",
      "Name: structuretaxvaluedollarcnt, dtype: int64\n",
      "(-48060.236999999994, 4907023.6]    77156\n",
      "(4907023.6, 9813047.2]                184\n",
      "(9813047.2, 14719070.8]                26\n",
      "(14719070.8, 19625094.4]                8\n",
      "(19625094.4, 24531118.0]                4\n",
      "(24531118.0, 29437141.6]                1\n",
      "(29437141.6, 34343165.2]                0\n",
      "(34343165.2, 39249188.8]                0\n",
      "(39249188.8, 44155212.4]                0\n",
      "(44155212.4, 49061236.0]                1\n",
      "Name: taxvaluedollarcnt, dtype: int64\n",
      "(2013.983, 2014.387]        0\n",
      "(2014.387, 2014.79]         0\n",
      "(2014.79, 2015.194]         0\n",
      "(2015.194, 2015.597]        0\n",
      "(2015.597, 2016.0]      77381\n",
      "(2016.0, 2016.403]          0\n",
      "(2016.403, 2016.806]        0\n",
      "(2016.806, 2017.21]         0\n",
      "(2017.21, 2017.613]         0\n",
      "(2017.613, 2018.016]        0\n",
      "Name: assessmentyear, dtype: int64\n",
      "(-48791.03799999999, 4895364.7]    77270\n",
      "(4895364.7, 9790568.4]                88\n",
      "(9790568.4, 14685772.1]               14\n",
      "(14685772.1, 19580975.8]               5\n",
      "(19580975.8, 24476179.5]               1\n",
      "(24476179.5, 29371383.2]               0\n",
      "(29371383.2, 34266586.9]               0\n",
      "(34266586.9, 39161790.6]               0\n",
      "(39161790.6, 44056994.3]               0\n",
      "(44056994.3, 48952198.0]               1\n",
      "Name: landtaxvaluedollarcnt, dtype: int64\n",
      "(-566.6999999999999, 58681.858]    77163\n",
      "(58681.858, 117343.796]              177\n",
      "(117343.796, 176005.734]              22\n",
      "(176005.734, 234667.672]               9\n",
      "(234667.672, 293329.61]                4\n",
      "(293329.61, 351991.548]                0\n",
      "(351991.548, 410653.486]               0\n",
      "(410653.486, 469315.424]               0\n",
      "(469315.424, 527977.362]               0\n",
      "(527977.362, 586639.3]                 1\n",
      "Name: taxamount, dtype: int64\n",
      "Y    2886\n",
      "Name: taxdelinquencyflag, dtype: int64\n",
      "(2.903, 12.6]     351\n",
      "(12.6, 22.2]     2534\n",
      "(22.2, 31.8]        0\n",
      "(31.8, 41.4]        0\n",
      "(41.4, 51.0]        0\n",
      "(51.0, 60.6]        0\n",
      "(60.6, 70.2]        0\n",
      "(70.2, 79.8]        0\n",
      "(79.8, 89.4]        0\n",
      "(89.4, 99.0]        1\n",
      "Name: taxdelinquencyyear, dtype: int64\n",
      "(59948352007016.984, 102636920499301.5]    77136\n",
      "(102636920499301.5, 144902829897603.0]         0\n",
      "(144902829897603.0, 187168739295904.5]         0\n",
      "(187168739295904.5, 229434648694206.03]        0\n",
      "(229434648694206.03, 271700558092507.5]        0\n",
      "(271700558092507.5, 313966467490809.0]         0\n",
      "(313966467490809.0, 356232376889110.5]         0\n",
      "(356232376889110.5, 398498286287411.94]        0\n",
      "(398498286287411.94, 440764195685713.5]        0\n",
      "(440764195685713.5, 483030105084015.0]         1\n",
      "Name: censustractandblock, dtype: int64\n",
      "(-4.666, -3.664]        3\n",
      "(-3.664, -2.672]        1\n",
      "(-2.672, -1.68]        36\n",
      "(-1.68, -0.688]       142\n",
      "(-0.688, 0.304]     75340\n",
      "(0.304, 1.296]       1684\n",
      "(1.296, 2.287]        102\n",
      "(2.287, 3.279]         71\n",
      "(3.279, 4.271]          1\n",
      "(4.271, 5.263]          1\n",
      "Name: logerror, dtype: int64\n",
      "2017-06-30    1189\n",
      "2017-04-28     911\n",
      "2017-05-31     867\n",
      "2017-07-28     814\n",
      "2017-08-31     781\n",
      "              ... \n",
      "2017-03-12       1\n",
      "2017-07-22       1\n",
      "2017-08-05       1\n",
      "2017-08-06       1\n",
      "2018-05-25       1\n",
      "Name: transactiondate, Length: 265, dtype: int64\n",
      "Central          23133\n",
      "Yes               1574\n",
      "None               167\n",
      "Wall Unit           53\n",
      "Refrigeration       26\n",
      "Name: airconditioningdesc, dtype: int64\n",
      "Contemporary     172\n",
      "Conventional      19\n",
      "Ranch/Rambler      7\n",
      "Bungalow           5\n",
      "Cape Cod           3\n",
      "Name: architecturalstyledesc, dtype: int64\n",
      "Buildings having wood or wood and steel frames                                                                                                                                                                                             14\n",
      "Buildings having exterior walls built of a non-combustible material such as brick, concrete, block or poured concrete. Interior partitions and roof structures are built of combustible materials. Floor may be concrete or wood frame.     1\n",
      "Name: buildingclassdesc, dtype: int64\n",
      "Central       33550\n",
      "Floor/Wall    14065\n",
      "Yes             846\n",
      "Forced air      776\n",
      "Solar           104\n",
      "None             59\n",
      "Radiant          23\n",
      "Baseboard        13\n",
      "Gravity           3\n",
      "Heat Pump         1\n",
      "Name: heatingorsystemdesc, dtype: int64\n",
      "Single Family Residential                     52320\n",
      "Condominium                                   19294\n",
      "Duplex (2 Units, Any Combination)              2009\n",
      "Planned Unit Development                       1944\n",
      "Quadruplex (4 Units, Any Combination)           727\n",
      "Triplex (3 Units, Any Combination)              535\n",
      "Cluster Home                                    333\n",
      "Mobile Home                                      74\n",
      "Manufactured, Modular, Prefabricated Homes       58\n",
      "Residential General                              37\n",
      "Cooperative                                      29\n",
      "Commercial/Office/Residential Mixed Used         15\n",
      "Townhouse                                         6\n",
      "Name: propertylandusedesc, dtype: int64\n",
      "Basement    50\n",
      "Name: storydesc, dtype: int64\n",
      "Frame       219\n",
      "Masonry       1\n",
      "Metal         1\n",
      "Concrete      1\n",
      "Name: typeconstructiondesc, dtype: int64\n",
      "=====================================================\n",
      "\n",
      "\n",
      "Nulls by Column: \n"
     ]
    },
    {
     "name": "stdout",
     "output_type": "stream",
     "text": [
      "                          num_rows_missing  percent_rows_missing\n",
      "parcelid                                 0              0.000000\n",
      "airconditioningtypeid                52428             67.753066\n",
      "architecturalstyletypeid             77175             99.733785\n",
      "basementsqft                         77331             99.935385\n",
      "bathroomcnt                              0              0.000000\n",
      "...                                    ...                   ...\n",
      "buildingclassdesc                    77366             99.980615\n",
      "heatingorsystemdesc                  27941             36.108347\n",
      "propertylandusedesc                      0              0.000000\n",
      "storydesc                            77331             99.935385\n",
      "typeconstructiondesc                 77159             99.713108\n",
      "\n",
      "[67 rows x 2 columns]\n",
      "=====================================================\n",
      "\n",
      "\n",
      "Nulls by Row: \n",
      "   num_cols_missing percent_cols_missing  index\n",
      "0                23    34.32835820895522      2\n",
      "1                24    35.82089552238806     13\n",
      "2                25     37.3134328358209     24\n",
      "3                26    38.80597014925373     65\n",
      "4                27   40.298507462686565    316\n",
      "5                28     41.7910447761194    455\n",
      "6                29    43.28358208955223   5270\n",
      "7                30   44.776119402985074   3455\n",
      "8                31    46.26865671641791   9891\n",
      "9                32    47.76119402985074  12579\n",
      "10               33    49.25373134328358  14782\n",
      "11               34    50.74626865671642  13327\n",
      "12               35    52.23880597014925   5148\n",
      "13               36    53.73134328358209   5775\n",
      "14               37   55.223880597014926   3620\n",
      "15               38    56.71641791044776   1925\n",
      "16               39     58.2089552238806    285\n",
      "17               40    59.70149253731343    230\n",
      "18               41    61.19402985074627     29\n",
      "19               42    62.68656716417911     23\n",
      "20               43    64.17910447761194     28\n",
      "21               44    65.67164179104478     78\n",
      "22               45    67.16417910447761     50\n",
      "23               46    68.65671641791045      5\n",
      "24               47     70.1492537313433      3\n",
      "25               48    71.64179104477611      3\n",
      "=====================================================\n",
      "\n",
      "\n",
      "Column Stats: \n",
      "                                count          mean           std  \\\n",
      "parcelid                      77381.0  1.300715e+07  3.481346e+06   \n",
      "airconditioningtypeid         24953.0  1.813289e+00  2.967894e+00   \n",
      "architecturalstyletypeid        206.0  7.388350e+00  2.734542e+00   \n",
      "basementsqft                     50.0  6.797200e+02  6.897035e+02   \n",
      "bathroomcnt                   77381.0  2.299130e+00  9.966507e-01   \n",
      "bedroomcnt                    77381.0  3.053489e+00  1.139096e+00   \n",
      "buildingclasstypeid              15.0  3.933333e+00  2.581989e-01   \n",
      "buildingqualitytypeid         49672.0  6.534587e+00  1.721953e+00   \n",
      "calculatedbathnbr             76772.0  2.316867e+00  9.797549e-01   \n",
      "decktypeid                      614.0  6.600000e+01  0.000000e+00   \n",
      "finishedfloor1squarefeet       6023.0  1.366513e+03  6.713081e+02   \n",
      "calculatedfinishedsquarefeet  77185.0  1.785220e+03  9.540493e+02   \n",
      "finishedsquarefeet12          73749.0  1.760523e+03  9.340243e+02   \n",
      "finishedsquarefeet13             41.0  1.389854e+03  1.235317e+02   \n",
      "finishedsquarefeet15           3009.0  2.357792e+03  1.188775e+03   \n",
      "finishedsquarefeet50           6023.0  1.381772e+03  7.264689e+02   \n",
      "finishedsquarefeet6             386.0  2.082500e+03  1.240383e+03   \n",
      "fips                          77381.0  6.048819e+03  2.074820e+01   \n",
      "fireplacecnt                   8276.0  1.191155e+00  4.910796e-01   \n",
      "fullbathcnt                   76772.0  2.250482e+00  9.665521e-01   \n",
      "garagecarcnt                  25474.0  1.815459e+00  5.883449e-01   \n",
      "garagetotalsqft               25474.0  3.501120e+02  2.616816e+02   \n",
      "hashottuborspa                 1538.0  1.000000e+00  0.000000e+00   \n",
      "heatingorsystemtypeid         49440.0  3.920510e+00  3.592779e+00   \n",
      "latitude                      77381.0  3.400837e+07  2.653888e+05   \n",
      "longitude                     77381.0 -1.182036e+08  3.594826e+05   \n",
      "lotsizesquarefeet             69142.0  2.996928e+04  1.233711e+05   \n",
      "poolcnt                       16137.0  1.000000e+00  0.000000e+00   \n",
      "poolsizesum                     867.0  5.179170e+02  1.567160e+02   \n",
      "pooltypeid10                    464.0  1.000000e+00  0.000000e+00   \n",
      "pooltypeid2                    1074.0  1.000000e+00  0.000000e+00   \n",
      "pooltypeid7                   15042.0  1.000000e+00  0.000000e+00   \n",
      "propertylandusetypeid         77381.0  2.618263e+02  5.141199e+00   \n",
      "rawcensustractandblock        77381.0  6.049129e+07  2.059052e+05   \n",
      "regionidcity                  75910.0  3.367124e+04  4.716982e+04   \n",
      "regionidcounty                77381.0  2.534158e+03  8.015934e+02   \n",
      "regionidneighborhood          30890.0  1.877349e+05  1.651188e+05   \n",
      "regionidzip                   77331.0  9.658709e+04  3.798347e+03   \n",
      "roomcnt                       77381.0  1.476952e+00  2.824386e+00   \n",
      "storytypeid                      50.0  7.000000e+00  0.000000e+00   \n",
      "threequarterbathnbr           10096.0  1.009608e+00  1.186301e-01   \n",
      "typeconstructiontypeid          222.0  6.040541e+00  5.572847e-01   \n",
      "unitcnt                       50563.0  1.110021e+00  1.171154e+00   \n",
      "yardbuildingsqft17             2388.0  3.054112e+02  2.383928e+02   \n",
      "yardbuildingsqft26               70.0  2.163857e+02  1.901775e+02   \n",
      "yearbuilt                     77118.0  1.968636e+03  2.378603e+01   \n",
      "numberofstories               17560.0  1.434738e+00  5.445687e-01   \n",
      "fireplaceflag                   172.0  1.000000e+00  0.000000e+00   \n",
      "structuretaxvaluedollarcnt    77269.0  1.893145e+05  2.300874e+05   \n",
      "taxvaluedollarcnt             77380.0  4.901345e+05  6.534440e+05   \n",
      "assessmentyear                77381.0  2.016000e+03  0.000000e+00   \n",
      "landtaxvaluedollarcnt         77379.0  3.010954e+05  4.925960e+05   \n",
      "taxamount                     77376.0  5.995532e+03  7.622844e+03   \n",
      "taxdelinquencyyear             2886.0  1.408732e+01  2.185663e+00   \n",
      "censustractandblock           77137.0  6.049673e+13  1.535242e+12   \n",
      "logerror                      77381.0  1.662499e-02  1.701908e-01   \n",
      "\n",
      "                                       min           25%           50%  \\\n",
      "parcelid                      1.071186e+07  1.153830e+07  1.253157e+07   \n",
      "airconditioningtypeid         1.000000e+00  1.000000e+00  1.000000e+00   \n",
      "architecturalstyletypeid      2.000000e+00  7.000000e+00  7.000000e+00   \n",
      "basementsqft                  3.800000e+01  2.730000e+02  5.150000e+02   \n",
      "bathroomcnt                   0.000000e+00  2.000000e+00  2.000000e+00   \n",
      "bedroomcnt                    0.000000e+00  2.000000e+00  3.000000e+00   \n",
      "buildingclasstypeid           3.000000e+00  4.000000e+00  4.000000e+00   \n",
      "buildingqualitytypeid         1.000000e+00  6.000000e+00  6.000000e+00   \n",
      "calculatedbathnbr             1.000000e+00  2.000000e+00  2.000000e+00   \n",
      "decktypeid                    6.600000e+01  6.600000e+01  6.600000e+01   \n",
      "finishedfloor1squarefeet      4.400000e+01  9.550000e+02  1.257000e+03   \n",
      "calculatedfinishedsquarefeet  1.280000e+02  1.182000e+03  1.543000e+03   \n",
      "finishedsquarefeet12          1.280000e+02  1.172000e+03  1.523000e+03   \n",
      "finishedsquarefeet13          1.056000e+03  1.344000e+03  1.440000e+03   \n",
      "finishedsquarefeet15          5.980000e+02  1.625000e+03  2.094000e+03   \n",
      "finishedsquarefeet50          4.400000e+01  9.560000e+02  1.259000e+03   \n",
      "finishedsquarefeet6           3.800000e+02  9.937500e+02  1.812500e+03   \n",
      "fips                          6.037000e+03  6.037000e+03  6.037000e+03   \n",
      "fireplacecnt                  1.000000e+00  1.000000e+00  1.000000e+00   \n",
      "fullbathcnt                   1.000000e+00  2.000000e+00  2.000000e+00   \n",
      "garagecarcnt                  0.000000e+00  2.000000e+00  2.000000e+00   \n",
      "garagetotalsqft               0.000000e+00  0.000000e+00  4.360000e+02   \n",
      "hashottuborspa                1.000000e+00  1.000000e+00  1.000000e+00   \n",
      "heatingorsystemtypeid         1.000000e+00  2.000000e+00  2.000000e+00   \n",
      "latitude                      3.333953e+07  3.381457e+07  3.402200e+07   \n",
      "longitude                    -1.194754e+08 -1.184153e+08 -1.181808e+08   \n",
      "lotsizesquarefeet             2.360000e+02  5.700000e+03  7.206000e+03   \n",
      "poolcnt                       1.000000e+00  1.000000e+00  1.000000e+00   \n",
      "poolsizesum                   2.400000e+01  4.240000e+02  5.000000e+02   \n",
      "pooltypeid10                  1.000000e+00  1.000000e+00  1.000000e+00   \n",
      "pooltypeid2                   1.000000e+00  1.000000e+00  1.000000e+00   \n",
      "pooltypeid7                   1.000000e+00  1.000000e+00  1.000000e+00   \n",
      "propertylandusetypeid         3.100000e+01  2.610000e+02  2.610000e+02   \n",
      "rawcensustractandblock        6.037101e+07  6.037311e+07  6.037603e+07   \n",
      "regionidcity                  3.491000e+03  1.244700e+04  2.521800e+04   \n",
      "regionidcounty                1.286000e+03  1.286000e+03  3.101000e+03   \n",
      "regionidneighborhood          6.952000e+03  4.673600e+04  1.188490e+05   \n",
      "regionidzip                   9.598200e+04  9.619300e+04  9.638900e+04   \n",
      "roomcnt                       0.000000e+00  0.000000e+00  0.000000e+00   \n",
      "storytypeid                   7.000000e+00  7.000000e+00  7.000000e+00   \n",
      "threequarterbathnbr           1.000000e+00  1.000000e+00  1.000000e+00   \n",
      "typeconstructiontypeid        4.000000e+00  6.000000e+00  6.000000e+00   \n",
      "unitcnt                       1.000000e+00  1.000000e+00  1.000000e+00   \n",
      "yardbuildingsqft17            1.100000e+01  1.700000e+02  2.510000e+02   \n",
      "yardbuildingsqft26            1.200000e+01  6.150000e+01  1.645000e+02   \n",
      "yearbuilt                     1.824000e+03  1.953000e+03  1.970000e+03   \n",
      "numberofstories               1.000000e+00  1.000000e+00  1.000000e+00   \n",
      "fireplaceflag                 1.000000e+00  1.000000e+00  1.000000e+00   \n",
      "structuretaxvaluedollarcnt    4.400000e+01  8.426500e+04  1.364990e+05   \n",
      "taxvaluedollarcnt             1.000000e+03  2.070000e+05  3.589755e+05   \n",
      "assessmentyear                2.016000e+03  2.016000e+03  2.016000e+03   \n",
      "landtaxvaluedollarcnt         1.610000e+02  8.550400e+04  2.033720e+05   \n",
      "taxamount                     1.992000e+01  2.715632e+03  4.450695e+03   \n",
      "taxdelinquencyyear            3.000000e+00  1.400000e+01  1.500000e+01   \n",
      "censustractandblock           6.037101e+13  6.037311e+13  6.037603e+13   \n",
      "logerror                     -4.655420e+00 -2.437679e-02  6.626972e-03   \n",
      "\n",
      "                                       75%           max         range  \n",
      "parcelid                      1.421183e+07  1.676893e+08  1.569775e+08  \n",
      "airconditioningtypeid         1.000000e+00  1.300000e+01  1.200000e+01  \n",
      "architecturalstyletypeid      7.000000e+00  2.100000e+01  1.900000e+01  \n",
      "basementsqft                  7.965000e+02  3.560000e+03  3.522000e+03  \n",
      "bathroomcnt                   3.000000e+00  1.800000e+01  1.800000e+01  \n",
      "bedroomcnt                    4.000000e+00  1.600000e+01  1.600000e+01  \n",
      "buildingclasstypeid           4.000000e+00  4.000000e+00  1.000000e+00  \n",
      "buildingqualitytypeid         8.000000e+00  1.200000e+01  1.100000e+01  \n",
      "calculatedbathnbr             3.000000e+00  1.800000e+01  1.700000e+01  \n",
      "decktypeid                    6.600000e+01  6.600000e+01  0.000000e+00  \n",
      "finishedfloor1squarefeet      1.615000e+03  6.912000e+03  6.868000e+03  \n",
      "calculatedfinishedsquarefeet  2.113000e+03  3.564000e+04  3.551200e+04  \n",
      "finishedsquarefeet12          2.076000e+03  2.192900e+04  2.180100e+04  \n",
      "finishedsquarefeet13          1.440000e+03  1.560000e+03  5.040000e+02  \n",
      "finishedsquarefeet15          2.838000e+03  3.564000e+04  3.504200e+04  \n",
      "finishedsquarefeet50          1.621500e+03  1.246700e+04  1.242300e+04  \n",
      "finishedsquarefeet6           3.053500e+03  5.598000e+03  5.218000e+03  \n",
      "fips                          6.059000e+03  6.111000e+03  7.400000e+01  \n",
      "fireplacecnt                  1.000000e+00  5.000000e+00  4.000000e+00  \n",
      "fullbathcnt                   3.000000e+00  1.800000e+01  1.700000e+01  \n",
      "garagecarcnt                  2.000000e+00  1.400000e+01  1.400000e+01  \n",
      "garagetotalsqft               4.930000e+02  4.251000e+03  4.251000e+03  \n",
      "hashottuborspa                1.000000e+00  1.000000e+00  0.000000e+00  \n",
      "heatingorsystemtypeid         7.000000e+00  2.400000e+01  2.300000e+01  \n",
      "latitude                      3.417439e+07  3.481877e+07  1.479240e+06  \n",
      "longitude                    -1.179284e+08 -1.175546e+08  1.920780e+06  \n",
      "lotsizesquarefeet             1.183100e+04  6.971010e+06  6.970774e+06  \n",
      "poolcnt                       1.000000e+00  1.000000e+00  0.000000e+00  \n",
      "poolsizesum                   6.000000e+02  1.500000e+03  1.476000e+03  \n",
      "pooltypeid10                  1.000000e+00  1.000000e+00  0.000000e+00  \n",
      "pooltypeid2                   1.000000e+00  1.000000e+00  0.000000e+00  \n",
      "pooltypeid7                   1.000000e+00  1.000000e+00  0.000000e+00  \n",
      "propertylandusetypeid         2.660000e+02  2.750000e+02  2.440000e+02  \n",
      "rawcensustractandblock        6.059042e+07  6.111009e+07  7.390799e+05  \n",
      "regionidcity                  4.545700e+04  3.965560e+05  3.930650e+05  \n",
      "regionidcounty                3.101000e+03  3.101000e+03  1.815000e+03  \n",
      "regionidneighborhood          2.747650e+05  7.641670e+05  7.572150e+05  \n",
      "regionidzip                   9.698700e+04  3.996750e+05  3.036930e+05  \n",
      "roomcnt                       0.000000e+00  1.500000e+01  1.500000e+01  \n",
      "storytypeid                   7.000000e+00  7.000000e+00  0.000000e+00  \n",
      "threequarterbathnbr           1.000000e+00  7.000000e+00  6.000000e+00  \n",
      "typeconstructiontypeid        6.000000e+00  1.300000e+01  9.000000e+00  \n",
      "unitcnt                       1.000000e+00  2.370000e+02  2.360000e+02  \n",
      "yardbuildingsqft17            3.640000e+02  3.191000e+03  3.180000e+03  \n",
      "yardbuildingsqft26            3.105000e+02  8.680000e+02  8.560000e+02  \n",
      "yearbuilt                     1.987000e+03  2.016000e+03  1.920000e+02  \n",
      "numberofstories               2.000000e+00  6.000000e+00  5.000000e+00  \n",
      "fireplaceflag                 1.000000e+00  1.000000e+00  0.000000e+00  \n",
      "structuretaxvaluedollarcnt    2.187870e+05  1.142179e+07  1.142175e+07  \n",
      "taxvaluedollarcnt             5.690015e+05  4.906124e+07  4.906024e+07  \n",
      "assessmentyear                2.016000e+03  2.016000e+03  0.000000e+00  \n",
      "landtaxvaluedollarcnt         3.667965e+05  4.895220e+07  4.895204e+07  \n",
      "taxamount                     6.927790e+03  5.866393e+05  5.866194e+05  \n",
      "taxdelinquencyyear            1.500000e+01  9.900000e+01  9.600000e+01  \n",
      "censustractandblock           6.059042e+13  4.830301e+14  4.226591e+14  \n",
      "logerror                      3.920313e-02  5.262999e+00  9.918419e+00  \n",
      "============================================\n"
     ]
    }
   ],
   "source": [
    "# Overview of raw data\n",
    "wr.summarize(zillow_raw)"
   ]
  },
  {
   "cell_type": "markdown",
   "id": "7138b0ef",
   "metadata": {},
   "source": [
    "### Prepare"
   ]
  },
  {
   "cell_type": "code",
   "execution_count": 6,
   "id": "fdb8a575",
   "metadata": {
    "scrolled": false
   },
   "outputs": [],
   "source": [
    "# Prepping raw zillow data, imputing in year_built,\n",
    "# dropping nulls, outliers and columns with too many null vals\n",
    "# such as storytypeid with only 50 non-null vals\n",
    "\n",
    "zillow_prep = wr.wrangle_zillow()"
   ]
  },
  {
   "cell_type": "code",
   "execution_count": 7,
   "id": "4dedc7d1",
   "metadata": {
    "scrolled": true
   },
   "outputs": [
    {
     "data": {
      "text/plain": [
       "(37435, 23)"
      ]
     },
     "execution_count": 7,
     "metadata": {},
     "output_type": "execute_result"
    }
   ],
   "source": [
    "zillow_prep.shape"
   ]
  },
  {
   "cell_type": "code",
   "execution_count": 8,
   "id": "f4733937",
   "metadata": {},
   "outputs": [
    {
     "name": "stdout",
     "output_type": "stream",
     "text": [
      "Dropped 44 columns. \n",
      "Dropped 39946 rows.\n"
     ]
    }
   ],
   "source": [
    "# Dropped column/row count\n",
    "print(f'Dropped {zillow_raw.shape[1] - zillow_prep.shape[1]} \\\n",
    "columns. \\nDropped {zillow_raw.shape[0] - zillow_prep.shape[0]} rows.')"
   ]
  },
  {
   "cell_type": "code",
   "execution_count": 9,
   "id": "6e814bf8",
   "metadata": {
    "scrolled": true
   },
   "outputs": [
    {
     "data": {
      "text/html": [
       "<div>\n",
       "<style scoped>\n",
       "    .dataframe tbody tr th:only-of-type {\n",
       "        vertical-align: middle;\n",
       "    }\n",
       "\n",
       "    .dataframe tbody tr th {\n",
       "        vertical-align: top;\n",
       "    }\n",
       "\n",
       "    .dataframe thead th {\n",
       "        text-align: right;\n",
       "    }\n",
       "</style>\n",
       "<table border=\"1\" class=\"dataframe\">\n",
       "  <thead>\n",
       "    <tr style=\"text-align: right;\">\n",
       "      <th></th>\n",
       "      <th>0</th>\n",
       "      <th>2</th>\n",
       "      <th>3</th>\n",
       "      <th>6</th>\n",
       "      <th>8</th>\n",
       "    </tr>\n",
       "  </thead>\n",
       "  <tbody>\n",
       "    <tr>\n",
       "      <th>bathrooms</th>\n",
       "      <td>3.5</td>\n",
       "      <td>2.0</td>\n",
       "      <td>3.0</td>\n",
       "      <td>3.0</td>\n",
       "      <td>3.0</td>\n",
       "    </tr>\n",
       "    <tr>\n",
       "      <th>bedrooms</th>\n",
       "      <td>4.0</td>\n",
       "      <td>3.0</td>\n",
       "      <td>4.0</td>\n",
       "      <td>4.0</td>\n",
       "      <td>4.0</td>\n",
       "    </tr>\n",
       "    <tr>\n",
       "      <th>quality_id</th>\n",
       "      <td>6</td>\n",
       "      <td>6</td>\n",
       "      <td>8</td>\n",
       "      <td>9</td>\n",
       "      <td>9</td>\n",
       "    </tr>\n",
       "    <tr>\n",
       "      <th>home_area</th>\n",
       "      <td>3100.0</td>\n",
       "      <td>1243.0</td>\n",
       "      <td>2376.0</td>\n",
       "      <td>2962.0</td>\n",
       "      <td>3039.0</td>\n",
       "    </tr>\n",
       "    <tr>\n",
       "      <th>latitude</th>\n",
       "      <td>33634931.0</td>\n",
       "      <td>33886168.0</td>\n",
       "      <td>34245180.0</td>\n",
       "      <td>34145202.0</td>\n",
       "      <td>33960230.0</td>\n",
       "    </tr>\n",
       "    <tr>\n",
       "      <th>longitude</th>\n",
       "      <td>-117869207.0</td>\n",
       "      <td>-117823170.0</td>\n",
       "      <td>-118240722.0</td>\n",
       "      <td>-118179824.0</td>\n",
       "      <td>-118006914.0</td>\n",
       "    </tr>\n",
       "    <tr>\n",
       "      <th>lot_area</th>\n",
       "      <td>4506.0</td>\n",
       "      <td>8432.0</td>\n",
       "      <td>13038.0</td>\n",
       "      <td>63000.0</td>\n",
       "      <td>20028.0</td>\n",
       "    </tr>\n",
       "    <tr>\n",
       "      <th>census_tb</th>\n",
       "      <td>60590630.072012</td>\n",
       "      <td>60590218.022012</td>\n",
       "      <td>60373001.001006</td>\n",
       "      <td>60374608.001014</td>\n",
       "      <td>60375002.024006</td>\n",
       "    </tr>\n",
       "    <tr>\n",
       "      <th>city_id</th>\n",
       "      <td>53571</td>\n",
       "      <td>21412</td>\n",
       "      <td>396551</td>\n",
       "      <td>47019</td>\n",
       "      <td>14634</td>\n",
       "    </tr>\n",
       "    <tr>\n",
       "      <th>county_id</th>\n",
       "      <td>1286</td>\n",
       "      <td>1286</td>\n",
       "      <td>3101</td>\n",
       "      <td>3101</td>\n",
       "      <td>3101</td>\n",
       "    </tr>\n",
       "    <tr>\n",
       "      <th>zip_code</th>\n",
       "      <td>96978</td>\n",
       "      <td>97078</td>\n",
       "      <td>96330</td>\n",
       "      <td>96293</td>\n",
       "      <td>96173</td>\n",
       "    </tr>\n",
       "    <tr>\n",
       "      <th>roomcnt</th>\n",
       "      <td>0</td>\n",
       "      <td>6</td>\n",
       "      <td>0</td>\n",
       "      <td>0</td>\n",
       "      <td>0</td>\n",
       "    </tr>\n",
       "    <tr>\n",
       "      <th>structure_tax</th>\n",
       "      <td>485713.0</td>\n",
       "      <td>85289.0</td>\n",
       "      <td>108918.0</td>\n",
       "      <td>276684.0</td>\n",
       "      <td>177527.0</td>\n",
       "    </tr>\n",
       "    <tr>\n",
       "      <th>tax_value</th>\n",
       "      <td>1023282.0</td>\n",
       "      <td>564778.0</td>\n",
       "      <td>145143.0</td>\n",
       "      <td>773303.0</td>\n",
       "      <td>220583.0</td>\n",
       "    </tr>\n",
       "    <tr>\n",
       "      <th>land_tax_value</th>\n",
       "      <td>537569.0</td>\n",
       "      <td>479489.0</td>\n",
       "      <td>36225.0</td>\n",
       "      <td>496619.0</td>\n",
       "      <td>43056.0</td>\n",
       "    </tr>\n",
       "    <tr>\n",
       "      <th>tax_paid</th>\n",
       "      <td>11013.72</td>\n",
       "      <td>6488.3</td>\n",
       "      <td>1777.51</td>\n",
       "      <td>9516.26</td>\n",
       "      <td>3104.19</td>\n",
       "    </tr>\n",
       "    <tr>\n",
       "      <th>logerror</th>\n",
       "      <td>0.025595</td>\n",
       "      <td>0.005383</td>\n",
       "      <td>-0.10341</td>\n",
       "      <td>-0.001011</td>\n",
       "      <td>-0.040966</td>\n",
       "    </tr>\n",
       "    <tr>\n",
       "      <th>heating_type</th>\n",
       "      <td>None</td>\n",
       "      <td>None</td>\n",
       "      <td>Central</td>\n",
       "      <td>Central</td>\n",
       "      <td>Central</td>\n",
       "    </tr>\n",
       "    <tr>\n",
       "      <th>year_built</th>\n",
       "      <td>1998</td>\n",
       "      <td>1962</td>\n",
       "      <td>1970</td>\n",
       "      <td>1950</td>\n",
       "      <td>1970</td>\n",
       "    </tr>\n",
       "    <tr>\n",
       "      <th>county</th>\n",
       "      <td>Orange</td>\n",
       "      <td>Orange</td>\n",
       "      <td>Los Angeles</td>\n",
       "      <td>Los Angeles</td>\n",
       "      <td>Los Angeles</td>\n",
       "    </tr>\n",
       "    <tr>\n",
       "      <th>yearly_tax</th>\n",
       "      <td>44491.0</td>\n",
       "      <td>9573.0</td>\n",
       "      <td>2846.0</td>\n",
       "      <td>10892.0</td>\n",
       "      <td>4325.0</td>\n",
       "    </tr>\n",
       "    <tr>\n",
       "      <th>tax_rate</th>\n",
       "      <td>0.043479</td>\n",
       "      <td>0.01695</td>\n",
       "      <td>0.019608</td>\n",
       "      <td>0.014085</td>\n",
       "      <td>0.019607</td>\n",
       "    </tr>\n",
       "    <tr>\n",
       "      <th>month_sold</th>\n",
       "      <td>1</td>\n",
       "      <td>1</td>\n",
       "      <td>1</td>\n",
       "      <td>1</td>\n",
       "      <td>1</td>\n",
       "    </tr>\n",
       "  </tbody>\n",
       "</table>\n",
       "</div>"
      ],
      "text/plain": [
       "                              0                2                3  \\\n",
       "bathrooms                   3.5              2.0              3.0   \n",
       "bedrooms                    4.0              3.0              4.0   \n",
       "quality_id                    6                6                8   \n",
       "home_area                3100.0           1243.0           2376.0   \n",
       "latitude             33634931.0       33886168.0       34245180.0   \n",
       "longitude          -117869207.0     -117823170.0     -118240722.0   \n",
       "lot_area                 4506.0           8432.0          13038.0   \n",
       "census_tb       60590630.072012  60590218.022012  60373001.001006   \n",
       "city_id                   53571            21412           396551   \n",
       "county_id                  1286             1286             3101   \n",
       "zip_code                  96978            97078            96330   \n",
       "roomcnt                       0                6                0   \n",
       "structure_tax          485713.0          85289.0         108918.0   \n",
       "tax_value             1023282.0         564778.0         145143.0   \n",
       "land_tax_value         537569.0         479489.0          36225.0   \n",
       "tax_paid               11013.72           6488.3          1777.51   \n",
       "logerror               0.025595         0.005383         -0.10341   \n",
       "heating_type               None             None          Central   \n",
       "year_built                 1998             1962             1970   \n",
       "county                   Orange           Orange      Los Angeles   \n",
       "yearly_tax              44491.0           9573.0           2846.0   \n",
       "tax_rate               0.043479          0.01695         0.019608   \n",
       "month_sold                    1                1                1   \n",
       "\n",
       "                              6                8  \n",
       "bathrooms                   3.0              3.0  \n",
       "bedrooms                    4.0              4.0  \n",
       "quality_id                    9                9  \n",
       "home_area                2962.0           3039.0  \n",
       "latitude             34145202.0       33960230.0  \n",
       "longitude          -118179824.0     -118006914.0  \n",
       "lot_area                63000.0          20028.0  \n",
       "census_tb       60374608.001014  60375002.024006  \n",
       "city_id                   47019            14634  \n",
       "county_id                  3101             3101  \n",
       "zip_code                  96293            96173  \n",
       "roomcnt                       0                0  \n",
       "structure_tax          276684.0         177527.0  \n",
       "tax_value              773303.0         220583.0  \n",
       "land_tax_value         496619.0          43056.0  \n",
       "tax_paid                9516.26          3104.19  \n",
       "logerror              -0.001011        -0.040966  \n",
       "heating_type            Central          Central  \n",
       "year_built                 1950             1970  \n",
       "county              Los Angeles      Los Angeles  \n",
       "yearly_tax              10892.0           4325.0  \n",
       "tax_rate               0.014085         0.019607  \n",
       "month_sold                    1                1  "
      ]
     },
     "execution_count": 9,
     "metadata": {},
     "output_type": "execute_result"
    }
   ],
   "source": [
    "zillow_prep.head().T"
   ]
  },
  {
   "cell_type": "code",
   "execution_count": 10,
   "id": "13288212",
   "metadata": {
    "scrolled": true
   },
   "outputs": [
    {
     "name": "stdout",
     "output_type": "stream",
     "text": [
      "=====================================================\n",
      "\n",
      "\n",
      "Dataframe info: \n",
      "<class 'pandas.core.frame.DataFrame'>\n",
      "Int64Index: 37435 entries, 0 to 77379\n",
      "Data columns (total 23 columns):\n",
      " #   Column          Non-Null Count  Dtype  \n",
      "---  ------          --------------  -----  \n",
      " 0   bathrooms       37435 non-null  float64\n",
      " 1   bedrooms        37435 non-null  float64\n",
      " 2   quality_id      37435 non-null  int64  \n",
      " 3   home_area       37435 non-null  float64\n",
      " 4   latitude        37435 non-null  float64\n",
      " 5   longitude       37435 non-null  float64\n",
      " 6   lot_area        37435 non-null  float64\n",
      " 7   census_tb       37435 non-null  float64\n",
      " 8   city_id         37435 non-null  int64  \n",
      " 9   county_id       37435 non-null  int64  \n",
      " 10  zip_code        37435 non-null  int64  \n",
      " 11  roomcnt         37435 non-null  int64  \n",
      " 12  structure_tax   37435 non-null  float64\n",
      " 13  tax_value       37435 non-null  float64\n",
      " 14  land_tax_value  37435 non-null  float64\n",
      " 15  tax_paid        37435 non-null  float64\n",
      " 16  logerror        37435 non-null  float64\n",
      " 17  heating_type    37435 non-null  object \n",
      " 18  year_built      37435 non-null  int64  \n",
      " 19  county          37435 non-null  object \n",
      " 20  yearly_tax      37435 non-null  float64\n",
      " 21  tax_rate        37435 non-null  float64\n",
      " 22  month_sold      37435 non-null  int64  \n",
      "dtypes: float64(14), int64(7), object(2)\n",
      "memory usage: 6.9+ MB\n",
      "None\n",
      "=====================================================\n",
      "\n",
      "\n",
      "Dataframe Description: \n",
      "          bathrooms      bedrooms    quality_id     home_area      latitude  \\\n",
      "count  37435.000000  37435.000000  37435.000000  37435.000000  3.743500e+04   \n",
      "mean       2.349245      3.389849      6.385148   1882.201629  3.402565e+07   \n",
      "std        0.485456      0.759203      1.073723    622.654032  2.900827e+05   \n",
      "min        1.500000      1.000000      3.000000    540.000000  3.334062e+07   \n",
      "25%        2.000000      3.000000      6.000000   1412.000000  3.381084e+07   \n",
      "50%        2.000000      3.000000      6.000000   1740.000000  3.402245e+07   \n",
      "75%        3.000000      4.000000      7.000000   2231.000000  3.420580e+07   \n",
      "max        3.500000      9.000000     12.000000   6494.000000  3.481877e+07   \n",
      "\n",
      "          longitude      lot_area     census_tb        city_id     county_id  \\\n",
      "count  3.743500e+04  3.743500e+04  3.743500e+04   37435.000000  37435.000000   \n",
      "mean  -1.181849e+08  1.079104e+04  6.051470e+07   32154.280112   2432.371978   \n",
      "std    3.754926e+05  9.849283e+04  2.199896e+05   44288.598048    828.751970   \n",
      "min   -1.194753e+08  2.360000e+02  6.037101e+07    3491.000000   1286.000000   \n",
      "25%   -1.184090e+08  5.750000e+03  6.037404e+07   12447.000000   1286.000000   \n",
      "50%   -1.181162e+08  7.000000e+03  6.037901e+07   24832.000000   3101.000000   \n",
      "75%   -1.179008e+08  8.710000e+03  6.059063e+07   40227.000000   3101.000000   \n",
      "max   -1.175723e+08  6.971010e+06  6.111009e+07  396556.000000   3101.000000   \n",
      "\n",
      "       ...       roomcnt  structure_tax     tax_value  land_tax_value  \\\n",
      "count  ...  37435.000000   3.743500e+04  3.743500e+04    3.743500e+04   \n",
      "mean   ...      2.303753   1.707079e+05  4.576072e+05    2.868993e+05   \n",
      "std    ...      3.325581   1.254891e+05  3.851117e+05    3.036130e+05   \n",
      "min    ...      0.000000   3.020000e+02  1.335200e+04    1.610000e+02   \n",
      "25%    ...      0.000000   8.841300e+04  2.023280e+05    7.035550e+04   \n",
      "50%    ...      0.000000   1.404300e+05  3.809120e+05    2.132670e+05   \n",
      "75%    ...      6.000000   2.156840e+05  5.903950e+05    3.970055e+05   \n",
      "max    ...     13.000000   2.576028e+06  4.839778e+06    4.038200e+06   \n",
      "\n",
      "           tax_paid      logerror    year_built     yearly_tax      tax_rate  \\\n",
      "count  37435.000000  37435.000000  37435.000000   37435.000000  37435.000000   \n",
      "mean    5591.156764      0.016751   1966.737599   11322.528222      0.023034   \n",
      "std     4441.179353      0.160718     20.202554   15990.850463      0.015848   \n",
      "min       49.180000     -4.655420   1878.000000     215.000000      0.006990   \n",
      "25%     2776.180000     -0.022962   1954.000000    3656.000000      0.014927   \n",
      "50%     4704.120000      0.006318   1964.000000    7110.000000      0.017544   \n",
      "75%     7025.080000      0.036716   1980.000000   13018.500000      0.024390   \n",
      "max    61992.630000      3.175688   2016.000000  512143.000000      0.200000   \n",
      "\n",
      "         month_sold  \n",
      "count  37435.000000  \n",
      "mean       5.086416  \n",
      "std        2.340901  \n",
      "min        1.000000  \n",
      "25%        3.000000  \n",
      "50%        5.000000  \n",
      "75%        7.000000  \n",
      "max        9.000000  \n",
      "\n",
      "[8 rows x 21 columns]\n",
      "=====================================================\n",
      "\n",
      "\n",
      "Dataframe Value Counts: \n",
      "(1.497, 1.7]      829\n",
      "(1.7, 1.9]          0\n",
      "(1.9, 2.1]      21620\n",
      "(2.1, 2.3]          0\n",
      "(2.3, 2.5]       3877\n",
      "(2.5, 2.7]          0\n",
      "(2.7, 2.9]          0\n",
      "(2.9, 3.1]      10227\n",
      "(3.1, 3.3]          0\n",
      "(3.3, 3.5]        882\n",
      "Name: bathrooms, dtype: int64\n",
      "(0.991, 1.8]       67\n",
      "(1.8, 2.6]       3183\n",
      "(2.6, 3.4]      18908\n",
      "(3.4, 4.2]      12915\n",
      "(4.2, 5.0]       2128\n",
      "(5.0, 5.8]          0\n",
      "(5.8, 6.6]        202\n",
      "(6.6, 7.4]         28\n",
      "(7.4, 8.2]          2\n",
      "(8.2, 9.0]          2\n",
      "Name: bedrooms, dtype: int64\n",
      "(2.99, 3.9]         7\n",
      "(3.9, 4.8]       2367\n",
      "(4.8, 5.7]        149\n",
      "(5.7, 6.6]      24447\n",
      "(6.6, 7.5]       2322\n",
      "(7.5, 8.4]       7620\n",
      "(8.4, 9.3]        421\n",
      "(9.3, 10.2]        16\n",
      "(10.2, 11.1]       83\n",
      "(11.1, 12.0]        3\n",
      "Name: quality_id, dtype: int64\n",
      "(534.0450000000001, 1135.4]     1827\n",
      "(1135.4, 1730.8]               16661\n",
      "(1730.8, 2326.2]               10885\n",
      "(2326.2, 2921.6]                5398\n",
      "(2921.6, 3517.0]                1988\n",
      "(3517.0, 4112.4]                 532\n",
      "(4112.4, 4707.8]                  99\n",
      "(4707.8, 5303.2]                  36\n",
      "(5303.2, 5898.6]                   7\n",
      "(5898.6, 6494.0]                   2\n",
      "Name: home_area, dtype: int64\n",
      "(33339141.852, 33488434.7]     579\n",
      "(33488434.7, 33636249.4]      2470\n",
      "(33636249.4, 33784064.1]      4939\n",
      "(33784064.1, 33931878.8]      7805\n",
      "(33931878.8, 34079693.5]      5262\n",
      "(34079693.5, 34227508.2]      8332\n",
      "(34227508.2, 34375322.9]      3761\n",
      "(34375322.9, 34523137.6]      1265\n",
      "(34523137.6, 34670952.3]      1915\n",
      "(34670952.3, 34818767.0]      1107\n",
      "Name: latitude, dtype: int64\n",
      "(-119477167.928, -119284972.3]     102\n",
      "(-119284972.3, -119094679.6]      1092\n",
      "(-119094679.6, -118904386.9]       866\n",
      "(-118904386.9, -118714094.2]      1501\n",
      "(-118714094.2, -118523801.5]      2647\n",
      "(-118523801.5, -118333508.8]      5818\n",
      "(-118333508.8, -118143216.1]      5576\n",
      "(-118143216.1, -117952923.4]      8175\n",
      "(-117952923.4, -117762630.7]      7710\n",
      "(-117762630.7, -117572338.0]      3948\n",
      "Name: longitude, dtype: int64\n",
      "(-6734.775000000001, 697313.4]    37422\n",
      "(697313.4, 1394390.8]                 4\n",
      "(1394390.8, 2091468.2]                1\n",
      "(2091468.2, 2788545.6]                0\n",
      "(2788545.6, 3485623.0]                1\n",
      "(3485623.0, 4182700.4]                0\n",
      "(4182700.4, 4879777.8]                0\n",
      "(4879777.8, 5576855.2]                0\n",
      "(5576855.2, 6273932.6]                0\n",
      "(6273932.6, 6971010.0]                7\n",
      "Name: lot_area, dtype: int64\n",
      "(60370272.019999996, 60444919.091]    22064\n",
      "(60444919.091, 60518827.081]              0\n",
      "(60518827.081, 60592735.071]          11670\n",
      "(60592735.071, 60666643.061]              0\n",
      "(60666643.061, 60740551.051]              0\n",
      "(60740551.051, 60814459.041]              0\n",
      "(60814459.041, 60888367.031]              0\n",
      "(60888367.031, 60962275.021]              0\n",
      "(60962275.021, 61036183.011]              0\n",
      "(61036183.011, 61110091.001]           3701\n",
      "Name: census_tb, dtype: int64\n",
      "(3097.9339999999997, 42797.5]    29113\n",
      "(42797.5, 82104.0]                7335\n",
      "(82104.0, 121410.5]                530\n",
      "(121410.5, 160717.0]                 0\n",
      "(160717.0, 200023.5]                 0\n",
      "(200023.5, 239330.0]                 0\n",
      "(239330.0, 278636.5]                 9\n",
      "(278636.5, 317943.0]                 0\n",
      "(317943.0, 357249.5]                 0\n",
      "(357249.5, 396556.0]               448\n",
      "Name: city_id, dtype: int64\n",
      "(1284.184, 1467.5]    11670\n",
      "(1467.5, 1649.0]          0\n",
      "(1649.0, 1830.5]          0\n",
      "(1830.5, 2012.0]          0\n",
      "(2012.0, 2193.5]       3701\n",
      "(2193.5, 2375.0]          0\n",
      "(2375.0, 2556.5]          0\n",
      "(2556.5, 2738.0]          0\n",
      "(2738.0, 2919.5]          0\n",
      "(2919.5, 3101.0]      22064\n",
      "Name: county_id, dtype: int64\n",
      "(95678.306, 126351.3]    37427\n",
      "(126351.3, 156720.6]         0\n",
      "(156720.6, 187089.9]         0\n",
      "(187089.9, 217459.2]         0\n",
      "(217459.2, 247828.5]         0\n",
      "(247828.5, 278197.8]         0\n",
      "(278197.8, 308567.1]         0\n",
      "(308567.1, 338936.4]         0\n",
      "(338936.4, 369305.7]         0\n",
      "(369305.7, 399675.0]         8\n",
      "Name: zip_code, dtype: int64\n",
      "(-0.013999999999999999, 1.3]    24885\n",
      "(1.3, 2.6]                          7\n",
      "(2.6, 3.9]                          9\n",
      "(3.9, 5.2]                       1557\n",
      "(5.2, 6.5]                       3633\n",
      "(6.5, 7.8]                       3439\n",
      "(7.8, 9.1]                       3683\n",
      "(9.1, 10.4]                       185\n",
      "(10.4, 11.7]                       30\n",
      "(11.7, 13.0]                        7\n",
      "Name: roomcnt, dtype: int64\n",
      "(-2273.7270000000003, 257874.6]    31078\n",
      "(257874.6, 515447.2]                5603\n",
      "(515447.2, 773019.8]                 589\n",
      "(773019.8, 1030592.4]                112\n",
      "(1030592.4, 1288165.0]                34\n",
      "(1288165.0, 1545737.6]                11\n",
      "(1545737.6, 1803310.2]                 4\n",
      "(1803310.2, 2060882.8]                 2\n",
      "(2060882.8, 2318455.4]                 1\n",
      "(2318455.4, 2576028.0]                 1\n",
      "Name: structure_tax, dtype: int64\n",
      "(8525.573, 495994.6]      24483\n",
      "(495994.6, 978637.2]      10303\n",
      "(978637.2, 1461279.8]      1726\n",
      "(1461279.8, 1943922.4]      558\n",
      "(1943922.4, 2426565.0]      198\n",
      "(2426565.0, 2909207.6]       79\n",
      "(2909207.6, 3391850.2]       44\n",
      "(3391850.2, 3874492.8]       27\n",
      "(3874492.8, 4357135.4]       12\n",
      "(4357135.4, 4839778.0]        5\n",
      "Name: tax_value, dtype: int64\n",
      "(-3877.0400000000004, 403964.9]    28335\n",
      "(403964.9, 807768.8]                7242\n",
      "(807768.8, 1211572.7]               1182\n",
      "(1211572.7, 1615376.6]               400\n",
      "(1615376.6, 2019180.5]               141\n",
      "(2019180.5, 2422984.4]                73\n",
      "(2422984.4, 2826788.3]                32\n",
      "(2826788.3, 3230592.2]                15\n",
      "(3230592.2, 3634396.1]                 9\n",
      "(3634396.1, 4038200.0]                 6\n",
      "Name: land_tax_value, dtype: int64\n",
      "(-12.764, 6243.525]      25496\n",
      "(6243.525, 12437.87]      9663\n",
      "(12437.87, 18632.215]     1537\n",
      "(18632.215, 24826.56]      467\n",
      "(24826.56, 31020.905]      148\n",
      "(31020.905, 37215.25]       69\n",
      "(37215.25, 43409.595]       30\n",
      "(43409.595, 49603.94]       14\n",
      "(49603.94, 55798.285]        6\n",
      "(55798.285, 61992.63]        5\n",
      "Name: tax_paid, dtype: int64\n",
      "(-4.664000000000001, -3.872]        1\n",
      "(-3.872, -3.089]                    0\n",
      "(-3.089, -2.306]                    5\n",
      "(-2.306, -1.523]                   17\n",
      "(-1.523, -0.74]                    28\n",
      "(-0.74, 0.0432]                 29251\n",
      "(0.0432, 0.826]                  7977\n",
      "(0.826, 1.609]                     87\n",
      "(1.609, 2.393]                     59\n",
      "(2.393, 3.176]                     10\n",
      "Name: logerror, dtype: int64\n",
      "Central       16670\n",
      "None          15041\n",
      "Floor/Wall     5211\n",
      "Forced air      469\n",
      "Solar            28\n",
      "Baseboard         7\n",
      "Radiant           6\n",
      "Gravity           2\n",
      "Yes               1\n",
      "Name: heating_type, dtype: int64\n",
      "(1877.861, 1891.8]       10\n",
      "(1891.8, 1905.6]         52\n",
      "(1905.6, 1919.4]        321\n",
      "(1919.4, 1933.2]       1601\n",
      "(1933.2, 1947.0]       2373\n",
      "(1947.0, 1960.8]      11239\n",
      "(1960.8, 1974.6]       9362\n",
      "(1974.6, 1988.4]       6313\n",
      "(1988.4, 2002.2]       4364\n",
      "(2002.2, 2016.0]       1800\n",
      "Name: year_built, dtype: int64\n",
      "Los Angeles    22064\n",
      "Orange         11670\n",
      "Ventura         3701\n",
      "Name: county, dtype: int64\n",
      "(-296.929, 51407.8]     36619\n",
      "(51407.8, 102600.6]       645\n",
      "(102600.6, 153793.4]      115\n",
      "(153793.4, 204986.2]       32\n",
      "(204986.2, 256179.0]       10\n",
      "(256179.0, 307371.8]       10\n",
      "(307371.8, 358564.6]        1\n",
      "(358564.6, 409757.4]        0\n",
      "(409757.4, 460950.2]        2\n",
      "(460950.2, 512143.0]        1\n",
      "Name: yearly_tax, dtype: int64\n",
      "(0.0058, 0.0263]    28651\n",
      "(0.0263, 0.0456]     6098\n",
      "(0.0456, 0.0649]     1729\n",
      "(0.0649, 0.0842]      567\n",
      "(0.0842, 0.103]       123\n",
      "(0.103, 0.123]         60\n",
      "(0.123, 0.142]         77\n",
      "(0.142, 0.161]         96\n",
      "(0.161, 0.181]         33\n",
      "(0.181, 0.2]            1\n",
      "Name: tax_rate, dtype: int64\n",
      "(0.991, 1.8]    3318\n",
      "(1.8, 2.6]      2962\n",
      "(2.6, 3.4]      4443\n",
      "(3.4, 4.2]      4193\n",
      "(4.2, 5.0]      5107\n",
      "(5.0, 5.8]         0\n",
      "(5.8, 6.6]      5668\n",
      "(6.6, 7.4]      4666\n",
      "(7.4, 8.2]      4840\n",
      "(8.2, 9.0]      2238\n",
      "Name: month_sold, dtype: int64\n",
      "=====================================================\n",
      "\n",
      "\n",
      "Nulls by Column: \n",
      "                num_rows_missing  percent_rows_missing\n",
      "bathrooms                      0                   0.0\n",
      "bedrooms                       0                   0.0\n",
      "quality_id                     0                   0.0\n",
      "home_area                      0                   0.0\n",
      "latitude                       0                   0.0\n",
      "longitude                      0                   0.0\n",
      "lot_area                       0                   0.0\n",
      "census_tb                      0                   0.0\n",
      "city_id                        0                   0.0\n",
      "county_id                      0                   0.0\n",
      "zip_code                       0                   0.0\n",
      "roomcnt                        0                   0.0\n",
      "structure_tax                  0                   0.0\n",
      "tax_value                      0                   0.0\n",
      "land_tax_value                 0                   0.0\n",
      "tax_paid                       0                   0.0\n",
      "logerror                       0                   0.0\n",
      "heating_type                   0                   0.0\n",
      "year_built                     0                   0.0\n",
      "county                         0                   0.0\n",
      "yearly_tax                     0                   0.0\n",
      "tax_rate                       0                   0.0\n",
      "month_sold                     0                   0.0\n",
      "=====================================================\n",
      "\n",
      "\n",
      "Nulls by Row: \n"
     ]
    },
    {
     "name": "stdout",
     "output_type": "stream",
     "text": [
      "  num_cols_missing percent_cols_missing  index\n",
      "0                0                  0.0  37435\n",
      "=====================================================\n",
      "\n",
      "\n",
      "Column Stats: \n",
      "                  count          mean            std           min  \\\n",
      "bathrooms       37435.0  2.349245e+00       0.485456  1.500000e+00   \n",
      "bedrooms        37435.0  3.389849e+00       0.759203  1.000000e+00   \n",
      "quality_id      37435.0  6.385148e+00       1.073723  3.000000e+00   \n",
      "home_area       37435.0  1.882202e+03     622.654032  5.400000e+02   \n",
      "latitude        37435.0  3.402565e+07  290082.671743  3.334062e+07   \n",
      "longitude       37435.0 -1.181849e+08  375492.569582 -1.194753e+08   \n",
      "lot_area        37435.0  1.079104e+04   98492.826599  2.360000e+02   \n",
      "census_tb       37435.0  6.051470e+07  219989.586365  6.037101e+07   \n",
      "city_id         37435.0  3.215428e+04   44288.598048  3.491000e+03   \n",
      "county_id       37435.0  2.432372e+03     828.751970  1.286000e+03   \n",
      "zip_code        37435.0  9.669773e+04    4449.613576  9.598200e+04   \n",
      "roomcnt         37435.0  2.303753e+00       3.325581  0.000000e+00   \n",
      "structure_tax   37435.0  1.707079e+05  125489.135937  3.020000e+02   \n",
      "tax_value       37435.0  4.576072e+05  385111.708602  1.335200e+04   \n",
      "land_tax_value  37435.0  2.868993e+05  303613.031721  1.610000e+02   \n",
      "tax_paid        37435.0  5.591157e+03    4441.179353  4.918000e+01   \n",
      "logerror        37435.0  1.675069e-02       0.160718 -4.655420e+00   \n",
      "year_built      37435.0  1.966738e+03      20.202554  1.878000e+03   \n",
      "yearly_tax      37435.0  1.132253e+04   15990.850463  2.150000e+02   \n",
      "tax_rate        37435.0  2.303438e-02       0.015848  6.990040e-03   \n",
      "month_sold      37435.0  5.086416e+00       2.340901  1.000000e+00   \n",
      "\n",
      "                         25%           50%           75%           max  \\\n",
      "bathrooms       2.000000e+00  2.000000e+00  3.000000e+00  3.500000e+00   \n",
      "bedrooms        3.000000e+00  3.000000e+00  4.000000e+00  9.000000e+00   \n",
      "quality_id      6.000000e+00  6.000000e+00  7.000000e+00  1.200000e+01   \n",
      "home_area       1.412000e+03  1.740000e+03  2.231000e+03  6.494000e+03   \n",
      "latitude        3.381084e+07  3.402245e+07  3.420580e+07  3.481877e+07   \n",
      "longitude      -1.184090e+08 -1.181162e+08 -1.179008e+08 -1.175723e+08   \n",
      "lot_area        5.750000e+03  7.000000e+03  8.710000e+03  6.971010e+06   \n",
      "census_tb       6.037404e+07  6.037901e+07  6.059063e+07  6.111009e+07   \n",
      "city_id         1.244700e+04  2.483200e+04  4.022700e+04  3.965560e+05   \n",
      "county_id       1.286000e+03  3.101000e+03  3.101000e+03  3.101000e+03   \n",
      "zip_code        9.624700e+04  9.648900e+04  9.702100e+04  3.996750e+05   \n",
      "roomcnt         0.000000e+00  0.000000e+00  6.000000e+00  1.300000e+01   \n",
      "structure_tax   8.841300e+04  1.404300e+05  2.156840e+05  2.576028e+06   \n",
      "tax_value       2.023280e+05  3.809120e+05  5.903950e+05  4.839778e+06   \n",
      "land_tax_value  7.035550e+04  2.132670e+05  3.970055e+05  4.038200e+06   \n",
      "tax_paid        2.776180e+03  4.704120e+03  7.025080e+03  6.199263e+04   \n",
      "logerror       -2.296207e-02  6.317666e-03  3.671562e-02  3.175688e+00   \n",
      "year_built      1.954000e+03  1.964000e+03  1.980000e+03  2.016000e+03   \n",
      "yearly_tax      3.656000e+03  7.110000e+03  1.301850e+04  5.121430e+05   \n",
      "tax_rate        1.492666e-02  1.754370e-02  2.439028e-02  2.000000e-01   \n",
      "month_sold      3.000000e+00  5.000000e+00  7.000000e+00  9.000000e+00   \n",
      "\n",
      "                       range  \n",
      "bathrooms       2.000000e+00  \n",
      "bedrooms        8.000000e+00  \n",
      "quality_id      9.000000e+00  \n",
      "home_area       5.954000e+03  \n",
      "latitude        1.478147e+06  \n",
      "longitude       1.902927e+06  \n",
      "lot_area        6.970774e+06  \n",
      "census_tb       7.390799e+05  \n",
      "city_id         3.930650e+05  \n",
      "county_id       1.815000e+03  \n",
      "zip_code        3.036930e+05  \n",
      "roomcnt         1.300000e+01  \n",
      "structure_tax   2.575726e+06  \n",
      "tax_value       4.826426e+06  \n",
      "land_tax_value  4.038039e+06  \n",
      "tax_paid        6.194345e+04  \n",
      "logerror        7.831108e+00  \n",
      "year_built      1.380000e+02  \n",
      "yearly_tax      5.119280e+05  \n",
      "tax_rate        1.930100e-01  \n",
      "month_sold      8.000000e+00  \n",
      "============================================\n"
     ]
    }
   ],
   "source": [
    "wr.summarize(zillow_prep)"
   ]
  },
  {
   "cell_type": "code",
   "execution_count": 11,
   "id": "d50f7792",
   "metadata": {
    "scrolled": true
   },
   "outputs": [
    {
     "data": {
      "image/png": "[encoded data removed]",
      "text/plain": [
       "<Figure size 504x360 with 1 Axes>"
      ]
     },
     "metadata": {
      "needs_background": "light"
     },
     "output_type": "display_data"
    },
    {
     "data": {
      "image/png": "[encoded data removed]",
      "text/plain": [
       "<Figure size 504x360 with 1 Axes>"
      ]
     },
     "metadata": {
      "needs_background": "light"
     },
     "output_type": "display_data"
    },
    {
     "data": {
      "image/png": "[encoded data removed]",
      "text/plain": [
       "<Figure size 504x360 with 1 Axes>"
      ]
     },
     "metadata": {
      "needs_background": "light"
     },
     "output_type": "display_data"
    },
    {
     "data": {
      "image/png": "[encoded data removed]",
      "text/plain": [
       "<Figure size 504x360 with 1 Axes>"
      ]
     },
     "metadata": {
      "needs_background": "light"
     },
     "output_type": "display_data"
    },
    {
     "data": {
      "image/png": "[encoded data removed]",
      "text/plain": [
       "<Figure size 504x360 with 1 Axes>"
      ]
     },
     "metadata": {
      "needs_background": "light"
     },
     "output_type": "display_data"
    },
    {
     "data": {
      "image/png": "[encoded data removed]",
      "text/plain": [
       "<Figure size 504x360 with 1 Axes>"
      ]
     },
     "metadata": {
      "needs_background": "light"
     },
     "output_type": "display_data"
    },
    {
     "data": {
      "image/png": "[encoded data removed]",
      "text/plain": [
       "<Figure size 504x360 with 1 Axes>"
      ]
     },
     "metadata": {
      "needs_background": "light"
     },
     "output_type": "display_data"
    },
    {
     "data": {
      "image/png": "[encoded data removed]",
      "text/plain": [
       "<Figure size 504x360 with 1 Axes>"
      ]
     },
     "metadata": {
      "needs_background": "light"
     },
     "output_type": "display_data"
    },
    {
     "data": {
      "image/png": "[encoded data removed]",
      "text/plain": [
       "<Figure size 504x360 with 1 Axes>"
      ]
     },
     "metadata": {
      "needs_background": "light"
     },
     "output_type": "display_data"
    },
    {
     "data": {
      "image/png": "[encoded data removed]",
      "text/plain": [
       "<Figure size 504x360 with 1 Axes>"
      ]
     },
     "metadata": {
      "needs_background": "light"
     },
     "output_type": "display_data"
    },
    {
     "data": {
      "image/png": "[encoded data removed]",
      "text/plain": [
       "<Figure size 504x360 with 1 Axes>"
      ]
     },
     "metadata": {
      "needs_background": "light"
     },
     "output_type": "display_data"
    },
    {
     "data": {
      "image/png": "[encoded data removed]",
      "text/plain": [
       "<Figure size 504x360 with 1 Axes>"
      ]
     },
     "metadata": {
      "needs_background": "light"
     },
     "output_type": "display_data"
    },
    {
     "data": {
      "image/png": "[encoded data removed]",
      "text/plain": [
       "<Figure size 504x360 with 1 Axes>"
      ]
     },
     "metadata": {
      "needs_background": "light"
     },
     "output_type": "display_data"
    },
    {
     "data": {
      "image/png": "[encoded data removed]",
      "text/plain": [
       "<Figure size 504x360 with 1 Axes>"
      ]
     },
     "metadata": {
      "needs_background": "light"
     },
     "output_type": "display_data"
    },
    {
     "data": {
      "image/png": "[encoded data removed]",
      "text/plain": [
       "<Figure size 504x360 with 1 Axes>"
      ]
     },
     "metadata": {
      "needs_background": "light"
     },
     "output_type": "display_data"
    },
    {
     "data": {
      "image/png": "[encoded data removed]",
      "text/plain": [
       "<Figure size 504x360 with 1 Axes>"
      ]
     },
     "metadata": {
      "needs_background": "light"
     },
     "output_type": "display_data"
    },
    {
     "data": {
      "image/png": "[encoded data removed]",
      "text/plain": [
       "<Figure size 504x360 with 1 Axes>"
      ]
     },
     "metadata": {
      "needs_background": "light"
     },
     "output_type": "display_data"
    },
    {
     "data": {
      "image/png": "[encoded data removed]",
      "text/plain": [
       "<Figure size 504x360 with 1 Axes>"
      ]
     },
     "metadata": {
      "needs_background": "light"
     },
     "output_type": "display_data"
    },
    {
     "data": {
      "image/png": "[encoded data removed]",
      "text/plain": [
       "<Figure size 504x360 with 1 Axes>"
      ]
     },
     "metadata": {
      "needs_background": "light"
     },
     "output_type": "display_data"
    },
    {
     "data": {
      "image/png": "[encoded data removed]",
      "text/plain": [
       "<Figure size 504x360 with 1 Axes>"
      ]
     },
     "metadata": {
      "needs_background": "light"
     },
     "output_type": "display_data"
    },
    {
     "data": {
      "image/png": "[encoded data removed]",
      "text/plain": [
       "<Figure size 504x360 with 1 Axes>"
      ]
     },
     "metadata": {
      "needs_background": "light"
     },
     "output_type": "display_data"
    }
   ],
   "source": [
    "# Visualizing distributions\n",
    "ex.hist_combos(zillow_prep)"
   ]
  },
  {
   "cell_type": "markdown",
   "id": "9743027b",
   "metadata": {},
   "source": [
    "#### Distribution takeaways:\n",
    "- Only quality id is normally distributed\n",
    "    - non-parametric tests due to lack of normal distributions"
   ]
  },
  {
   "cell_type": "code",
   "execution_count": 12,
   "id": "f26bdf2a",
   "metadata": {},
   "outputs": [],
   "source": [
    "# Split without target variable removed for exploration\n",
    "explore_train, explore_validate, explore_test = wr.train_validate_test_split(zillow_prep) "
   ]
  },
  {
   "cell_type": "code",
   "execution_count": 13,
   "id": "42f595cd",
   "metadata": {
    "scrolled": true
   },
   "outputs": [
    {
     "data": {
      "text/html": [
       "<div>\n",
       "<style scoped>\n",
       "    .dataframe tbody tr th:only-of-type {\n",
       "        vertical-align: middle;\n",
       "    }\n",
       "\n",
       "    .dataframe tbody tr th {\n",
       "        vertical-align: top;\n",
       "    }\n",
       "\n",
       "    .dataframe thead th {\n",
       "        text-align: right;\n",
       "    }\n",
       "</style>\n",
       "<table border=\"1\" class=\"dataframe\">\n",
       "  <thead>\n",
       "    <tr style=\"text-align: right;\">\n",
       "      <th></th>\n",
       "      <th>72596</th>\n",
       "      <th>68566</th>\n",
       "      <th>23838</th>\n",
       "      <th>44498</th>\n",
       "      <th>40785</th>\n",
       "    </tr>\n",
       "  </thead>\n",
       "  <tbody>\n",
       "    <tr>\n",
       "      <th>bathrooms</th>\n",
       "      <td>1.5</td>\n",
       "      <td>2.0</td>\n",
       "      <td>2.0</td>\n",
       "      <td>3.0</td>\n",
       "      <td>2.0</td>\n",
       "    </tr>\n",
       "    <tr>\n",
       "      <th>bedrooms</th>\n",
       "      <td>3.0</td>\n",
       "      <td>3.0</td>\n",
       "      <td>3.0</td>\n",
       "      <td>4.0</td>\n",
       "      <td>3.0</td>\n",
       "    </tr>\n",
       "    <tr>\n",
       "      <th>quality_id</th>\n",
       "      <td>6</td>\n",
       "      <td>4</td>\n",
       "      <td>6</td>\n",
       "      <td>6</td>\n",
       "      <td>6</td>\n",
       "    </tr>\n",
       "    <tr>\n",
       "      <th>home_area</th>\n",
       "      <td>1457.0</td>\n",
       "      <td>1113.0</td>\n",
       "      <td>1358.0</td>\n",
       "      <td>3313.0</td>\n",
       "      <td>1560.0</td>\n",
       "    </tr>\n",
       "    <tr>\n",
       "      <th>latitude</th>\n",
       "      <td>34196927.0</td>\n",
       "      <td>33868724.0</td>\n",
       "      <td>34287576.0</td>\n",
       "      <td>33458711.0</td>\n",
       "      <td>33718867.0</td>\n",
       "    </tr>\n",
       "    <tr>\n",
       "      <th>longitude</th>\n",
       "      <td>-118860052.0</td>\n",
       "      <td>-118198923.0</td>\n",
       "      <td>-118451873.0</td>\n",
       "      <td>-117616553.0</td>\n",
       "      <td>-117755180.0</td>\n",
       "    </tr>\n",
       "    <tr>\n",
       "      <th>lot_area</th>\n",
       "      <td>10404.0</td>\n",
       "      <td>4780.0</td>\n",
       "      <td>7733.0</td>\n",
       "      <td>7866.0</td>\n",
       "      <td>5000.0</td>\n",
       "    </tr>\n",
       "    <tr>\n",
       "      <th>census_tb</th>\n",
       "      <td>61110068.002008</td>\n",
       "      <td>60375704.023003</td>\n",
       "      <td>60371066.491004</td>\n",
       "      <td>60590421.123008</td>\n",
       "      <td>60590524.212002</td>\n",
       "    </tr>\n",
       "    <tr>\n",
       "      <th>city_id</th>\n",
       "      <td>34278</td>\n",
       "      <td>46298</td>\n",
       "      <td>47547</td>\n",
       "      <td>13693</td>\n",
       "      <td>52650</td>\n",
       "    </tr>\n",
       "    <tr>\n",
       "      <th>county_id</th>\n",
       "      <td>2061</td>\n",
       "      <td>3101</td>\n",
       "      <td>3101</td>\n",
       "      <td>1286</td>\n",
       "      <td>1286</td>\n",
       "    </tr>\n",
       "    <tr>\n",
       "      <th>zip_code</th>\n",
       "      <td>96383</td>\n",
       "      <td>96239</td>\n",
       "      <td>96368</td>\n",
       "      <td>96983</td>\n",
       "      <td>96954</td>\n",
       "    </tr>\n",
       "    <tr>\n",
       "      <th>roomcnt</th>\n",
       "      <td>7</td>\n",
       "      <td>0</td>\n",
       "      <td>0</td>\n",
       "      <td>0</td>\n",
       "      <td>6</td>\n",
       "    </tr>\n",
       "    <tr>\n",
       "      <th>structure_tax</th>\n",
       "      <td>210778.0</td>\n",
       "      <td>92696.0</td>\n",
       "      <td>83263.0</td>\n",
       "      <td>466852.0</td>\n",
       "      <td>134018.0</td>\n",
       "    </tr>\n",
       "    <tr>\n",
       "      <th>tax_value</th>\n",
       "      <td>335565.0</td>\n",
       "      <td>194610.0</td>\n",
       "      <td>198269.0</td>\n",
       "      <td>958822.0</td>\n",
       "      <td>322761.0</td>\n",
       "    </tr>\n",
       "    <tr>\n",
       "      <th>land_tax_value</th>\n",
       "      <td>124787.0</td>\n",
       "      <td>101914.0</td>\n",
       "      <td>115006.0</td>\n",
       "      <td>491970.0</td>\n",
       "      <td>188743.0</td>\n",
       "    </tr>\n",
       "    <tr>\n",
       "      <th>tax_paid</th>\n",
       "      <td>3543.76</td>\n",
       "      <td>2427.34</td>\n",
       "      <td>2546.35</td>\n",
       "      <td>10746.64</td>\n",
       "      <td>3419.04</td>\n",
       "    </tr>\n",
       "    <tr>\n",
       "      <th>logerror</th>\n",
       "      <td>0.133073</td>\n",
       "      <td>-0.063099</td>\n",
       "      <td>-0.001512</td>\n",
       "      <td>-0.132561</td>\n",
       "      <td>0.003747</td>\n",
       "    </tr>\n",
       "    <tr>\n",
       "      <th>heating_type</th>\n",
       "      <td>None</td>\n",
       "      <td>Floor/Wall</td>\n",
       "      <td>Central</td>\n",
       "      <td>None</td>\n",
       "      <td>None</td>\n",
       "    </tr>\n",
       "    <tr>\n",
       "      <th>year_built</th>\n",
       "      <td>1962</td>\n",
       "      <td>1943</td>\n",
       "      <td>1955</td>\n",
       "      <td>2003</td>\n",
       "      <td>1977</td>\n",
       "    </tr>\n",
       "    <tr>\n",
       "      <th>county</th>\n",
       "      <td>Ventura</td>\n",
       "      <td>Los Angeles</td>\n",
       "      <td>Los Angeles</td>\n",
       "      <td>Orange</td>\n",
       "      <td>Orange</td>\n",
       "    </tr>\n",
       "    <tr>\n",
       "      <th>yearly_tax</th>\n",
       "      <td>5688.0</td>\n",
       "      <td>2495.0</td>\n",
       "      <td>3004.0</td>\n",
       "      <td>53268.0</td>\n",
       "      <td>7335.0</td>\n",
       "    </tr>\n",
       "    <tr>\n",
       "      <th>tax_rate</th>\n",
       "      <td>0.016951</td>\n",
       "      <td>0.012821</td>\n",
       "      <td>0.015151</td>\n",
       "      <td>0.055556</td>\n",
       "      <td>0.022726</td>\n",
       "    </tr>\n",
       "    <tr>\n",
       "      <th>month_sold</th>\n",
       "      <td>8</td>\n",
       "      <td>8</td>\n",
       "      <td>4</td>\n",
       "      <td>6</td>\n",
       "      <td>5</td>\n",
       "    </tr>\n",
       "  </tbody>\n",
       "</table>\n",
       "</div>"
      ],
      "text/plain": [
       "                          72596            68566            23838  \\\n",
       "bathrooms                   1.5              2.0              2.0   \n",
       "bedrooms                    3.0              3.0              3.0   \n",
       "quality_id                    6                4                6   \n",
       "home_area                1457.0           1113.0           1358.0   \n",
       "latitude             34196927.0       33868724.0       34287576.0   \n",
       "longitude          -118860052.0     -118198923.0     -118451873.0   \n",
       "lot_area                10404.0           4780.0           7733.0   \n",
       "census_tb       61110068.002008  60375704.023003  60371066.491004   \n",
       "city_id                   34278            46298            47547   \n",
       "county_id                  2061             3101             3101   \n",
       "zip_code                  96383            96239            96368   \n",
       "roomcnt                       7                0                0   \n",
       "structure_tax          210778.0          92696.0          83263.0   \n",
       "tax_value              335565.0         194610.0         198269.0   \n",
       "land_tax_value         124787.0         101914.0         115006.0   \n",
       "tax_paid                3543.76          2427.34          2546.35   \n",
       "logerror               0.133073        -0.063099        -0.001512   \n",
       "heating_type               None       Floor/Wall          Central   \n",
       "year_built                 1962             1943             1955   \n",
       "county                  Ventura      Los Angeles      Los Angeles   \n",
       "yearly_tax               5688.0           2495.0           3004.0   \n",
       "tax_rate               0.016951         0.012821         0.015151   \n",
       "month_sold                    8                8                4   \n",
       "\n",
       "                          44498            40785  \n",
       "bathrooms                   3.0              2.0  \n",
       "bedrooms                    4.0              3.0  \n",
       "quality_id                    6                6  \n",
       "home_area                3313.0           1560.0  \n",
       "latitude             33458711.0       33718867.0  \n",
       "longitude          -117616553.0     -117755180.0  \n",
       "lot_area                 7866.0           5000.0  \n",
       "census_tb       60590421.123008  60590524.212002  \n",
       "city_id                   13693            52650  \n",
       "county_id                  1286             1286  \n",
       "zip_code                  96983            96954  \n",
       "roomcnt                       0                6  \n",
       "structure_tax          466852.0         134018.0  \n",
       "tax_value              958822.0         322761.0  \n",
       "land_tax_value         491970.0         188743.0  \n",
       "tax_paid               10746.64          3419.04  \n",
       "logerror              -0.132561         0.003747  \n",
       "heating_type               None             None  \n",
       "year_built                 2003             1977  \n",
       "county                   Orange           Orange  \n",
       "yearly_tax              53268.0           7335.0  \n",
       "tax_rate               0.055556         0.022726  \n",
       "month_sold                    6                5  "
      ]
     },
     "execution_count": 13,
     "metadata": {},
     "output_type": "execute_result"
    }
   ],
   "source": [
    "explore_train.head().T"
   ]
  },
  {
   "cell_type": "markdown",
   "id": "927be325",
   "metadata": {},
   "source": [
    "# Explore\n",
    "### Preliminary exploration:\n",
    "- Encode columns where col.dtype == object\n",
    "- Separate feats\n",
    "- Create scaled versions of explore train, validate, and test datasets\n",
    "- Preform basic stat tests"
   ]
  },
  {
   "cell_type": "code",
   "execution_count": 14,
   "id": "b85cf67a",
   "metadata": {
    "scrolled": true
   },
   "outputs": [
    {
     "data": {
      "text/html": [
       "<div>\n",
       "<style scoped>\n",
       "    .dataframe tbody tr th:only-of-type {\n",
       "        vertical-align: middle;\n",
       "    }\n",
       "\n",
       "    .dataframe tbody tr th {\n",
       "        vertical-align: top;\n",
       "    }\n",
       "\n",
       "    .dataframe thead th {\n",
       "        text-align: right;\n",
       "    }\n",
       "</style>\n",
       "<table border=\"1\" class=\"dataframe\">\n",
       "  <thead>\n",
       "    <tr style=\"text-align: right;\">\n",
       "      <th></th>\n",
       "      <th>72596</th>\n",
       "      <th>68566</th>\n",
       "      <th>23838</th>\n",
       "      <th>44498</th>\n",
       "      <th>40785</th>\n",
       "    </tr>\n",
       "  </thead>\n",
       "  <tbody>\n",
       "    <tr>\n",
       "      <th>bathrooms</th>\n",
       "      <td>0.0</td>\n",
       "      <td>0.25</td>\n",
       "      <td>0.25</td>\n",
       "      <td>0.75</td>\n",
       "      <td>0.25</td>\n",
       "    </tr>\n",
       "    <tr>\n",
       "      <th>bedrooms</th>\n",
       "      <td>0.25</td>\n",
       "      <td>0.25</td>\n",
       "      <td>0.25</td>\n",
       "      <td>0.375</td>\n",
       "      <td>0.25</td>\n",
       "    </tr>\n",
       "    <tr>\n",
       "      <th>quality_id</th>\n",
       "      <td>0.333333</td>\n",
       "      <td>0.111111</td>\n",
       "      <td>0.333333</td>\n",
       "      <td>0.333333</td>\n",
       "      <td>0.333333</td>\n",
       "    </tr>\n",
       "    <tr>\n",
       "      <th>home_area</th>\n",
       "      <td>0.167805</td>\n",
       "      <td>0.098674</td>\n",
       "      <td>0.14791</td>\n",
       "      <td>0.540796</td>\n",
       "      <td>0.188505</td>\n",
       "    </tr>\n",
       "    <tr>\n",
       "      <th>latitude</th>\n",
       "      <td>0.579245</td>\n",
       "      <td>0.357174</td>\n",
       "      <td>0.640581</td>\n",
       "      <td>0.079747</td>\n",
       "      <td>0.255776</td>\n",
       "    </tr>\n",
       "    <tr>\n",
       "      <th>longitude</th>\n",
       "      <td>0.323298</td>\n",
       "      <td>0.670726</td>\n",
       "      <td>0.537799</td>\n",
       "      <td>0.976765</td>\n",
       "      <td>0.903915</td>\n",
       "    </tr>\n",
       "    <tr>\n",
       "      <th>lot_area</th>\n",
       "      <td>0.001459</td>\n",
       "      <td>0.000652</td>\n",
       "      <td>0.001075</td>\n",
       "      <td>0.001095</td>\n",
       "      <td>0.000683</td>\n",
       "    </tr>\n",
       "    <tr>\n",
       "      <th>census_tb</th>\n",
       "      <td>0.999969</td>\n",
       "      <td>0.00635</td>\n",
       "      <td>0.000075</td>\n",
       "      <td>0.296869</td>\n",
       "      <td>0.297009</td>\n",
       "    </tr>\n",
       "    <tr>\n",
       "      <th>city_id</th>\n",
       "      <td>0.078325</td>\n",
       "      <td>0.108906</td>\n",
       "      <td>0.112083</td>\n",
       "      <td>0.025955</td>\n",
       "      <td>0.125066</td>\n",
       "    </tr>\n",
       "    <tr>\n",
       "      <th>county_id</th>\n",
       "      <td>0.426997</td>\n",
       "      <td>1.0</td>\n",
       "      <td>1.0</td>\n",
       "      <td>0.0</td>\n",
       "      <td>0.0</td>\n",
       "    </tr>\n",
       "    <tr>\n",
       "      <th>zip_code</th>\n",
       "      <td>0.00132</td>\n",
       "      <td>0.000846</td>\n",
       "      <td>0.001271</td>\n",
       "      <td>0.003296</td>\n",
       "      <td>0.003201</td>\n",
       "    </tr>\n",
       "    <tr>\n",
       "      <th>roomcnt</th>\n",
       "      <td>0.583333</td>\n",
       "      <td>0.0</td>\n",
       "      <td>0.0</td>\n",
       "      <td>0.0</td>\n",
       "      <td>0.5</td>\n",
       "    </tr>\n",
       "    <tr>\n",
       "      <th>structure_tax</th>\n",
       "      <td>0.081461</td>\n",
       "      <td>0.035604</td>\n",
       "      <td>0.031941</td>\n",
       "      <td>0.180907</td>\n",
       "      <td>0.051651</td>\n",
       "    </tr>\n",
       "    <tr>\n",
       "      <th>tax_value</th>\n",
       "      <td>0.065265</td>\n",
       "      <td>0.036014</td>\n",
       "      <td>0.036773</td>\n",
       "      <td>0.194606</td>\n",
       "      <td>0.062608</td>\n",
       "    </tr>\n",
       "    <tr>\n",
       "      <th>land_tax_value</th>\n",
       "      <td>0.02991</td>\n",
       "      <td>0.024241</td>\n",
       "      <td>0.027486</td>\n",
       "      <td>0.120931</td>\n",
       "      <td>0.045764</td>\n",
       "    </tr>\n",
       "    <tr>\n",
       "      <th>tax_paid</th>\n",
       "      <td>0.060215</td>\n",
       "      <td>0.040978</td>\n",
       "      <td>0.043029</td>\n",
       "      <td>0.184329</td>\n",
       "      <td>0.058066</td>\n",
       "    </tr>\n",
       "    <tr>\n",
       "      <th>logerror</th>\n",
       "      <td>0.611471</td>\n",
       "      <td>0.58642</td>\n",
       "      <td>0.594285</td>\n",
       "      <td>0.57755</td>\n",
       "      <td>0.594956</td>\n",
       "    </tr>\n",
       "    <tr>\n",
       "      <th>heating_type</th>\n",
       "      <td>None</td>\n",
       "      <td>Floor/Wall</td>\n",
       "      <td>Central</td>\n",
       "      <td>None</td>\n",
       "      <td>None</td>\n",
       "    </tr>\n",
       "    <tr>\n",
       "      <th>year_built</th>\n",
       "      <td>0.607407</td>\n",
       "      <td>0.466667</td>\n",
       "      <td>0.555556</td>\n",
       "      <td>0.911111</td>\n",
       "      <td>0.718519</td>\n",
       "    </tr>\n",
       "    <tr>\n",
       "      <th>county</th>\n",
       "      <td>Ventura</td>\n",
       "      <td>Los Angeles</td>\n",
       "      <td>Los Angeles</td>\n",
       "      <td>Orange</td>\n",
       "      <td>Orange</td>\n",
       "    </tr>\n",
       "    <tr>\n",
       "      <th>yearly_tax</th>\n",
       "      <td>0.010691</td>\n",
       "      <td>0.004454</td>\n",
       "      <td>0.005448</td>\n",
       "      <td>0.103634</td>\n",
       "      <td>0.013908</td>\n",
       "    </tr>\n",
       "    <tr>\n",
       "      <th>tax_rate</th>\n",
       "      <td>0.061779</td>\n",
       "      <td>0.035898</td>\n",
       "      <td>0.050503</td>\n",
       "      <td>0.303703</td>\n",
       "      <td>0.097971</td>\n",
       "    </tr>\n",
       "    <tr>\n",
       "      <th>month_sold</th>\n",
       "      <td>0.875</td>\n",
       "      <td>0.875</td>\n",
       "      <td>0.375</td>\n",
       "      <td>0.625</td>\n",
       "      <td>0.5</td>\n",
       "    </tr>\n",
       "  </tbody>\n",
       "</table>\n",
       "</div>"
      ],
      "text/plain": [
       "                   72596        68566        23838     44498     40785\n",
       "bathrooms            0.0         0.25         0.25      0.75      0.25\n",
       "bedrooms            0.25         0.25         0.25     0.375      0.25\n",
       "quality_id      0.333333     0.111111     0.333333  0.333333  0.333333\n",
       "home_area       0.167805     0.098674      0.14791  0.540796  0.188505\n",
       "latitude        0.579245     0.357174     0.640581  0.079747  0.255776\n",
       "longitude       0.323298     0.670726     0.537799  0.976765  0.903915\n",
       "lot_area        0.001459     0.000652     0.001075  0.001095  0.000683\n",
       "census_tb       0.999969      0.00635     0.000075  0.296869  0.297009\n",
       "city_id         0.078325     0.108906     0.112083  0.025955  0.125066\n",
       "county_id       0.426997          1.0          1.0       0.0       0.0\n",
       "zip_code         0.00132     0.000846     0.001271  0.003296  0.003201\n",
       "roomcnt         0.583333          0.0          0.0       0.0       0.5\n",
       "structure_tax   0.081461     0.035604     0.031941  0.180907  0.051651\n",
       "tax_value       0.065265     0.036014     0.036773  0.194606  0.062608\n",
       "land_tax_value   0.02991     0.024241     0.027486  0.120931  0.045764\n",
       "tax_paid        0.060215     0.040978     0.043029  0.184329  0.058066\n",
       "logerror        0.611471      0.58642     0.594285   0.57755  0.594956\n",
       "heating_type        None   Floor/Wall      Central      None      None\n",
       "year_built      0.607407     0.466667     0.555556  0.911111  0.718519\n",
       "county           Ventura  Los Angeles  Los Angeles    Orange    Orange\n",
       "yearly_tax      0.010691     0.004454     0.005448  0.103634  0.013908\n",
       "tax_rate        0.061779     0.035898     0.050503  0.303703  0.097971\n",
       "month_sold         0.875        0.875        0.375     0.625       0.5"
      ]
     },
     "execution_count": 14,
     "metadata": {},
     "output_type": "execute_result"
    }
   ],
   "source": [
    "# Creating scaled copies of each dataframe\n",
    "scaler, scaled_etrain, scaled_evaluate, scaled_etest =  ex.scaling(explore_train, explore_validate, explore_test, scaler_type = sklearn.preprocessing.MinMaxScaler())\n",
    "\n",
    "scaled_etrain.head().T"
   ]
  },
  {
   "cell_type": "code",
   "execution_count": 15,
   "id": "e858f5c2",
   "metadata": {
    "scrolled": true
   },
   "outputs": [
    {
     "data": {
      "text/plain": [
       "(['bathrooms',\n",
       "  'bedrooms',\n",
       "  'quality_id',\n",
       "  'county_id',\n",
       "  'roomcnt',\n",
       "  'heating_type',\n",
       "  'county',\n",
       "  'month_sold'],\n",
       " ['home_area',\n",
       "  'latitude',\n",
       "  'longitude',\n",
       "  'lot_area',\n",
       "  'census_tb',\n",
       "  'city_id',\n",
       "  'zip_code',\n",
       "  'structure_tax',\n",
       "  'tax_value',\n",
       "  'land_tax_value',\n",
       "  'tax_paid',\n",
       "  'logerror',\n",
       "  'year_built',\n",
       "  'yearly_tax',\n",
       "  'tax_rate'])"
      ]
     },
     "execution_count": 15,
     "metadata": {},
     "output_type": "execute_result"
    }
   ],
   "source": [
    "# Separating feats into categorical and quantitative feats\n",
    "feats, cats, quants = ex.separate_feats(explore_train)\n",
    "cats, quants"
   ]
  },
  {
   "cell_type": "code",
   "execution_count": 16,
   "id": "86efa8d1",
   "metadata": {
    "scrolled": true
   },
   "outputs": [
    {
     "data": {
      "text/html": [
       "<div>\n",
       "<style scoped>\n",
       "    .dataframe tbody tr th:only-of-type {\n",
       "        vertical-align: middle;\n",
       "    }\n",
       "\n",
       "    .dataframe tbody tr th {\n",
       "        vertical-align: top;\n",
       "    }\n",
       "\n",
       "    .dataframe thead th {\n",
       "        text-align: right;\n",
       "    }\n",
       "</style>\n",
       "<table border=\"1\" class=\"dataframe\">\n",
       "  <thead>\n",
       "    <tr style=\"text-align: right;\">\n",
       "      <th></th>\n",
       "      <th>72596</th>\n",
       "      <th>68566</th>\n",
       "      <th>23838</th>\n",
       "      <th>44498</th>\n",
       "      <th>40785</th>\n",
       "    </tr>\n",
       "  </thead>\n",
       "  <tbody>\n",
       "    <tr>\n",
       "      <th>bathrooms</th>\n",
       "      <td>0.000000</td>\n",
       "      <td>0.250000</td>\n",
       "      <td>0.250000</td>\n",
       "      <td>0.750000</td>\n",
       "      <td>0.250000</td>\n",
       "    </tr>\n",
       "    <tr>\n",
       "      <th>bedrooms</th>\n",
       "      <td>0.250000</td>\n",
       "      <td>0.250000</td>\n",
       "      <td>0.250000</td>\n",
       "      <td>0.375000</td>\n",
       "      <td>0.250000</td>\n",
       "    </tr>\n",
       "    <tr>\n",
       "      <th>quality_id</th>\n",
       "      <td>0.333333</td>\n",
       "      <td>0.111111</td>\n",
       "      <td>0.333333</td>\n",
       "      <td>0.333333</td>\n",
       "      <td>0.333333</td>\n",
       "    </tr>\n",
       "    <tr>\n",
       "      <th>home_area</th>\n",
       "      <td>0.167805</td>\n",
       "      <td>0.098674</td>\n",
       "      <td>0.147910</td>\n",
       "      <td>0.540796</td>\n",
       "      <td>0.188505</td>\n",
       "    </tr>\n",
       "    <tr>\n",
       "      <th>latitude</th>\n",
       "      <td>0.579245</td>\n",
       "      <td>0.357174</td>\n",
       "      <td>0.640581</td>\n",
       "      <td>0.079747</td>\n",
       "      <td>0.255776</td>\n",
       "    </tr>\n",
       "    <tr>\n",
       "      <th>longitude</th>\n",
       "      <td>0.323298</td>\n",
       "      <td>0.670726</td>\n",
       "      <td>0.537799</td>\n",
       "      <td>0.976765</td>\n",
       "      <td>0.903915</td>\n",
       "    </tr>\n",
       "    <tr>\n",
       "      <th>lot_area</th>\n",
       "      <td>0.001459</td>\n",
       "      <td>0.000652</td>\n",
       "      <td>0.001075</td>\n",
       "      <td>0.001095</td>\n",
       "      <td>0.000683</td>\n",
       "    </tr>\n",
       "    <tr>\n",
       "      <th>census_tb</th>\n",
       "      <td>0.999969</td>\n",
       "      <td>0.006350</td>\n",
       "      <td>0.000075</td>\n",
       "      <td>0.296869</td>\n",
       "      <td>0.297009</td>\n",
       "    </tr>\n",
       "    <tr>\n",
       "      <th>city_id</th>\n",
       "      <td>0.078325</td>\n",
       "      <td>0.108906</td>\n",
       "      <td>0.112083</td>\n",
       "      <td>0.025955</td>\n",
       "      <td>0.125066</td>\n",
       "    </tr>\n",
       "    <tr>\n",
       "      <th>county_id</th>\n",
       "      <td>0.426997</td>\n",
       "      <td>1.000000</td>\n",
       "      <td>1.000000</td>\n",
       "      <td>0.000000</td>\n",
       "      <td>0.000000</td>\n",
       "    </tr>\n",
       "    <tr>\n",
       "      <th>zip_code</th>\n",
       "      <td>0.001320</td>\n",
       "      <td>0.000846</td>\n",
       "      <td>0.001271</td>\n",
       "      <td>0.003296</td>\n",
       "      <td>0.003201</td>\n",
       "    </tr>\n",
       "    <tr>\n",
       "      <th>roomcnt</th>\n",
       "      <td>0.583333</td>\n",
       "      <td>0.000000</td>\n",
       "      <td>0.000000</td>\n",
       "      <td>0.000000</td>\n",
       "      <td>0.500000</td>\n",
       "    </tr>\n",
       "    <tr>\n",
       "      <th>structure_tax</th>\n",
       "      <td>0.081461</td>\n",
       "      <td>0.035604</td>\n",
       "      <td>0.031941</td>\n",
       "      <td>0.180907</td>\n",
       "      <td>0.051651</td>\n",
       "    </tr>\n",
       "    <tr>\n",
       "      <th>tax_value</th>\n",
       "      <td>0.065265</td>\n",
       "      <td>0.036014</td>\n",
       "      <td>0.036773</td>\n",
       "      <td>0.194606</td>\n",
       "      <td>0.062608</td>\n",
       "    </tr>\n",
       "    <tr>\n",
       "      <th>land_tax_value</th>\n",
       "      <td>0.029910</td>\n",
       "      <td>0.024241</td>\n",
       "      <td>0.027486</td>\n",
       "      <td>0.120931</td>\n",
       "      <td>0.045764</td>\n",
       "    </tr>\n",
       "    <tr>\n",
       "      <th>tax_paid</th>\n",
       "      <td>0.060215</td>\n",
       "      <td>0.040978</td>\n",
       "      <td>0.043029</td>\n",
       "      <td>0.184329</td>\n",
       "      <td>0.058066</td>\n",
       "    </tr>\n",
       "    <tr>\n",
       "      <th>logerror</th>\n",
       "      <td>0.611471</td>\n",
       "      <td>0.586420</td>\n",
       "      <td>0.594285</td>\n",
       "      <td>0.577550</td>\n",
       "      <td>0.594956</td>\n",
       "    </tr>\n",
       "    <tr>\n",
       "      <th>year_built</th>\n",
       "      <td>0.607407</td>\n",
       "      <td>0.466667</td>\n",
       "      <td>0.555556</td>\n",
       "      <td>0.911111</td>\n",
       "      <td>0.718519</td>\n",
       "    </tr>\n",
       "    <tr>\n",
       "      <th>yearly_tax</th>\n",
       "      <td>0.010691</td>\n",
       "      <td>0.004454</td>\n",
       "      <td>0.005448</td>\n",
       "      <td>0.103634</td>\n",
       "      <td>0.013908</td>\n",
       "    </tr>\n",
       "    <tr>\n",
       "      <th>tax_rate</th>\n",
       "      <td>0.061779</td>\n",
       "      <td>0.035898</td>\n",
       "      <td>0.050503</td>\n",
       "      <td>0.303703</td>\n",
       "      <td>0.097971</td>\n",
       "    </tr>\n",
       "    <tr>\n",
       "      <th>heating_type_Baseboard</th>\n",
       "      <td>0.000000</td>\n",
       "      <td>0.000000</td>\n",
       "      <td>0.000000</td>\n",
       "      <td>0.000000</td>\n",
       "      <td>0.000000</td>\n",
       "    </tr>\n",
       "    <tr>\n",
       "      <th>heating_type_Central</th>\n",
       "      <td>0.000000</td>\n",
       "      <td>0.000000</td>\n",
       "      <td>1.000000</td>\n",
       "      <td>0.000000</td>\n",
       "      <td>0.000000</td>\n",
       "    </tr>\n",
       "    <tr>\n",
       "      <th>heating_type_Floor/Wall</th>\n",
       "      <td>0.000000</td>\n",
       "      <td>1.000000</td>\n",
       "      <td>0.000000</td>\n",
       "      <td>0.000000</td>\n",
       "      <td>0.000000</td>\n",
       "    </tr>\n",
       "    <tr>\n",
       "      <th>heating_type_Forced air</th>\n",
       "      <td>0.000000</td>\n",
       "      <td>0.000000</td>\n",
       "      <td>0.000000</td>\n",
       "      <td>0.000000</td>\n",
       "      <td>0.000000</td>\n",
       "    </tr>\n",
       "    <tr>\n",
       "      <th>heating_type_None</th>\n",
       "      <td>1.000000</td>\n",
       "      <td>0.000000</td>\n",
       "      <td>0.000000</td>\n",
       "      <td>1.000000</td>\n",
       "      <td>1.000000</td>\n",
       "    </tr>\n",
       "    <tr>\n",
       "      <th>heating_type_Radiant</th>\n",
       "      <td>0.000000</td>\n",
       "      <td>0.000000</td>\n",
       "      <td>0.000000</td>\n",
       "      <td>0.000000</td>\n",
       "      <td>0.000000</td>\n",
       "    </tr>\n",
       "    <tr>\n",
       "      <th>heating_type_Solar</th>\n",
       "      <td>0.000000</td>\n",
       "      <td>0.000000</td>\n",
       "      <td>0.000000</td>\n",
       "      <td>0.000000</td>\n",
       "      <td>0.000000</td>\n",
       "    </tr>\n",
       "    <tr>\n",
       "      <th>county_Los Angeles</th>\n",
       "      <td>0.000000</td>\n",
       "      <td>1.000000</td>\n",
       "      <td>1.000000</td>\n",
       "      <td>0.000000</td>\n",
       "      <td>0.000000</td>\n",
       "    </tr>\n",
       "    <tr>\n",
       "      <th>county_Orange</th>\n",
       "      <td>0.000000</td>\n",
       "      <td>0.000000</td>\n",
       "      <td>0.000000</td>\n",
       "      <td>1.000000</td>\n",
       "      <td>1.000000</td>\n",
       "    </tr>\n",
       "    <tr>\n",
       "      <th>county_Ventura</th>\n",
       "      <td>1.000000</td>\n",
       "      <td>0.000000</td>\n",
       "      <td>0.000000</td>\n",
       "      <td>0.000000</td>\n",
       "      <td>0.000000</td>\n",
       "    </tr>\n",
       "    <tr>\n",
       "      <th>month_sold_0.0</th>\n",
       "      <td>0.000000</td>\n",
       "      <td>0.000000</td>\n",
       "      <td>0.000000</td>\n",
       "      <td>0.000000</td>\n",
       "      <td>0.000000</td>\n",
       "    </tr>\n",
       "    <tr>\n",
       "      <th>month_sold_0.125</th>\n",
       "      <td>0.000000</td>\n",
       "      <td>0.000000</td>\n",
       "      <td>0.000000</td>\n",
       "      <td>0.000000</td>\n",
       "      <td>0.000000</td>\n",
       "    </tr>\n",
       "    <tr>\n",
       "      <th>month_sold_0.25</th>\n",
       "      <td>0.000000</td>\n",
       "      <td>0.000000</td>\n",
       "      <td>0.000000</td>\n",
       "      <td>0.000000</td>\n",
       "      <td>0.000000</td>\n",
       "    </tr>\n",
       "    <tr>\n",
       "      <th>month_sold_0.375</th>\n",
       "      <td>0.000000</td>\n",
       "      <td>0.000000</td>\n",
       "      <td>1.000000</td>\n",
       "      <td>0.000000</td>\n",
       "      <td>0.000000</td>\n",
       "    </tr>\n",
       "    <tr>\n",
       "      <th>month_sold_0.5</th>\n",
       "      <td>0.000000</td>\n",
       "      <td>0.000000</td>\n",
       "      <td>0.000000</td>\n",
       "      <td>0.000000</td>\n",
       "      <td>1.000000</td>\n",
       "    </tr>\n",
       "    <tr>\n",
       "      <th>month_sold_0.625</th>\n",
       "      <td>0.000000</td>\n",
       "      <td>0.000000</td>\n",
       "      <td>0.000000</td>\n",
       "      <td>1.000000</td>\n",
       "      <td>0.000000</td>\n",
       "    </tr>\n",
       "    <tr>\n",
       "      <th>month_sold_0.75</th>\n",
       "      <td>0.000000</td>\n",
       "      <td>0.000000</td>\n",
       "      <td>0.000000</td>\n",
       "      <td>0.000000</td>\n",
       "      <td>0.000000</td>\n",
       "    </tr>\n",
       "    <tr>\n",
       "      <th>month_sold_0.875</th>\n",
       "      <td>1.000000</td>\n",
       "      <td>1.000000</td>\n",
       "      <td>0.000000</td>\n",
       "      <td>0.000000</td>\n",
       "      <td>0.000000</td>\n",
       "    </tr>\n",
       "    <tr>\n",
       "      <th>month_sold_1.0</th>\n",
       "      <td>0.000000</td>\n",
       "      <td>0.000000</td>\n",
       "      <td>0.000000</td>\n",
       "      <td>0.000000</td>\n",
       "      <td>0.000000</td>\n",
       "    </tr>\n",
       "  </tbody>\n",
       "</table>\n",
       "</div>"
      ],
      "text/plain": [
       "                            72596     68566     23838     44498     40785\n",
       "bathrooms                0.000000  0.250000  0.250000  0.750000  0.250000\n",
       "bedrooms                 0.250000  0.250000  0.250000  0.375000  0.250000\n",
       "quality_id               0.333333  0.111111  0.333333  0.333333  0.333333\n",
       "home_area                0.167805  0.098674  0.147910  0.540796  0.188505\n",
       "latitude                 0.579245  0.357174  0.640581  0.079747  0.255776\n",
       "longitude                0.323298  0.670726  0.537799  0.976765  0.903915\n",
       "lot_area                 0.001459  0.000652  0.001075  0.001095  0.000683\n",
       "census_tb                0.999969  0.006350  0.000075  0.296869  0.297009\n",
       "city_id                  0.078325  0.108906  0.112083  0.025955  0.125066\n",
       "county_id                0.426997  1.000000  1.000000  0.000000  0.000000\n",
       "zip_code                 0.001320  0.000846  0.001271  0.003296  0.003201\n",
       "roomcnt                  0.583333  0.000000  0.000000  0.000000  0.500000\n",
       "structure_tax            0.081461  0.035604  0.031941  0.180907  0.051651\n",
       "tax_value                0.065265  0.036014  0.036773  0.194606  0.062608\n",
       "land_tax_value           0.029910  0.024241  0.027486  0.120931  0.045764\n",
       "tax_paid                 0.060215  0.040978  0.043029  0.184329  0.058066\n",
       "logerror                 0.611471  0.586420  0.594285  0.577550  0.594956\n",
       "year_built               0.607407  0.466667  0.555556  0.911111  0.718519\n",
       "yearly_tax               0.010691  0.004454  0.005448  0.103634  0.013908\n",
       "tax_rate                 0.061779  0.035898  0.050503  0.303703  0.097971\n",
       "heating_type_Baseboard   0.000000  0.000000  0.000000  0.000000  0.000000\n",
       "heating_type_Central     0.000000  0.000000  1.000000  0.000000  0.000000\n",
       "heating_type_Floor/Wall  0.000000  1.000000  0.000000  0.000000  0.000000\n",
       "heating_type_Forced air  0.000000  0.000000  0.000000  0.000000  0.000000\n",
       "heating_type_None        1.000000  0.000000  0.000000  1.000000  1.000000\n",
       "heating_type_Radiant     0.000000  0.000000  0.000000  0.000000  0.000000\n",
       "heating_type_Solar       0.000000  0.000000  0.000000  0.000000  0.000000\n",
       "county_Los Angeles       0.000000  1.000000  1.000000  0.000000  0.000000\n",
       "county_Orange            0.000000  0.000000  0.000000  1.000000  1.000000\n",
       "county_Ventura           1.000000  0.000000  0.000000  0.000000  0.000000\n",
       "month_sold_0.0           0.000000  0.000000  0.000000  0.000000  0.000000\n",
       "month_sold_0.125         0.000000  0.000000  0.000000  0.000000  0.000000\n",
       "month_sold_0.25          0.000000  0.000000  0.000000  0.000000  0.000000\n",
       "month_sold_0.375         0.000000  0.000000  1.000000  0.000000  0.000000\n",
       "month_sold_0.5           0.000000  0.000000  0.000000  0.000000  1.000000\n",
       "month_sold_0.625         0.000000  0.000000  0.000000  1.000000  0.000000\n",
       "month_sold_0.75          0.000000  0.000000  0.000000  0.000000  0.000000\n",
       "month_sold_0.875         1.000000  1.000000  0.000000  0.000000  0.000000\n",
       "month_sold_1.0           0.000000  0.000000  0.000000  0.000000  0.000000"
      ]
     },
     "execution_count": 16,
     "metadata": {},
     "output_type": "execute_result"
    }
   ],
   "source": [
    "# Encoding cols for processing and exploration\n",
    "cols =['heating_type', 'county', 'month_sold']\n",
    "\n",
    "enc_train, enc_validate, enc_test = ex.encode_cols(scaled_etrain, scaled_evaluate, scaled_etest, cols)\n",
    "enc_train.head().T"
   ]
  },
  {
   "cell_type": "markdown",
   "id": "0470f23d",
   "metadata": {},
   "source": [
    "## Hypothesis Testing"
   ]
  },
  {
   "cell_type": "code",
   "execution_count": 17,
   "id": "1d9ab97f",
   "metadata": {
    "scrolled": false
   },
   "outputs": [
    {
     "data": {
      "text/html": [
       "<div>\n",
       "<style scoped>\n",
       "    .dataframe tbody tr th:only-of-type {\n",
       "        vertical-align: middle;\n",
       "    }\n",
       "\n",
       "    .dataframe tbody tr th {\n",
       "        vertical-align: top;\n",
       "    }\n",
       "\n",
       "    .dataframe thead th {\n",
       "        text-align: right;\n",
       "    }\n",
       "</style>\n",
       "<table border=\"1\" class=\"dataframe\">\n",
       "  <thead>\n",
       "    <tr style=\"text-align: right;\">\n",
       "      <th></th>\n",
       "      <th>feature</th>\n",
       "      <th>p_values</th>\n",
       "      <th>chi2</th>\n",
       "    </tr>\n",
       "  </thead>\n",
       "  <tbody>\n",
       "    <tr>\n",
       "      <th>0</th>\n",
       "      <td>bathrooms</td>\n",
       "      <td>0.000000e+00</td>\n",
       "      <td>3694.504726</td>\n",
       "    </tr>\n",
       "    <tr>\n",
       "      <th>1</th>\n",
       "      <td>quality_id</td>\n",
       "      <td>0.000000e+00</td>\n",
       "      <td>167704.000000</td>\n",
       "    </tr>\n",
       "    <tr>\n",
       "      <th>2</th>\n",
       "      <td>heating_type</td>\n",
       "      <td>0.000000e+00</td>\n",
       "      <td>6692.469099</td>\n",
       "    </tr>\n",
       "    <tr>\n",
       "      <th>3</th>\n",
       "      <td>county</td>\n",
       "      <td>6.456051e-100</td>\n",
       "      <td>617.418304</td>\n",
       "    </tr>\n",
       "    <tr>\n",
       "      <th>4</th>\n",
       "      <td>county_id</td>\n",
       "      <td>2.583933e-60</td>\n",
       "      <td>473.087040</td>\n",
       "    </tr>\n",
       "    <tr>\n",
       "      <th>5</th>\n",
       "      <td>roomcnt</td>\n",
       "      <td>8.359994e-59</td>\n",
       "      <td>321.619331</td>\n",
       "    </tr>\n",
       "    <tr>\n",
       "      <th>6</th>\n",
       "      <td>month_sold</td>\n",
       "      <td>8.359994e-59</td>\n",
       "      <td>321.619331</td>\n",
       "    </tr>\n",
       "  </tbody>\n",
       "</table>\n",
       "</div>"
      ],
      "text/plain": [
       "        feature       p_values           chi2\n",
       "0     bathrooms   0.000000e+00    3694.504726\n",
       "1    quality_id   0.000000e+00  167704.000000\n",
       "2  heating_type   0.000000e+00    6692.469099\n",
       "3        county  6.456051e-100     617.418304\n",
       "4     county_id   2.583933e-60     473.087040\n",
       "5       roomcnt   8.359994e-59     321.619331\n",
       "6    month_sold   8.359994e-59     321.619331"
      ]
     },
     "execution_count": 17,
     "metadata": {},
     "output_type": "execute_result"
    }
   ],
   "source": [
    "# run a chi2_contingency test on target cat_var for colinearity with bedrooms\n",
    "ex.co_linearity(scaled_etrain, 'bedrooms', cats)"
   ]
  },
  {
   "cell_type": "code",
   "execution_count": 18,
   "id": "0492ab9b",
   "metadata": {},
   "outputs": [
    {
     "data": {
      "text/html": [
       "<div>\n",
       "<style scoped>\n",
       "    .dataframe tbody tr th:only-of-type {\n",
       "        vertical-align: middle;\n",
       "    }\n",
       "\n",
       "    .dataframe tbody tr th {\n",
       "        vertical-align: top;\n",
       "    }\n",
       "\n",
       "    .dataframe thead th {\n",
       "        text-align: right;\n",
       "    }\n",
       "</style>\n",
       "<table border=\"1\" class=\"dataframe\">\n",
       "  <thead>\n",
       "    <tr style=\"text-align: right;\">\n",
       "      <th></th>\n",
       "      <th>feature</th>\n",
       "      <th>p_values</th>\n",
       "      <th>chi2</th>\n",
       "    </tr>\n",
       "  </thead>\n",
       "  <tbody>\n",
       "    <tr>\n",
       "      <th>0</th>\n",
       "      <td>bedrooms</td>\n",
       "      <td>0.0</td>\n",
       "      <td>83852.000000</td>\n",
       "    </tr>\n",
       "    <tr>\n",
       "      <th>1</th>\n",
       "      <td>quality_id</td>\n",
       "      <td>0.0</td>\n",
       "      <td>3694.504726</td>\n",
       "    </tr>\n",
       "    <tr>\n",
       "      <th>2</th>\n",
       "      <td>county_id</td>\n",
       "      <td>0.0</td>\n",
       "      <td>5193.797018</td>\n",
       "    </tr>\n",
       "    <tr>\n",
       "      <th>3</th>\n",
       "      <td>roomcnt</td>\n",
       "      <td>0.0</td>\n",
       "      <td>5234.670609</td>\n",
       "    </tr>\n",
       "    <tr>\n",
       "      <th>4</th>\n",
       "      <td>heating_type</td>\n",
       "      <td>0.0</td>\n",
       "      <td>6639.230524</td>\n",
       "    </tr>\n",
       "    <tr>\n",
       "      <th>5</th>\n",
       "      <td>county</td>\n",
       "      <td>0.0</td>\n",
       "      <td>6119.683923</td>\n",
       "    </tr>\n",
       "    <tr>\n",
       "      <th>6</th>\n",
       "      <td>month_sold</td>\n",
       "      <td>0.0</td>\n",
       "      <td>5234.670609</td>\n",
       "    </tr>\n",
       "  </tbody>\n",
       "</table>\n",
       "</div>"
      ],
      "text/plain": [
       "        feature  p_values          chi2\n",
       "0      bedrooms       0.0  83852.000000\n",
       "1    quality_id       0.0   3694.504726\n",
       "2     county_id       0.0   5193.797018\n",
       "3       roomcnt       0.0   5234.670609\n",
       "4  heating_type       0.0   6639.230524\n",
       "5        county       0.0   6119.683923\n",
       "6    month_sold       0.0   5234.670609"
      ]
     },
     "execution_count": 18,
     "metadata": {},
     "output_type": "execute_result"
    }
   ],
   "source": [
    "# run a chi2_contingency test on target cat_var for colinearity with bathrooms\n",
    "ex.co_linearity(scaled_etrain, 'bathrooms', cats)"
   ]
  },
  {
   "cell_type": "code",
   "execution_count": 19,
   "id": "36e47379",
   "metadata": {
    "scrolled": true
   },
   "outputs": [
    {
     "data": {
      "text/html": [
       "<div>\n",
       "<style scoped>\n",
       "    .dataframe tbody tr th:only-of-type {\n",
       "        vertical-align: middle;\n",
       "    }\n",
       "\n",
       "    .dataframe tbody tr th {\n",
       "        vertical-align: top;\n",
       "    }\n",
       "\n",
       "    .dataframe thead th {\n",
       "        text-align: right;\n",
       "    }\n",
       "</style>\n",
       "<table border=\"1\" class=\"dataframe\">\n",
       "  <thead>\n",
       "    <tr style=\"text-align: right;\">\n",
       "      <th></th>\n",
       "      <th>feature</th>\n",
       "      <th>p_values</th>\n",
       "      <th>chi2</th>\n",
       "    </tr>\n",
       "  </thead>\n",
       "  <tbody>\n",
       "    <tr>\n",
       "      <th>0</th>\n",
       "      <td>bathrooms</td>\n",
       "      <td>0.000000e+00</td>\n",
       "      <td>5234.670609</td>\n",
       "    </tr>\n",
       "    <tr>\n",
       "      <th>1</th>\n",
       "      <td>quality_id</td>\n",
       "      <td>0.000000e+00</td>\n",
       "      <td>7846.317010</td>\n",
       "    </tr>\n",
       "    <tr>\n",
       "      <th>2</th>\n",
       "      <td>county_id</td>\n",
       "      <td>0.000000e+00</td>\n",
       "      <td>41926.000000</td>\n",
       "    </tr>\n",
       "    <tr>\n",
       "      <th>3</th>\n",
       "      <td>roomcnt</td>\n",
       "      <td>0.000000e+00</td>\n",
       "      <td>15713.091401</td>\n",
       "    </tr>\n",
       "    <tr>\n",
       "      <th>4</th>\n",
       "      <td>heating_type</td>\n",
       "      <td>0.000000e+00</td>\n",
       "      <td>20778.409357</td>\n",
       "    </tr>\n",
       "    <tr>\n",
       "      <th>5</th>\n",
       "      <td>month_sold</td>\n",
       "      <td>0.000000e+00</td>\n",
       "      <td>41926.000000</td>\n",
       "    </tr>\n",
       "    <tr>\n",
       "      <th>6</th>\n",
       "      <td>bedrooms</td>\n",
       "      <td>8.359994e-59</td>\n",
       "      <td>321.619331</td>\n",
       "    </tr>\n",
       "  </tbody>\n",
       "</table>\n",
       "</div>"
      ],
      "text/plain": [
       "        feature      p_values          chi2\n",
       "0     bathrooms  0.000000e+00   5234.670609\n",
       "1    quality_id  0.000000e+00   7846.317010\n",
       "2     county_id  0.000000e+00  41926.000000\n",
       "3       roomcnt  0.000000e+00  15713.091401\n",
       "4  heating_type  0.000000e+00  20778.409357\n",
       "5    month_sold  0.000000e+00  41926.000000\n",
       "6      bedrooms  8.359994e-59    321.619331"
      ]
     },
     "execution_count": 19,
     "metadata": {},
     "output_type": "execute_result"
    }
   ],
   "source": [
    "# run a chi2_contingency test on target cat_var for colinearity with other feats\n",
    "ex.co_linearity(scaled_etrain, 'county', cats)"
   ]
  },
  {
   "cell_type": "code",
   "execution_count": 20,
   "id": "1f51bc21",
   "metadata": {},
   "outputs": [
    {
     "data": {
      "text/html": [
       "<div>\n",
       "<style scoped>\n",
       "    .dataframe tbody tr th:only-of-type {\n",
       "        vertical-align: middle;\n",
       "    }\n",
       "\n",
       "    .dataframe tbody tr th {\n",
       "        vertical-align: top;\n",
       "    }\n",
       "\n",
       "    .dataframe thead th {\n",
       "        text-align: right;\n",
       "    }\n",
       "</style>\n",
       "<table border=\"1\" class=\"dataframe\">\n",
       "  <thead>\n",
       "    <tr style=\"text-align: right;\">\n",
       "      <th></th>\n",
       "      <th>feature</th>\n",
       "      <th>p_values</th>\n",
       "      <th>chi2</th>\n",
       "    </tr>\n",
       "  </thead>\n",
       "  <tbody>\n",
       "    <tr>\n",
       "      <th>0</th>\n",
       "      <td>county</td>\n",
       "      <td>0.000137</td>\n",
       "      <td>45.027712</td>\n",
       "    </tr>\n",
       "    <tr>\n",
       "      <th>1</th>\n",
       "      <td>county_id</td>\n",
       "      <td>0.000137</td>\n",
       "      <td>45.027712</td>\n",
       "    </tr>\n",
       "    <tr>\n",
       "      <th>2</th>\n",
       "      <td>bathrooms</td>\n",
       "      <td>0.000593</td>\n",
       "      <td>64.383796</td>\n",
       "    </tr>\n",
       "    <tr>\n",
       "      <th>3</th>\n",
       "      <td>heating_type</td>\n",
       "      <td>0.000650</td>\n",
       "      <td>85.823002</td>\n",
       "    </tr>\n",
       "    <tr>\n",
       "      <th>4</th>\n",
       "      <td>quality_id</td>\n",
       "      <td>0.001323</td>\n",
       "      <td>113.469326</td>\n",
       "    </tr>\n",
       "    <tr>\n",
       "      <th>5</th>\n",
       "      <td>roomcnt</td>\n",
       "      <td>0.187747</td>\n",
       "      <td>99.568435</td>\n",
       "    </tr>\n",
       "    <tr>\n",
       "      <th>6</th>\n",
       "      <td>bedrooms</td>\n",
       "      <td>0.688968</td>\n",
       "      <td>57.952346</td>\n",
       "    </tr>\n",
       "  </tbody>\n",
       "</table>\n",
       "</div>"
      ],
      "text/plain": [
       "        feature  p_values        chi2\n",
       "0        county  0.000137   45.027712\n",
       "1     county_id  0.000137   45.027712\n",
       "2     bathrooms  0.000593   64.383796\n",
       "3  heating_type  0.000650   85.823002\n",
       "4    quality_id  0.001323  113.469326\n",
       "5       roomcnt  0.187747   99.568435\n",
       "6      bedrooms  0.688968   57.952346"
      ]
     },
     "execution_count": 20,
     "metadata": {},
     "output_type": "execute_result"
    }
   ],
   "source": [
    "# run a chi2_contingency test on target cat_var for colinearity with other feats\n",
    "ex.co_linearity(scaled_etrain, 'month_sold', cats)"
   ]
  },
  {
   "cell_type": "markdown",
   "id": "dfa900c9",
   "metadata": {},
   "source": [
    "#### Co-linearity takeaways:\n",
    "- Almost all of the categorical variables exhibit at least mild co-linearity"
   ]
  },
  {
   "cell_type": "code",
   "execution_count": 21,
   "id": "0161e505",
   "metadata": {
    "scrolled": true
   },
   "outputs": [
    {
     "data": {
      "text/html": [
       "<div>\n",
       "<style scoped>\n",
       "    .dataframe tbody tr th:only-of-type {\n",
       "        vertical-align: middle;\n",
       "    }\n",
       "\n",
       "    .dataframe tbody tr th {\n",
       "        vertical-align: top;\n",
       "    }\n",
       "\n",
       "    .dataframe thead th {\n",
       "        text-align: right;\n",
       "    }\n",
       "</style>\n",
       "<table border=\"1\" class=\"dataframe\">\n",
       "  <thead>\n",
       "    <tr style=\"text-align: right;\">\n",
       "      <th></th>\n",
       "      <th>feature</th>\n",
       "      <th>p_values</th>\n",
       "      <th>corr</th>\n",
       "    </tr>\n",
       "  </thead>\n",
       "  <tbody>\n",
       "    <tr>\n",
       "      <th>0</th>\n",
       "      <td>home_area</td>\n",
       "      <td>0.000450</td>\n",
       "      <td>0.024231</td>\n",
       "    </tr>\n",
       "    <tr>\n",
       "      <th>1</th>\n",
       "      <td>latitude</td>\n",
       "      <td>0.003117</td>\n",
       "      <td>-0.020415</td>\n",
       "    </tr>\n",
       "    <tr>\n",
       "      <th>2</th>\n",
       "      <td>longitude</td>\n",
       "      <td>0.004205</td>\n",
       "      <td>0.019769</td>\n",
       "    </tr>\n",
       "    <tr>\n",
       "      <th>3</th>\n",
       "      <td>tax_paid</td>\n",
       "      <td>0.043822</td>\n",
       "      <td>-0.013923</td>\n",
       "    </tr>\n",
       "    <tr>\n",
       "      <th>4</th>\n",
       "      <td>land_tax_value</td>\n",
       "      <td>0.044893</td>\n",
       "      <td>-0.013853</td>\n",
       "    </tr>\n",
       "    <tr>\n",
       "      <th>5</th>\n",
       "      <td>yearly_tax</td>\n",
       "      <td>0.059436</td>\n",
       "      <td>0.013019</td>\n",
       "    </tr>\n",
       "    <tr>\n",
       "      <th>6</th>\n",
       "      <td>tax_value</td>\n",
       "      <td>0.067575</td>\n",
       "      <td>-0.012625</td>\n",
       "    </tr>\n",
       "    <tr>\n",
       "      <th>7</th>\n",
       "      <td>year_built</td>\n",
       "      <td>0.300490</td>\n",
       "      <td>0.007151</td>\n",
       "    </tr>\n",
       "    <tr>\n",
       "      <th>8</th>\n",
       "      <td>structure_tax</td>\n",
       "      <td>0.450989</td>\n",
       "      <td>-0.005206</td>\n",
       "    </tr>\n",
       "    <tr>\n",
       "      <th>9</th>\n",
       "      <td>census_tb</td>\n",
       "      <td>0.464101</td>\n",
       "      <td>0.005057</td>\n",
       "    </tr>\n",
       "    <tr>\n",
       "      <th>10</th>\n",
       "      <td>tax_rate</td>\n",
       "      <td>0.551369</td>\n",
       "      <td>0.004115</td>\n",
       "    </tr>\n",
       "    <tr>\n",
       "      <th>11</th>\n",
       "      <td>zip_code</td>\n",
       "      <td>0.673037</td>\n",
       "      <td>0.002915</td>\n",
       "    </tr>\n",
       "    <tr>\n",
       "      <th>12</th>\n",
       "      <td>city_id</td>\n",
       "      <td>0.716578</td>\n",
       "      <td>-0.002508</td>\n",
       "    </tr>\n",
       "    <tr>\n",
       "      <th>13</th>\n",
       "      <td>lot_area</td>\n",
       "      <td>0.862760</td>\n",
       "      <td>0.001194</td>\n",
       "    </tr>\n",
       "  </tbody>\n",
       "</table>\n",
       "</div>"
      ],
      "text/plain": [
       "           feature  p_values      corr\n",
       "0        home_area  0.000450  0.024231\n",
       "1         latitude  0.003117 -0.020415\n",
       "2        longitude  0.004205  0.019769\n",
       "3         tax_paid  0.043822 -0.013923\n",
       "4   land_tax_value  0.044893 -0.013853\n",
       "5       yearly_tax  0.059436  0.013019\n",
       "6        tax_value  0.067575 -0.012625\n",
       "7       year_built  0.300490  0.007151\n",
       "8    structure_tax  0.450989 -0.005206\n",
       "9        census_tb  0.464101  0.005057\n",
       "10        tax_rate  0.551369  0.004115\n",
       "11        zip_code  0.673037  0.002915\n",
       "12         city_id  0.716578 -0.002508\n",
       "13        lot_area  0.862760  0.001194"
      ]
     },
     "execution_count": 21,
     "metadata": {},
     "output_type": "execute_result"
    }
   ],
   "source": [
    "# run a pearsonsr test on logerror and quant vars\n",
    "ex.pearsons(scaled_etrain, 'logerror', quants)"
   ]
  },
  {
   "cell_type": "markdown",
   "id": "8c38eae5",
   "metadata": {},
   "source": [
    "#### Pearsons r Takeaways:\n",
    "- logerror has significant correlation with home_area, latitude, longitude, tax_paid and land_tax_value\n",
    "\n",
    "### Visualizations:"
   ]
  },
  {
   "cell_type": "code",
   "execution_count": 22,
   "id": "a72c7ce1",
   "metadata": {},
   "outputs": [
    {
     "data": {
      "image/png": "[encoded data removed]",
      "text/plain": [
       "<Figure size 360x360 with 1 Axes>"
      ]
     },
     "metadata": {
      "needs_background": "light"
     },
     "output_type": "display_data"
    },
    {
     "name": "stdout",
     "output_type": "stream",
     "text": [
      "   bathrooms  Count  Percent\n",
      "0       0.00  12173    58.07\n",
      "1       0.25   5708    27.23\n",
      "2       0.75   2153    10.27\n",
      "3       0.50    481     2.29\n",
      "4       1.00    448     2.14\n",
      "_________________________________________________________________\n"
     ]
    },
    {
     "data": {
      "image/png": "[encoded data removed]",
      "text/plain": [
       "<Figure size 360x360 with 1 Axes>"
      ]
     },
     "metadata": {
      "needs_background": "light"
     },
     "output_type": "display_data"
    },
    {
     "name": "stdout",
     "output_type": "stream",
     "text": [
      "   bedrooms  Count  Percent\n",
      "0     0.250  10588    50.51\n",
      "1     0.375   7293    34.79\n",
      "2     0.125   1769     8.44\n",
      "3     0.500   1153     5.50\n",
      "4     0.625    102     0.49\n",
      "5     0.000     35     0.17\n",
      "6     0.750     21     0.10\n",
      "7     1.000      1     0.00\n",
      "8     0.875      1     0.00\n",
      "_________________________________________________________________\n"
     ]
    },
    {
     "data": {
      "image/png": "[encoded data removed]",
      "text/plain": [
       "<Figure size 360x360 with 1 Axes>"
      ]
     },
     "metadata": {
      "needs_background": "light"
     },
     "output_type": "display_data"
    },
    {
     "name": "stdout",
     "output_type": "stream",
     "text": [
      "   quality_id  Count  Percent\n",
      "0    0.333333  13681    65.26\n",
      "1    0.111111   4273    20.38\n",
      "2    0.555556   1335     6.37\n",
      "3    0.444444   1312     6.26\n",
      "4    0.222222    220     1.05\n",
      "5    0.666667     80     0.38\n",
      "6    1.000000     47     0.22\n",
      "7    0.888889      9     0.04\n",
      "8    0.777778      3     0.01\n",
      "9    0.000000      3     0.01\n",
      "_________________________________________________________________\n"
     ]
    },
    {
     "data": {
      "image/png": "[encoded data removed]",
      "text/plain": [
       "<Figure size 360x360 with 1 Axes>"
      ]
     },
     "metadata": {
      "needs_background": "light"
     },
     "output_type": "display_data"
    },
    {
     "name": "stdout",
     "output_type": "stream",
     "text": [
      "   county_id  Count  Percent\n",
      "0   0.426997  12308    58.71\n",
      "1   1.000000   6586    31.42\n",
      "2   0.000000   2069     9.87\n",
      "_________________________________________________________________\n"
     ]
    },
    {
     "data": {
      "image/png": "[encoded data removed]",
      "text/plain": [
       "<Figure size 360x360 with 1 Axes>"
      ]
     },
     "metadata": {
      "needs_background": "light"
     },
     "output_type": "display_data"
    },
    {
     "name": "stdout",
     "output_type": "stream",
     "text": [
      "     roomcnt  Count  Percent\n",
      "0   0.583333  13902    66.32\n",
      "1   0.000000   2054     9.80\n",
      "2   0.500000   1908     9.10\n",
      "3   0.750000   1535     7.32\n",
      "4   0.666667    767     3.66\n",
      "5   0.416667    556     2.65\n",
      "6   0.833333    113     0.54\n",
      "7   0.333333     98     0.47\n",
      "8   0.916667     17     0.08\n",
      "9   0.250000      6     0.03\n",
      "10  0.166667      5     0.02\n",
      "11  1.000000      2     0.01\n",
      "_________________________________________________________________\n"
     ]
    },
    {
     "data": {
      "image/png": "[encoded data removed]",
      "text/plain": [
       "<Figure size 360x360 with 1 Axes>"
      ]
     },
     "metadata": {
      "needs_background": "light"
     },
     "output_type": "display_data"
    },
    {
     "name": "stdout",
     "output_type": "stream",
     "text": [
      "  heating_type  Count  Percent\n",
      "0         None   9319    44.45\n",
      "1   Floor/Wall   8459    40.35\n",
      "2      Central   2897    13.82\n",
      "3   Forced air    264     1.26\n",
      "4        Solar     14     0.07\n",
      "5    Baseboard      6     0.03\n",
      "6      Radiant      4     0.02\n",
      "_________________________________________________________________\n"
     ]
    },
    {
     "data": {
      "image/png": "[encoded data removed]",
      "text/plain": [
       "<Figure size 360x360 with 1 Axes>"
      ]
     },
     "metadata": {
      "needs_background": "light"
     },
     "output_type": "display_data"
    },
    {
     "name": "stdout",
     "output_type": "stream",
     "text": [
      "        county  Count  Percent\n",
      "0      Ventura  12308    58.71\n",
      "1  Los Angeles   6586    31.42\n",
      "2       Orange   2069     9.87\n",
      "_________________________________________________________________\n"
     ]
    },
    {
     "data": {
      "image/png": "[encoded data removed]",
      "text/plain": [
       "<Figure size 360x360 with 1 Axes>"
      ]
     },
     "metadata": {
      "needs_background": "light"
     },
     "output_type": "display_data"
    },
    {
     "name": "stdout",
     "output_type": "stream",
     "text": [
      "   month_sold  Count  Percent\n",
      "0       0.875   3167    15.11\n",
      "1       0.375   2869    13.69\n",
      "2       0.625   2727    13.01\n",
      "3       0.500   2549    12.16\n",
      "4       0.125   2517    12.01\n",
      "5       0.250   2369    11.30\n",
      "6       0.750   1851     8.83\n",
      "7       0.000   1656     7.90\n",
      "8       1.000   1258     6.00\n",
      "_________________________________________________________________\n"
     ]
    },
    {
     "data": {
      "image/png": "[encoded data removed]",
      "text/plain": [
       "<Figure size 576x144 with 2 Axes>"
      ]
     },
     "metadata": {
      "needs_background": "light"
     },
     "output_type": "display_data"
    },
    {
     "name": "stdout",
     "output_type": "stream",
     "text": [
      "count    20963.000000\n",
      "mean         0.252772\n",
      "std          0.124413\n",
      "min          0.000000\n",
      "25%          0.159164\n",
      "50%          0.224678\n",
      "75%          0.322347\n",
      "max          1.000000\n",
      "Name: home_area, dtype: float64\n"
     ]
    },
    {
     "data": {
      "image/png": "[encoded data removed]",
      "text/plain": [
       "<Figure size 576x144 with 2 Axes>"
      ]
     },
     "metadata": {
      "needs_background": "light"
     },
     "output_type": "display_data"
    },
    {
     "name": "stdout",
     "output_type": "stream",
     "text": [
      "count    20963.000000\n",
      "mean         0.462894\n",
      "std          0.196293\n",
      "min          0.000000\n",
      "25%          0.317974\n",
      "50%          0.461414\n",
      "75%          0.584679\n",
      "max          1.000000\n",
      "Name: latitude, dtype: float64\n"
     ]
    },
    {
     "data": {
      "image/png": "[encoded data removed]",
      "text/plain": [
       "<Figure size 576x144 with 2 Axes>"
      ]
     },
     "metadata": {
      "needs_background": "light"
     },
     "output_type": "display_data"
    },
    {
     "name": "stdout",
     "output_type": "stream",
     "text": [
      "count    20963.000000\n",
      "mean         0.679766\n",
      "std          0.197075\n",
      "min          0.000000\n",
      "25%          0.562387\n",
      "50%          0.716586\n",
      "75%          0.827903\n",
      "max          1.000000\n",
      "Name: longitude, dtype: float64\n"
     ]
    },
    {
     "data": {
      "image/png": "[encoded data removed]",
      "text/plain": [
       "<Figure size 576x144 with 2 Axes>"
      ]
     },
     "metadata": {
      "needs_background": "light"
     },
     "output_type": "display_data"
    },
    {
     "name": "stdout",
     "output_type": "stream",
     "text": [
      "count    20963.000000\n",
      "mean         0.001514\n",
      "std          0.014280\n",
      "min          0.000000\n",
      "25%          0.000792\n",
      "50%          0.000970\n",
      "75%          0.001223\n",
      "max          1.000000\n",
      "Name: lot_area, dtype: float64\n"
     ]
    },
    {
     "data": {
      "image/png": "[encoded data removed]",
      "text/plain": [
       "<Figure size 576x144 with 2 Axes>"
      ]
     },
     "metadata": {
      "needs_background": "light"
     },
     "output_type": "display_data"
    },
    {
     "name": "stdout",
     "output_type": "stream",
     "text": [
      "count    20963.000000\n",
      "mean         0.194955\n",
      "std          0.297386\n",
      "min          0.000000\n",
      "25%          0.004094\n",
      "50%          0.010820\n",
      "75%          0.297147\n",
      "max          1.000000\n",
      "Name: census_tb, dtype: float64\n"
     ]
    },
    {
     "data": {
      "image/png": "[encoded data removed]",
      "text/plain": [
       "<Figure size 576x144 with 2 Axes>"
      ]
     },
     "metadata": {
      "needs_background": "light"
     },
     "output_type": "display_data"
    },
    {
     "name": "stdout",
     "output_type": "stream",
     "text": [
      "count    20963.000000\n",
      "mean         0.073451\n",
      "std          0.114815\n",
      "min          0.000000\n",
      "25%          0.022785\n",
      "50%          0.054294\n",
      "75%          0.093460\n",
      "max          1.000000\n",
      "Name: city_id, dtype: float64\n"
     ]
    },
    {
     "data": {
      "image/png": "[encoded data removed]",
      "text/plain": [
       "<Figure size 576x144 with 2 Axes>"
      ]
     },
     "metadata": {
      "needs_background": "light"
     },
     "output_type": "display_data"
    },
    {
     "name": "stdout",
     "output_type": "stream",
     "text": [
      "count    20963.000000\n",
      "mean         0.002287\n",
      "std          0.012017\n",
      "min          0.000000\n",
      "25%          0.000873\n",
      "50%          0.001669\n",
      "75%          0.003421\n",
      "max          1.000000\n",
      "Name: zip_code, dtype: float64\n"
     ]
    },
    {
     "data": {
      "image/png": "[encoded data removed]",
      "text/plain": [
       "<Figure size 576x144 with 2 Axes>"
      ]
     },
     "metadata": {
      "needs_background": "light"
     },
     "output_type": "display_data"
    },
    {
     "name": "stdout",
     "output_type": "stream",
     "text": [
      "count    20963.000000\n",
      "mean         0.065534\n",
      "std          0.047863\n",
      "min          0.000000\n",
      "25%          0.033865\n",
      "50%          0.054206\n",
      "75%          0.083016\n",
      "max          1.000000\n",
      "Name: structure_tax, dtype: float64\n"
     ]
    },
    {
     "data": {
      "image/png": "[encoded data removed]",
      "text/plain": [
       "<Figure size 576x144 with 2 Axes>"
      ]
     },
     "metadata": {
      "needs_background": "light"
     },
     "output_type": "display_data"
    },
    {
     "name": "stdout",
     "output_type": "stream",
     "text": [
      "count    20963.000000\n",
      "mean         0.090054\n",
      "std          0.079091\n",
      "min          0.000000\n",
      "25%          0.037352\n",
      "50%          0.074374\n",
      "75%          0.117636\n",
      "max          1.000000\n",
      "Name: tax_value, dtype: float64\n"
     ]
    },
    {
     "data": {
      "image/png": "[encoded data removed]",
      "text/plain": [
       "<Figure size 576x144 with 2 Axes>"
      ]
     },
     "metadata": {
      "needs_background": "light"
     },
     "output_type": "display_data"
    },
    {
     "name": "stdout",
     "output_type": "stream",
     "text": [
      "count    20963.000000\n",
      "mean         0.069687\n",
      "std          0.074616\n",
      "min          0.000000\n",
      "25%          0.016318\n",
      "50%          0.051619\n",
      "75%          0.097285\n",
      "max          1.000000\n",
      "Name: land_tax_value, dtype: float64\n"
     ]
    },
    {
     "data": {
      "image/png": "[encoded data removed]",
      "text/plain": [
       "<Figure size 576x144 with 2 Axes>"
      ]
     },
     "metadata": {
      "needs_background": "light"
     },
     "output_type": "display_data"
    },
    {
     "name": "stdout",
     "output_type": "stream",
     "text": [
      "count    20963.000000\n",
      "mean         0.094924\n",
      "std          0.075374\n",
      "min          0.000000\n",
      "25%          0.046795\n",
      "50%          0.079891\n",
      "75%          0.119531\n",
      "max          1.000000\n",
      "Name: tax_paid, dtype: float64\n"
     ]
    },
    {
     "data": {
      "image/png": "[encoded data removed]",
      "text/plain": [
       "<Figure size 576x144 with 2 Axes>"
      ]
     },
     "metadata": {
      "needs_background": "light"
     },
     "output_type": "display_data"
    },
    {
     "name": "stdout",
     "output_type": "stream",
     "text": [
      "count    20963.000000\n",
      "mean         0.596601\n",
      "std          0.021213\n",
      "min          0.000000\n",
      "25%          0.591522\n",
      "50%          0.595281\n",
      "75%          0.599240\n",
      "max          1.000000\n",
      "Name: logerror, dtype: float64\n"
     ]
    },
    {
     "data": {
      "image/png": "[encoded data removed]",
      "text/plain": [
       "<Figure size 576x144 with 2 Axes>"
      ]
     },
     "metadata": {
      "needs_background": "light"
     },
     "output_type": "display_data"
    },
    {
     "name": "stdout",
     "output_type": "stream",
     "text": [
      "count    20963.000000\n",
      "mean         0.642784\n",
      "std          0.149225\n",
      "min          0.000000\n",
      "25%          0.548148\n",
      "50%          0.622222\n",
      "75%          0.740741\n",
      "max          1.000000\n",
      "Name: year_built, dtype: float64\n"
     ]
    },
    {
     "data": {
      "image/png": "[encoded data removed]",
      "text/plain": [
       "<Figure size 576x144 with 2 Axes>"
      ]
     },
     "metadata": {
      "needs_background": "light"
     },
     "output_type": "display_data"
    },
    {
     "name": "stdout",
     "output_type": "stream",
     "text": [
      "count    20963.000000\n",
      "mean         0.021635\n",
      "std          0.031777\n",
      "min          0.000000\n",
      "25%          0.006644\n",
      "50%          0.013426\n",
      "75%          0.024914\n",
      "max          1.000000\n",
      "Name: yearly_tax, dtype: float64\n"
     ]
    },
    {
     "data": {
      "image/png": "[encoded data removed]",
      "text/plain": [
       "<Figure size 576x144 with 2 Axes>"
      ]
     },
     "metadata": {
      "needs_background": "light"
     },
     "output_type": "display_data"
    },
    {
     "name": "stdout",
     "output_type": "stream",
     "text": [
      "count    20963.000000\n",
      "mean         0.100149\n",
      "std          0.099930\n",
      "min          0.000000\n",
      "25%          0.049101\n",
      "50%          0.065496\n",
      "75%          0.108400\n",
      "max          1.000000\n",
      "Name: tax_rate, dtype: float64\n"
     ]
    }
   ],
   "source": [
    "# Exploring all variables alone\n",
    "ex.explore_univariate(scaled_etrain, cats, quants)"
   ]
  },
  {
   "cell_type": "markdown",
   "id": "5ba83005",
   "metadata": {},
   "source": [
    "### Univariate takeaways\n",
    "- `cluster_r` is not particularly useful due uneven distributed\n",
    "- No quantitative variables have normal distribution"
   ]
  },
  {
   "cell_type": "code",
   "execution_count": 23,
   "id": "06d0b4d3",
   "metadata": {},
   "outputs": [
    {
     "data": {
      "image/png": "[encoded data removed]",
      "text/plain": [
       "<Figure size 432x288 with 1 Axes>"
      ]
     },
     "metadata": {
      "needs_background": "light"
     },
     "output_type": "display_data"
    }
   ],
   "source": [
    "sns.scatterplot(x='home_area', y='logerror',\n",
    "               data=scaled_etrain.sample(1000))\n",
    "plt.title(\"How does home_area compare to logerror?\")\n",
    "plt.show()"
   ]
  },
  {
   "cell_type": "code",
   "execution_count": 24,
   "id": "fa070e6a",
   "metadata": {},
   "outputs": [
    {
     "data": {
      "image/png": "[encoded data removed]",
      "text/plain": [
       "<Figure size 432x288 with 1 Axes>"
      ]
     },
     "metadata": {
      "needs_background": "light"
     },
     "output_type": "display_data"
    }
   ],
   "source": [
    "sns.scatterplot(x='tax_paid', y='logerror',\n",
    "               data=scaled_etrain.sample(1000))\n",
    "plt.title(\"How does home_area compare to logerror?\")\n",
    "plt.show()"
   ]
  },
  {
   "cell_type": "code",
   "execution_count": 25,
   "id": "e4f0607e",
   "metadata": {},
   "outputs": [
    {
     "data": {
      "image/png": "[encoded data removed]",
      "text/plain": [
       "<Figure size 432x288 with 1 Axes>"
      ]
     },
     "metadata": {
      "needs_background": "light"
     },
     "output_type": "display_data"
    }
   ],
   "source": [
    "sns.scatterplot(x='latitude', y='logerror',\n",
    "               data=scaled_etrain.sample(1000))\n",
    "plt.title(\"How does home_area compare to logerror?\")\n",
    "plt.show()"
   ]
  },
  {
   "cell_type": "code",
   "execution_count": 26,
   "id": "352d4b8a",
   "metadata": {},
   "outputs": [
    {
     "data": {
      "image/png": "[encoded data removed]",
      "text/plain": [
       "<Figure size 432x288 with 1 Axes>"
      ]
     },
     "metadata": {
      "needs_background": "light"
     },
     "output_type": "display_data"
    }
   ],
   "source": [
    "sns.stripplot(x='bedrooms', y='logerror',\n",
    "               data=scaled_etrain.sample(1000))\n",
    "plt.title(\"How does bedroom count compare to logerror?\")\n",
    "plt.show()"
   ]
  },
  {
   "cell_type": "markdown",
   "id": "5293e8c2",
   "metadata": {},
   "source": [
    "#### Scatter takeaways:\n",
    "- Very little visual correlation"
   ]
  },
  {
   "cell_type": "code",
   "execution_count": 27,
   "id": "59852324",
   "metadata": {},
   "outputs": [],
   "source": [
    "#ex.heatmap_combos(scaled_etrain)"
   ]
  },
  {
   "cell_type": "code",
   "execution_count": 28,
   "id": "58d7527a",
   "metadata": {
    "scrolled": true
   },
   "outputs": [],
   "source": [
    "#ex.plot_categorical_and_continuous_vars(explore_train[['logerror', 'bedrooms', 'tax_rate', 'yearly_tax']], explore_validate[['logerror', 'bedrooms', 'tax_rate', 'yearly_tax']], explore_test[['logerror', 'bedrooms', 'tax_rate', 'yearly_tax']])"
   ]
  },
  {
   "cell_type": "markdown",
   "id": "16d57f32",
   "metadata": {},
   "source": [
    "### Mass-vizualization takeaways:\n",
    "- logerror looks mildly linked to low yearly_tax, tax_rate\n",
    "- year_built appears non-linearly correlated with tax_rate, yearly_tax, tax_rate"
   ]
  },
  {
   "cell_type": "markdown",
   "id": "ea3667f2",
   "metadata": {},
   "source": [
    "### Exploring logerror"
   ]
  },
  {
   "cell_type": "code",
   "execution_count": 29,
   "id": "8125ca1f",
   "metadata": {},
   "outputs": [
    {
     "data": {
      "text/plain": [
       "(0.016627345241434527, 0.5966010834512772)"
      ]
     },
     "execution_count": 29,
     "metadata": {},
     "output_type": "execute_result"
    }
   ],
   "source": [
    "# Checking unscaled and scaled means\n",
    "explore_train.logerror.mean(), scaled_etrain.logerror.mean()"
   ]
  },
  {
   "cell_type": "code",
   "execution_count": 30,
   "id": "727dd3f5",
   "metadata": {},
   "outputs": [
    {
     "data": {
      "image/png": "[encoded data removed]",
      "text/plain": [
       "<Figure size 360x360 with 1 Axes>"
      ]
     },
     "metadata": {
      "needs_background": "light"
     },
     "output_type": "display_data"
    }
   ],
   "source": [
    "# Basic distplot of target var\n",
    "sns.displot(explore_train, x=\"logerror\", kind='hist')\n",
    "plt.title('Log error dist plot')\n",
    "plt.xlim([-1,1])\n",
    "plt.ticklabel_format(style='plain')\n",
    "plt.show()"
   ]
  },
  {
   "cell_type": "markdown",
   "id": "679dd117",
   "metadata": {},
   "source": [
    "### Cluster on logerror"
   ]
  },
  {
   "cell_type": "code",
   "execution_count": 31,
   "id": "62cc080b",
   "metadata": {},
   "outputs": [
    {
     "data": {
      "text/plain": [
       "0    19863\n",
       "3     1018\n",
       "1       60\n",
       "2       22\n",
       "Name: log_cluster, dtype: int64"
      ]
     },
     "execution_count": 31,
     "metadata": {},
     "output_type": "execute_result"
    }
   ],
   "source": [
    "X = scaled_etrain[['logerror']]\n",
    "kmeans = KMeans(n_clusters=4)\n",
    "kmeans.fit(X)\n",
    "\n",
    "# adding log_cluster to explore train sets but not X_train to prevent data leakage\n",
    "explore_train['log_cluster'] = kmeans.predict(X)\n",
    "scaled_etrain['log_cluster'] = kmeans.predict(X)\n",
    "\n",
    "\n",
    "explore_train.log_cluster.value_counts()"
   ]
  },
  {
   "cell_type": "code",
   "execution_count": 32,
   "id": "ce58666e",
   "metadata": {},
   "outputs": [
    {
     "data": {
      "text/html": [
       "<div>\n",
       "<style scoped>\n",
       "    .dataframe tbody tr th:only-of-type {\n",
       "        vertical-align: middle;\n",
       "    }\n",
       "\n",
       "    .dataframe tbody tr th {\n",
       "        vertical-align: top;\n",
       "    }\n",
       "\n",
       "    .dataframe thead th {\n",
       "        text-align: right;\n",
       "    }\n",
       "</style>\n",
       "<table border=\"1\" class=\"dataframe\">\n",
       "  <thead>\n",
       "    <tr style=\"text-align: right;\">\n",
       "      <th></th>\n",
       "      <th>centroid</th>\n",
       "    </tr>\n",
       "  </thead>\n",
       "  <tbody>\n",
       "    <tr>\n",
       "      <th>0</th>\n",
       "      <td>0.594156</td>\n",
       "    </tr>\n",
       "    <tr>\n",
       "      <th>1</th>\n",
       "      <td>0.840669</td>\n",
       "    </tr>\n",
       "    <tr>\n",
       "      <th>2</th>\n",
       "      <td>0.331152</td>\n",
       "    </tr>\n",
       "    <tr>\n",
       "      <th>3</th>\n",
       "      <td>0.635784</td>\n",
       "    </tr>\n",
       "  </tbody>\n",
       "</table>\n",
       "</div>"
      ],
      "text/plain": [
       "   centroid\n",
       "0  0.594156\n",
       "1  0.840669\n",
       "2  0.331152\n",
       "3  0.635784"
      ]
     },
     "execution_count": 32,
     "metadata": {},
     "output_type": "execute_result"
    }
   ],
   "source": [
    "centroids = pd.DataFrame(kmeans.cluster_centers_, columns = ['centroid'])\n",
    "centroids"
   ]
  },
  {
   "cell_type": "code",
   "execution_count": 33,
   "id": "66fbc846",
   "metadata": {
    "scrolled": false
   },
   "outputs": [
    {
     "data": {
      "text/plain": [
       "Text(0.5, 1.0, 'Visualizing Logerror Cluster Centers')"
      ]
     },
     "execution_count": 33,
     "metadata": {},
     "output_type": "execute_result"
    },
    {
     "data": {
      "image/png": "[encoded data removed]",
      "text/plain": [
       "<Figure size 1008x648 with 1 Axes>"
      ]
     },
     "metadata": {
      "needs_background": "light"
     },
     "output_type": "display_data"
    }
   ],
   "source": [
    "plt.figure(figsize=(14, 9))\n",
    "\n",
    "for cluster, subset in scaled_etrain.groupby('log_cluster'):\n",
    "    ones = [1 for one in range(len(subset.logerror))]\n",
    "    onesdf = pd.DataFrame(ones, columns = ['ones'])\n",
    "    centroids['x'] = 1\n",
    "    plt.scatter(onesdf.ones ,subset.logerror,label='cluster ' + str(cluster), alpha=.6)\n",
    "    \n",
    "centroids.plot.scatter(x = 'x' ,y = 'centroid', c='black', marker='x', s=1000, ax=plt.gca(), label='centroid')\n",
    "\n",
    "plt.legend()\n",
    "plt.xlabel('logerror')\n",
    "plt.title('Visualizing Logerror Cluster Centers')"
   ]
  },
  {
   "cell_type": "code",
   "execution_count": 34,
   "id": "0caaad39",
   "metadata": {},
   "outputs": [
    {
     "data": {
      "image/png": "[encoded data removed]",
      "text/plain": [
       "<Figure size 648x432 with 1 Axes>"
      ]
     },
     "metadata": {},
     "output_type": "display_data"
    }
   ],
   "source": [
    "with plt.style.context('seaborn-whitegrid'):\n",
    "    plt.figure(figsize=(9, 6))\n",
    "    pd.Series({k: KMeans(k).fit(X).inertia_ for k in range(2, 12)}).plot(marker='x')\n",
    "    plt.xticks(range(2, 12))\n",
    "    plt.xlabel('k')\n",
    "    plt.ylabel('inertia')\n",
    "    plt.title('Change in inertia as k increases')"
   ]
  },
  {
   "cell_type": "markdown",
   "id": "af2cc3ae",
   "metadata": {},
   "source": [
    "### Ineretia of KMeans on logerror:\n",
    "- Optimal k appears to be 4\n",
    "\n",
    "## Clustering\n",
    "#### Pre-clustering RFE"
   ]
  },
  {
   "cell_type": "code",
   "execution_count": 35,
   "id": "97eaf60e",
   "metadata": {},
   "outputs": [],
   "source": [
    "# Number of features for RFE models\n",
    "f = 2"
   ]
  },
  {
   "cell_type": "code",
   "execution_count": 36,
   "id": "7b093ad1",
   "metadata": {
    "scrolled": true
   },
   "outputs": [
    {
     "data": {
      "text/html": [
       "<div>\n",
       "<style scoped>\n",
       "    .dataframe tbody tr th:only-of-type {\n",
       "        vertical-align: middle;\n",
       "    }\n",
       "\n",
       "    .dataframe tbody tr th {\n",
       "        vertical-align: top;\n",
       "    }\n",
       "\n",
       "    .dataframe thead th {\n",
       "        text-align: right;\n",
       "    }\n",
       "</style>\n",
       "<table border=\"1\" class=\"dataframe\">\n",
       "  <thead>\n",
       "    <tr style=\"text-align: right;\">\n",
       "      <th></th>\n",
       "      <th>feat_names</th>\n",
       "      <th>F_rank</th>\n",
       "    </tr>\n",
       "  </thead>\n",
       "  <tbody>\n",
       "    <tr>\n",
       "      <th>0</th>\n",
       "      <td>census_tb</td>\n",
       "      <td>1</td>\n",
       "    </tr>\n",
       "    <tr>\n",
       "      <th>1</th>\n",
       "      <td>county_Ventura</td>\n",
       "      <td>1</td>\n",
       "    </tr>\n",
       "    <tr>\n",
       "      <th>2</th>\n",
       "      <td>heating_type_Solar</td>\n",
       "      <td>2</td>\n",
       "    </tr>\n",
       "    <tr>\n",
       "      <th>3</th>\n",
       "      <td>heating_type_Central</td>\n",
       "      <td>3</td>\n",
       "    </tr>\n",
       "    <tr>\n",
       "      <th>4</th>\n",
       "      <td>heating_type_Floor/Wall</td>\n",
       "      <td>4</td>\n",
       "    </tr>\n",
       "    <tr>\n",
       "      <th>5</th>\n",
       "      <td>lot_area</td>\n",
       "      <td>5</td>\n",
       "    </tr>\n",
       "    <tr>\n",
       "      <th>6</th>\n",
       "      <td>tax_value</td>\n",
       "      <td>6</td>\n",
       "    </tr>\n",
       "    <tr>\n",
       "      <th>7</th>\n",
       "      <td>county_Los Angeles</td>\n",
       "      <td>7</td>\n",
       "    </tr>\n",
       "    <tr>\n",
       "      <th>8</th>\n",
       "      <td>county_id</td>\n",
       "      <td>8</td>\n",
       "    </tr>\n",
       "    <tr>\n",
       "      <th>9</th>\n",
       "      <td>land_tax_value</td>\n",
       "      <td>9</td>\n",
       "    </tr>\n",
       "    <tr>\n",
       "      <th>10</th>\n",
       "      <td>structure_tax</td>\n",
       "      <td>10</td>\n",
       "    </tr>\n",
       "    <tr>\n",
       "      <th>11</th>\n",
       "      <td>home_area</td>\n",
       "      <td>11</td>\n",
       "    </tr>\n",
       "    <tr>\n",
       "      <th>12</th>\n",
       "      <td>yearly_tax</td>\n",
       "      <td>12</td>\n",
       "    </tr>\n",
       "    <tr>\n",
       "      <th>13</th>\n",
       "      <td>tax_paid</td>\n",
       "      <td>13</td>\n",
       "    </tr>\n",
       "    <tr>\n",
       "      <th>14</th>\n",
       "      <td>tax_rate</td>\n",
       "      <td>14</td>\n",
       "    </tr>\n",
       "    <tr>\n",
       "      <th>15</th>\n",
       "      <td>heating_type_None</td>\n",
       "      <td>15</td>\n",
       "    </tr>\n",
       "    <tr>\n",
       "      <th>16</th>\n",
       "      <td>heating_type_Radiant</td>\n",
       "      <td>16</td>\n",
       "    </tr>\n",
       "    <tr>\n",
       "      <th>17</th>\n",
       "      <td>heating_type_Forced air</td>\n",
       "      <td>17</td>\n",
       "    </tr>\n",
       "    <tr>\n",
       "      <th>18</th>\n",
       "      <td>heating_type_Baseboard</td>\n",
       "      <td>18</td>\n",
       "    </tr>\n",
       "    <tr>\n",
       "      <th>19</th>\n",
       "      <td>bedrooms</td>\n",
       "      <td>19</td>\n",
       "    </tr>\n",
       "    <tr>\n",
       "      <th>20</th>\n",
       "      <td>quality_id</td>\n",
       "      <td>20</td>\n",
       "    </tr>\n",
       "    <tr>\n",
       "      <th>21</th>\n",
       "      <td>zip_code</td>\n",
       "      <td>21</td>\n",
       "    </tr>\n",
       "    <tr>\n",
       "      <th>22</th>\n",
       "      <td>month_sold_0.0</td>\n",
       "      <td>22</td>\n",
       "    </tr>\n",
       "    <tr>\n",
       "      <th>23</th>\n",
       "      <td>latitude</td>\n",
       "      <td>23</td>\n",
       "    </tr>\n",
       "    <tr>\n",
       "      <th>24</th>\n",
       "      <td>city_id</td>\n",
       "      <td>24</td>\n",
       "    </tr>\n",
       "    <tr>\n",
       "      <th>25</th>\n",
       "      <td>year_built</td>\n",
       "      <td>25</td>\n",
       "    </tr>\n",
       "    <tr>\n",
       "      <th>26</th>\n",
       "      <td>county_Orange</td>\n",
       "      <td>26</td>\n",
       "    </tr>\n",
       "    <tr>\n",
       "      <th>27</th>\n",
       "      <td>longitude</td>\n",
       "      <td>27</td>\n",
       "    </tr>\n",
       "    <tr>\n",
       "      <th>28</th>\n",
       "      <td>month_sold_0.875</td>\n",
       "      <td>28</td>\n",
       "    </tr>\n",
       "    <tr>\n",
       "      <th>29</th>\n",
       "      <td>month_sold_0.125</td>\n",
       "      <td>29</td>\n",
       "    </tr>\n",
       "    <tr>\n",
       "      <th>30</th>\n",
       "      <td>month_sold_0.625</td>\n",
       "      <td>30</td>\n",
       "    </tr>\n",
       "    <tr>\n",
       "      <th>31</th>\n",
       "      <td>month_sold_0.375</td>\n",
       "      <td>31</td>\n",
       "    </tr>\n",
       "    <tr>\n",
       "      <th>32</th>\n",
       "      <td>month_sold_0.25</td>\n",
       "      <td>32</td>\n",
       "    </tr>\n",
       "    <tr>\n",
       "      <th>33</th>\n",
       "      <td>month_sold_1.0</td>\n",
       "      <td>33</td>\n",
       "    </tr>\n",
       "    <tr>\n",
       "      <th>34</th>\n",
       "      <td>month_sold_0.5</td>\n",
       "      <td>34</td>\n",
       "    </tr>\n",
       "    <tr>\n",
       "      <th>35</th>\n",
       "      <td>month_sold_0.75</td>\n",
       "      <td>35</td>\n",
       "    </tr>\n",
       "    <tr>\n",
       "      <th>36</th>\n",
       "      <td>bathrooms</td>\n",
       "      <td>36</td>\n",
       "    </tr>\n",
       "    <tr>\n",
       "      <th>37</th>\n",
       "      <td>roomcnt</td>\n",
       "      <td>37</td>\n",
       "    </tr>\n",
       "  </tbody>\n",
       "</table>\n",
       "</div>"
      ],
      "text/plain": [
       "                 feat_names  F_rank\n",
       "0                 census_tb       1\n",
       "1            county_Ventura       1\n",
       "2        heating_type_Solar       2\n",
       "3      heating_type_Central       3\n",
       "4   heating_type_Floor/Wall       4\n",
       "5                  lot_area       5\n",
       "6                 tax_value       6\n",
       "7        county_Los Angeles       7\n",
       "8                 county_id       8\n",
       "9            land_tax_value       9\n",
       "10            structure_tax      10\n",
       "11                home_area      11\n",
       "12               yearly_tax      12\n",
       "13                 tax_paid      13\n",
       "14                 tax_rate      14\n",
       "15        heating_type_None      15\n",
       "16     heating_type_Radiant      16\n",
       "17  heating_type_Forced air      17\n",
       "18   heating_type_Baseboard      18\n",
       "19                 bedrooms      19\n",
       "20               quality_id      20\n",
       "21                 zip_code      21\n",
       "22           month_sold_0.0      22\n",
       "23                 latitude      23\n",
       "24                  city_id      24\n",
       "25               year_built      25\n",
       "26            county_Orange      26\n",
       "27                longitude      27\n",
       "28         month_sold_0.875      28\n",
       "29         month_sold_0.125      29\n",
       "30         month_sold_0.625      30\n",
       "31         month_sold_0.375      31\n",
       "32          month_sold_0.25      32\n",
       "33           month_sold_1.0      33\n",
       "34           month_sold_0.5      34\n",
       "35          month_sold_0.75      35\n",
       "36                bathrooms      36\n",
       "37                  roomcnt      37"
      ]
     },
     "execution_count": 36,
     "metadata": {},
     "output_type": "execute_result"
    }
   ],
   "source": [
    "# Selecting the one best feature using RFE\n",
    "rfe_best = md.rfe_features(enc_train, f, 'logerror')\n",
    "rfe_best.reset_index(drop = True, inplace= True) # Resetting index\n",
    "\n",
    "rfe_best"
   ]
  },
  {
   "cell_type": "code",
   "execution_count": 37,
   "id": "c7348b29",
   "metadata": {},
   "outputs": [
    {
     "data": {
      "text/html": [
       "<div>\n",
       "<style scoped>\n",
       "    .dataframe tbody tr th:only-of-type {\n",
       "        vertical-align: middle;\n",
       "    }\n",
       "\n",
       "    .dataframe tbody tr th {\n",
       "        vertical-align: top;\n",
       "    }\n",
       "\n",
       "    .dataframe thead th {\n",
       "        text-align: right;\n",
       "    }\n",
       "</style>\n",
       "<table border=\"1\" class=\"dataframe\">\n",
       "  <thead>\n",
       "    <tr style=\"text-align: right;\">\n",
       "      <th></th>\n",
       "      <th>feat_names</th>\n",
       "      <th>F_Scores</th>\n",
       "    </tr>\n",
       "  </thead>\n",
       "  <tbody>\n",
       "    <tr>\n",
       "      <th>0</th>\n",
       "      <td>bedrooms</td>\n",
       "      <td>7.665216</td>\n",
       "    </tr>\n",
       "    <tr>\n",
       "      <th>1</th>\n",
       "      <td>month_sold_0.0</td>\n",
       "      <td>7.055374</td>\n",
       "    </tr>\n",
       "  </tbody>\n",
       "</table>\n",
       "</div>"
      ],
      "text/plain": [
       "       feat_names  F_Scores\n",
       "0        bedrooms  7.665216\n",
       "1  month_sold_0.0  7.055374"
      ]
     },
     "execution_count": 37,
     "metadata": {},
     "output_type": "execute_result"
    }
   ],
   "source": [
    "# Selecting best feature using kbest to cross check with rfe\n",
    "k_best = md.kbest_features(enc_train, f, 'logerror')\n",
    "k_best"
   ]
  },
  {
   "cell_type": "markdown",
   "id": "303d6987",
   "metadata": {},
   "source": [
    "#### KBest feats:\n",
    "- `bedrooms`, `month_sold_0.0`"
   ]
  },
  {
   "cell_type": "code",
   "execution_count": 38,
   "id": "94e71fc4",
   "metadata": {},
   "outputs": [
    {
     "data": {
      "text/plain": [
       "0         census_tb\n",
       "1    county_Ventura\n",
       "Name: feat_names, dtype: object"
      ]
     },
     "execution_count": 38,
     "metadata": {},
     "output_type": "execute_result"
    }
   ],
   "source": [
    "rfe_feats = rfe_best.feat_names[:f]\n",
    "rfe_feats"
   ]
  },
  {
   "cell_type": "markdown",
   "id": "510cf7eb",
   "metadata": {},
   "source": [
    "#### RFE (OLS) feats:\n",
    "- `census_tb`, `county_Ventura`\n",
    "\n",
    "## Visualizing RFE clusters"
   ]
  },
  {
   "cell_type": "code",
   "execution_count": 39,
   "id": "624fa579",
   "metadata": {},
   "outputs": [
    {
     "data": {
      "text/plain": [
       "0    6698\n",
       "2    6586\n",
       "3    5610\n",
       "1    2069\n",
       "Name: cluster_r, dtype: int64"
      ]
     },
     "execution_count": 39,
     "metadata": {},
     "output_type": "execute_result"
    }
   ],
   "source": [
    "# Creating 'cluster_r' cols in explore dfs\n",
    "X = enc_train[rfe_best.feat_names[:f]]\n",
    "kmeans = KMeans(n_clusters=4)\n",
    "kmeans.fit(X)\n",
    "\n",
    "explore_train['cluster_r'] = kmeans.predict(X)\n",
    "scaled_etrain['cluster_r'] = kmeans.predict(X)\n",
    "enc_train['cluster_r'] = kmeans.predict(X)\n",
    "\n",
    "\n",
    "\n",
    "explore_train.cluster_r.value_counts()"
   ]
  },
  {
   "cell_type": "code",
   "execution_count": 40,
   "id": "653580b3",
   "metadata": {},
   "outputs": [
    {
     "data": {
      "text/plain": [
       "array([[0.0019317 , 0.        ],\n",
       "       [0.99994888, 1.        ],\n",
       "       [0.29710014, 0.        ],\n",
       "       [0.00790529, 0.        ]])"
      ]
     },
     "execution_count": 40,
     "metadata": {},
     "output_type": "execute_result"
    }
   ],
   "source": [
    "kmeans.cluster_centers_"
   ]
  },
  {
   "cell_type": "code",
   "execution_count": 41,
   "id": "47dbff64",
   "metadata": {},
   "outputs": [
    {
     "data": {
      "text/plain": [
       "0         census_tb\n",
       "1    county_Ventura\n",
       "Name: feat_names, dtype: object"
      ]
     },
     "execution_count": 41,
     "metadata": {},
     "output_type": "execute_result"
    }
   ],
   "source": [
    "rfe_best.feat_names[:f]"
   ]
  },
  {
   "cell_type": "code",
   "execution_count": 42,
   "id": "c8044669",
   "metadata": {
    "scrolled": true
   },
   "outputs": [
    {
     "data": {
      "text/html": [
       "<div>\n",
       "<style scoped>\n",
       "    .dataframe tbody tr th:only-of-type {\n",
       "        vertical-align: middle;\n",
       "    }\n",
       "\n",
       "    .dataframe tbody tr th {\n",
       "        vertical-align: top;\n",
       "    }\n",
       "\n",
       "    .dataframe thead tr th {\n",
       "        text-align: left;\n",
       "    }\n",
       "</style>\n",
       "<table border=\"1\" class=\"dataframe\">\n",
       "  <thead>\n",
       "    <tr>\n",
       "      <th>feat_names</th>\n",
       "      <th>census_tb</th>\n",
       "      <th>county_Ventura</th>\n",
       "    </tr>\n",
       "  </thead>\n",
       "  <tbody>\n",
       "    <tr>\n",
       "      <th>0</th>\n",
       "      <td>0.001932</td>\n",
       "      <td>1.290634e-15</td>\n",
       "    </tr>\n",
       "    <tr>\n",
       "      <th>1</th>\n",
       "      <td>0.999949</td>\n",
       "      <td>1.000000e+00</td>\n",
       "    </tr>\n",
       "    <tr>\n",
       "      <th>2</th>\n",
       "      <td>0.297100</td>\n",
       "      <td>2.303713e-15</td>\n",
       "    </tr>\n",
       "    <tr>\n",
       "      <th>3</th>\n",
       "      <td>0.007905</td>\n",
       "      <td>1.762479e-15</td>\n",
       "    </tr>\n",
       "  </tbody>\n",
       "</table>\n",
       "</div>"
      ],
      "text/plain": [
       "feat_names census_tb county_Ventura\n",
       "0           0.001932   1.290634e-15\n",
       "1           0.999949   1.000000e+00\n",
       "2           0.297100   2.303713e-15\n",
       "3           0.007905   1.762479e-15"
      ]
     },
     "execution_count": 42,
     "metadata": {},
     "output_type": "execute_result"
    }
   ],
   "source": [
    "# Calculating centroids\n",
    "centroids = pd.DataFrame(kmeans.cluster_centers_, columns = [rfe_best.feat_names[:f]])\n",
    "centroids"
   ]
  },
  {
   "cell_type": "code",
   "execution_count": 43,
   "id": "dc93b67e",
   "metadata": {
    "scrolled": false
   },
   "outputs": [
    {
     "data": {
      "text/plain": [
       "Text(0.5, 1.0, 'Visualizing cluster_r Centers')"
      ]
     },
     "execution_count": 43,
     "metadata": {},
     "output_type": "execute_result"
    },
    {
     "data": {
      "image/png": "[encoded data removed]",
      "text/plain": [
       "<Figure size 1008x648 with 1 Axes>"
      ]
     },
     "metadata": {
      "needs_background": "light"
     },
     "output_type": "display_data"
    }
   ],
   "source": [
    "plt.figure(figsize=(14, 9))\n",
    "\n",
    "for cluster, subset in enc_train.groupby('cluster_r'):\n",
    "    plt.scatter(subset[rfe_best.feat_names[0]], subset[rfe_best.feat_names[1]], label='cluster ' + str(cluster), alpha=.6)\n",
    "\n",
    "centroids.plot.scatter(x=rfe_best.feat_names[0], y=rfe_best.feat_names[1], c='black', marker='x', s=1000, ax=plt.gca(), label='centroid')\n",
    "\n",
    "plt.legend()\n",
    "plt.xlabel(rfe_best.feat_names[0])\n",
    "plt.ylabel(rfe_best.feat_names[1])\n",
    "plt.title('Visualizing cluster_r Centers')"
   ]
  },
  {
   "cell_type": "code",
   "execution_count": 44,
   "id": "bc691ccc",
   "metadata": {},
   "outputs": [
    {
     "data": {
      "image/png": "[encoded data removed]",
      "text/plain": [
       "<Figure size 648x432 with 1 Axes>"
      ]
     },
     "metadata": {},
     "output_type": "display_data"
    }
   ],
   "source": [
    "with plt.style.context('seaborn-whitegrid'):\n",
    "    plt.figure(figsize=(9, 6))\n",
    "    pd.Series({k: KMeans(k).fit(X).inertia_ for k in range(2, 12)}).plot(marker='x')\n",
    "    plt.xticks(range(2, 12))\n",
    "    plt.xlabel('k')\n",
    "    plt.ylabel('inertia')\n",
    "    plt.title('Change in inertia as k increases')"
   ]
  },
  {
   "cell_type": "markdown",
   "id": "c23f901f",
   "metadata": {},
   "source": [
    "#### RFE takeaways:\n",
    "- No clusters are especially useful or indicated\n",
    "\n",
    "## Visualizing KBest clusters"
   ]
  },
  {
   "cell_type": "code",
   "execution_count": 45,
   "id": "5d73fe51",
   "metadata": {
    "scrolled": true
   },
   "outputs": [
    {
     "data": {
      "text/plain": [
       "2    9671\n",
       "0    7795\n",
       "1    1851\n",
       "3    1646\n",
       "Name: cluster_k, dtype: int64"
      ]
     },
     "execution_count": 45,
     "metadata": {},
     "output_type": "execute_result"
    }
   ],
   "source": [
    "# Creating 'cluster1' cols in explore dfs\n",
    "X = enc_train[k_best.feat_names]\n",
    "kmeans = KMeans(n_clusters=4)\n",
    "kmeans.fit(X)\n",
    "\n",
    "explore_train['cluster_k'] = kmeans.predict(X)\n",
    "scaled_etrain['cluster_k'] = kmeans.predict(X)\n",
    "enc_train['cluster_k'] = kmeans.predict(X)\n",
    "\n",
    "\n",
    "\n",
    "explore_train.cluster_k.value_counts()"
   ]
  },
  {
   "cell_type": "code",
   "execution_count": 46,
   "id": "ec8f5c33",
   "metadata": {},
   "outputs": [
    {
     "data": {
      "text/html": [
       "<div>\n",
       "<style scoped>\n",
       "    .dataframe tbody tr th:only-of-type {\n",
       "        vertical-align: middle;\n",
       "    }\n",
       "\n",
       "    .dataframe tbody tr th {\n",
       "        vertical-align: top;\n",
       "    }\n",
       "\n",
       "    .dataframe thead tr th {\n",
       "        text-align: left;\n",
       "    }\n",
       "</style>\n",
       "<table border=\"1\" class=\"dataframe\">\n",
       "  <thead>\n",
       "    <tr>\n",
       "      <th>feat_names</th>\n",
       "      <th>bedrooms</th>\n",
       "      <th>month_sold_0.0</th>\n",
       "    </tr>\n",
       "  </thead>\n",
       "  <tbody>\n",
       "    <tr>\n",
       "      <th>0</th>\n",
       "      <td>0.396071</td>\n",
       "      <td>2.858824e-15</td>\n",
       "    </tr>\n",
       "    <tr>\n",
       "      <th>1</th>\n",
       "      <td>0.299163</td>\n",
       "      <td>1.000000e+00</td>\n",
       "    </tr>\n",
       "    <tr>\n",
       "      <th>2</th>\n",
       "      <td>0.250000</td>\n",
       "      <td>4.926615e-15</td>\n",
       "    </tr>\n",
       "    <tr>\n",
       "      <th>3</th>\n",
       "      <td>0.122722</td>\n",
       "      <td>-6.106227e-16</td>\n",
       "    </tr>\n",
       "  </tbody>\n",
       "</table>\n",
       "</div>"
      ],
      "text/plain": [
       "feat_names  bedrooms month_sold_0.0\n",
       "0           0.396071   2.858824e-15\n",
       "1           0.299163   1.000000e+00\n",
       "2           0.250000   4.926615e-15\n",
       "3           0.122722  -6.106227e-16"
      ]
     },
     "execution_count": 46,
     "metadata": {},
     "output_type": "execute_result"
    }
   ],
   "source": [
    "# Calculating centroids\n",
    "centroids = pd.DataFrame(kmeans.cluster_centers_, columns = [k_best.feat_names])\n",
    "centroids"
   ]
  },
  {
   "cell_type": "code",
   "execution_count": 47,
   "id": "9e93fb37",
   "metadata": {},
   "outputs": [
    {
     "data": {
      "text/plain": [
       "Text(0.5, 1.0, 'Visualizing cluster_r Centers')"
      ]
     },
     "execution_count": 47,
     "metadata": {},
     "output_type": "execute_result"
    },
    {
     "data": {
      "image/png": "[encoded data removed]",
      "text/plain": [
       "<Figure size 1008x648 with 1 Axes>"
      ]
     },
     "metadata": {
      "needs_background": "light"
     },
     "output_type": "display_data"
    }
   ],
   "source": [
    "plt.figure(figsize=(14, 9))\n",
    "\n",
    "for cluster, subset in enc_train.groupby('cluster_k'):\n",
    "    plt.scatter(subset[k_best.feat_names[0]], subset[k_best.feat_names[1]], label='cluster ' + str(cluster), alpha=.6)\n",
    "\n",
    "centroids.plot.scatter(x=k_best.feat_names[0], y=k_best.feat_names[1], c='black', marker='x', s=1000, ax=plt.gca(), label='centroid')\n",
    "\n",
    "plt.legend()\n",
    "plt.xlabel(k_best.feat_names[0])\n",
    "plt.ylabel(k_best.feat_names[1])\n",
    "plt.title('Visualizing cluster_r Centers')"
   ]
  },
  {
   "cell_type": "code",
   "execution_count": 48,
   "id": "770171c4",
   "metadata": {},
   "outputs": [
    {
     "data": {
      "image/png": "[encoded data removed]",
      "text/plain": [
       "<Figure size 648x432 with 1 Axes>"
      ]
     },
     "metadata": {},
     "output_type": "display_data"
    }
   ],
   "source": [
    "with plt.style.context('seaborn-whitegrid'):\n",
    "    plt.figure(figsize=(9, 6))\n",
    "    pd.Series({k: KMeans(k).fit(X).inertia_ for k in range(2, 12)}).plot(marker='x')\n",
    "    plt.xticks(range(2, 12))\n",
    "    plt.xlabel('k')\n",
    "    plt.ylabel('inertia')\n",
    "    plt.title('Change in inertia as k increases')"
   ]
  },
  {
   "cell_type": "markdown",
   "id": "137a2173",
   "metadata": {},
   "source": [
    "#### K_best takeaways:\n",
    "- Elbow at 4\n",
    "- Better choices than RFE"
   ]
  },
  {
   "cell_type": "code",
   "execution_count": 49,
   "id": "5b12d9b4",
   "metadata": {},
   "outputs": [],
   "source": [
    "# Adding clusters to categorical vars\n",
    "cats.append('cluster_k')\n",
    "cats.append('cluster_r')"
   ]
  },
  {
   "cell_type": "code",
   "execution_count": 50,
   "id": "5a06ed9b",
   "metadata": {},
   "outputs": [
    {
     "data": {
      "image/png": "[encoded data removed]",
      "text/plain": [
       "<Figure size 432x288 with 1 Axes>"
      ]
     },
     "metadata": {
      "needs_background": "light"
     },
     "output_type": "display_data"
    }
   ],
   "source": [
    "sns.stripplot(x='cluster_k', y='logerror',\n",
    "               data=scaled_etrain.sample(1000))\n",
    "plt.title(\"How does bedroom count compare to logerror?\")\n",
    "plt.show()"
   ]
  },
  {
   "cell_type": "code",
   "execution_count": 51,
   "id": "019cb7e0",
   "metadata": {},
   "outputs": [
    {
     "data": {
      "image/png": "[encoded data removed]",
      "text/plain": [
       "<Figure size 432x288 with 1 Axes>"
      ]
     },
     "metadata": {
      "needs_background": "light"
     },
     "output_type": "display_data"
    }
   ],
   "source": [
    "sns.stripplot(x='cluster_r', y='logerror',\n",
    "               data=scaled_etrain.sample(1000))\n",
    "plt.title(\"How does bedroom count compare to logerror?\")\n",
    "plt.show()"
   ]
  },
  {
   "cell_type": "markdown",
   "id": "9e816e86",
   "metadata": {},
   "source": [
    "### Clustering Stat-Tests:\n",
    "- $Q_1$: Does cluster_k have a different logerror mean than the overall logerror mean?\n",
    "- $Q_2$: Does cluster_r have a different logerror mean than the overall logerror mean?\n",
    "\n",
    "#### Q1: Does cluster_k have a different logerror mean than the average logerror mean?\n",
    "- $H_0$: cluster_k has the same logerror mean compared to the overall logerror mean.\n",
    "- $H_a$: cluster_k has different logerror mean compared to the overall logerror mean."
   ]
  },
  {
   "cell_type": "code",
   "execution_count": 52,
   "id": "27bb78cf",
   "metadata": {},
   "outputs": [],
   "source": [
    "cluster_k_log = enc_train[['cluster_k', 'logerror']].logerror\n",
    "μ = enc_train.logerror"
   ]
  },
  {
   "cell_type": "code",
   "execution_count": 53,
   "id": "92476e7e",
   "metadata": {},
   "outputs": [
    {
     "data": {
      "text/plain": [
       "MannwhitneyuResult(statistic=219723684.5, pvalue=0.49999983902057754)"
      ]
     },
     "execution_count": 53,
     "metadata": {},
     "output_type": "execute_result"
    }
   ],
   "source": [
    "stats.mannwhitneyu(cluster_k_log, μ)"
   ]
  },
  {
   "cell_type": "markdown",
   "id": "f99ab7cb",
   "metadata": {},
   "source": [
    "#### Q1: Does cluster_r have a different logerror mean than the average logerror mean?\n",
    "- $H_0$: cluster_r has the same logerror mean compared to the average logerror mean.\n",
    "- $H_a$: cluster_r has different logerror mean compared to the average logerror mean."
   ]
  },
  {
   "cell_type": "code",
   "execution_count": 54,
   "id": "af1ba7c0",
   "metadata": {
    "scrolled": true
   },
   "outputs": [],
   "source": [
    "cluster_r_log = enc_train[['cluster_r', 'logerror']].logerror\n",
    "μ = enc_train.logerror"
   ]
  },
  {
   "cell_type": "code",
   "execution_count": 55,
   "id": "e0540585",
   "metadata": {},
   "outputs": [
    {
     "data": {
      "text/plain": [
       "MannwhitneyuResult(statistic=219723684.5, pvalue=0.49999983902057754)"
      ]
     },
     "execution_count": 55,
     "metadata": {},
     "output_type": "execute_result"
    }
   ],
   "source": [
    "stats.mannwhitneyu(cluster_r_log, μ)"
   ]
  },
  {
   "cell_type": "markdown",
   "id": "4ea257fc",
   "metadata": {},
   "source": [
    "### Clustering Takeaways:\n",
    "- Neither cluster particularly indicative of logerror\n",
    "- Accept $H_0$ for both questions regarding mean comparisons vs logerror\n",
    "    - Both clusters are not correlated with logerror"
   ]
  },
  {
   "cell_type": "markdown",
   "id": "5db749fc",
   "metadata": {},
   "source": [
    "# Modeling"
   ]
  },
  {
   "cell_type": "code",
   "execution_count": 56,
   "id": "f1b96e66",
   "metadata": {},
   "outputs": [],
   "source": [
    "# X/y split with target = logerror\n",
    "X_train, X_validate, X_test, y_train, y_validate, y_test = wr.train_validate_test_split(zillow_prep, target = 'logerror')"
   ]
  },
  {
   "cell_type": "code",
   "execution_count": 57,
   "id": "f92e48d8",
   "metadata": {},
   "outputs": [],
   "source": [
    "# Encoding cols for modeling\n",
    "cols =['heating_type', 'county', 'month_sold']\n",
    "\n",
    "X_train, X_validate, X_test = ex.encode_cols(X_train, X_validate, X_test, cols)"
   ]
  },
  {
   "cell_type": "code",
   "execution_count": 58,
   "id": "ffe1fbaa",
   "metadata": {},
   "outputs": [],
   "source": [
    "cols_to_model = ['census_tb', 'county_Ventura', 'bedrooms', 'month_sold_1', 'home_area', 'latitude', 'longitude', 'tax_paid']"
   ]
  },
  {
   "cell_type": "code",
   "execution_count": 59,
   "id": "bf27fc3b",
   "metadata": {},
   "outputs": [],
   "source": [
    "ols_train, ols_validate, ols_test, ols_error, ols_sig = md.lin_reg(X_train, X_validate, X_test, y_train, y_validate, y_test, cols_to_model, 'logerror', model_type=LinearRegression(normalize=True))"
   ]
  },
  {
   "cell_type": "code",
   "execution_count": 60,
   "id": "3bad583a",
   "metadata": {},
   "outputs": [
    {
     "data": {
      "text/html": [
       "<div>\n",
       "<style scoped>\n",
       "    .dataframe tbody tr th:only-of-type {\n",
       "        vertical-align: middle;\n",
       "    }\n",
       "\n",
       "    .dataframe tbody tr th {\n",
       "        vertical-align: top;\n",
       "    }\n",
       "\n",
       "    .dataframe thead th {\n",
       "        text-align: right;\n",
       "    }\n",
       "</style>\n",
       "<table border=\"1\" class=\"dataframe\">\n",
       "  <thead>\n",
       "    <tr style=\"text-align: right;\">\n",
       "      <th></th>\n",
       "      <th>metric</th>\n",
       "      <th>model_error</th>\n",
       "      <th>error_delta</th>\n",
       "    </tr>\n",
       "  </thead>\n",
       "  <tbody>\n",
       "    <tr>\n",
       "      <th>0</th>\n",
       "      <td>SSE_train</td>\n",
       "      <td>577.155739</td>\n",
       "      <td>-1.294461</td>\n",
       "    </tr>\n",
       "    <tr>\n",
       "      <th>1</th>\n",
       "      <td>MSE_train</td>\n",
       "      <td>0.027532</td>\n",
       "      <td>-0.000062</td>\n",
       "    </tr>\n",
       "    <tr>\n",
       "      <th>2</th>\n",
       "      <td>RMSE_train</td>\n",
       "      <td>0.165928</td>\n",
       "      <td>-0.000186</td>\n",
       "    </tr>\n",
       "    <tr>\n",
       "      <th>3</th>\n",
       "      <td>SSE_validate</td>\n",
       "      <td>239.126763</td>\n",
       "      <td>-339.323436</td>\n",
       "    </tr>\n",
       "    <tr>\n",
       "      <th>4</th>\n",
       "      <td>MSE_validate</td>\n",
       "      <td>0.026614</td>\n",
       "      <td>-0.000980</td>\n",
       "    </tr>\n",
       "    <tr>\n",
       "      <th>5</th>\n",
       "      <td>RMSE_validate</td>\n",
       "      <td>0.163138</td>\n",
       "      <td>-0.002976</td>\n",
       "    </tr>\n",
       "    <tr>\n",
       "      <th>6</th>\n",
       "      <td>SSE_test</td>\n",
       "      <td>148.396612</td>\n",
       "      <td>-430.053588</td>\n",
       "    </tr>\n",
       "    <tr>\n",
       "      <th>7</th>\n",
       "      <td>MSE_test</td>\n",
       "      <td>0.019821</td>\n",
       "      <td>-0.007773</td>\n",
       "    </tr>\n",
       "    <tr>\n",
       "      <th>8</th>\n",
       "      <td>RMSE_test</td>\n",
       "      <td>0.140786</td>\n",
       "      <td>-0.025328</td>\n",
       "    </tr>\n",
       "    <tr>\n",
       "      <th>0</th>\n",
       "      <td>SSE_baseline</td>\n",
       "      <td>578.450200</td>\n",
       "      <td>NaN</td>\n",
       "    </tr>\n",
       "    <tr>\n",
       "      <th>1</th>\n",
       "      <td>MSE_baseline</td>\n",
       "      <td>0.027594</td>\n",
       "      <td>NaN</td>\n",
       "    </tr>\n",
       "    <tr>\n",
       "      <th>2</th>\n",
       "      <td>RMSE_baseline</td>\n",
       "      <td>0.166114</td>\n",
       "      <td>NaN</td>\n",
       "    </tr>\n",
       "    <tr>\n",
       "      <th>3</th>\n",
       "      <td>SSE_baseline</td>\n",
       "      <td>578.450200</td>\n",
       "      <td>NaN</td>\n",
       "    </tr>\n",
       "    <tr>\n",
       "      <th>4</th>\n",
       "      <td>MSE_baseline</td>\n",
       "      <td>0.027594</td>\n",
       "      <td>NaN</td>\n",
       "    </tr>\n",
       "    <tr>\n",
       "      <th>5</th>\n",
       "      <td>RMSE_baseline</td>\n",
       "      <td>0.166114</td>\n",
       "      <td>NaN</td>\n",
       "    </tr>\n",
       "    <tr>\n",
       "      <th>6</th>\n",
       "      <td>SSE_baseline</td>\n",
       "      <td>578.450200</td>\n",
       "      <td>NaN</td>\n",
       "    </tr>\n",
       "    <tr>\n",
       "      <th>7</th>\n",
       "      <td>MSE_baseline</td>\n",
       "      <td>0.027594</td>\n",
       "      <td>NaN</td>\n",
       "    </tr>\n",
       "    <tr>\n",
       "      <th>8</th>\n",
       "      <td>RMSE_baseline</td>\n",
       "      <td>0.166114</td>\n",
       "      <td>NaN</td>\n",
       "    </tr>\n",
       "  </tbody>\n",
       "</table>\n",
       "</div>"
      ],
      "text/plain": [
       "          metric  model_error  error_delta\n",
       "0      SSE_train   577.155739    -1.294461\n",
       "1      MSE_train     0.027532    -0.000062\n",
       "2     RMSE_train     0.165928    -0.000186\n",
       "3   SSE_validate   239.126763  -339.323436\n",
       "4   MSE_validate     0.026614    -0.000980\n",
       "5  RMSE_validate     0.163138    -0.002976\n",
       "6       SSE_test   148.396612  -430.053588\n",
       "7       MSE_test     0.019821    -0.007773\n",
       "8      RMSE_test     0.140786    -0.025328\n",
       "0   SSE_baseline   578.450200          NaN\n",
       "1   MSE_baseline     0.027594          NaN\n",
       "2  RMSE_baseline     0.166114          NaN\n",
       "3   SSE_baseline   578.450200          NaN\n",
       "4   MSE_baseline     0.027594          NaN\n",
       "5  RMSE_baseline     0.166114          NaN\n",
       "6   SSE_baseline   578.450200          NaN\n",
       "7   MSE_baseline     0.027594          NaN\n",
       "8  RMSE_baseline     0.166114          NaN"
      ]
     },
     "execution_count": 60,
     "metadata": {},
     "output_type": "execute_result"
    }
   ],
   "source": [
    "ols_error"
   ]
  },
  {
   "cell_type": "code",
   "execution_count": 61,
   "id": "ce7e1f6e",
   "metadata": {},
   "outputs": [
    {
     "data": {
      "text/html": [
       "<div>\n",
       "<style scoped>\n",
       "    .dataframe tbody tr th:only-of-type {\n",
       "        vertical-align: middle;\n",
       "    }\n",
       "\n",
       "    .dataframe tbody tr th {\n",
       "        vertical-align: top;\n",
       "    }\n",
       "\n",
       "    .dataframe thead th {\n",
       "        text-align: right;\n",
       "    }\n",
       "</style>\n",
       "<table border=\"1\" class=\"dataframe\">\n",
       "  <thead>\n",
       "    <tr style=\"text-align: right;\">\n",
       "      <th></th>\n",
       "      <th>metric</th>\n",
       "      <th>model_significance</th>\n",
       "    </tr>\n",
       "  </thead>\n",
       "  <tbody>\n",
       "    <tr>\n",
       "      <th>0</th>\n",
       "      <td>ESS_train</td>\n",
       "      <td>1.294461</td>\n",
       "    </tr>\n",
       "    <tr>\n",
       "      <th>1</th>\n",
       "      <td>R2_train</td>\n",
       "      <td>0.002238</td>\n",
       "    </tr>\n",
       "    <tr>\n",
       "      <th>2</th>\n",
       "      <td>TSS</td>\n",
       "      <td>578.450200</td>\n",
       "    </tr>\n",
       "    <tr>\n",
       "      <th>3</th>\n",
       "      <td>ESS_validate</td>\n",
       "      <td>0.617669</td>\n",
       "    </tr>\n",
       "    <tr>\n",
       "      <th>4</th>\n",
       "      <td>R2_validate</td>\n",
       "      <td>0.002579</td>\n",
       "    </tr>\n",
       "    <tr>\n",
       "      <th>5</th>\n",
       "      <td>ESS_test</td>\n",
       "      <td>0.501071</td>\n",
       "    </tr>\n",
       "    <tr>\n",
       "      <th>6</th>\n",
       "      <td>R2_test</td>\n",
       "      <td>0.003366</td>\n",
       "    </tr>\n",
       "    <tr>\n",
       "      <th>0</th>\n",
       "      <td>ESS_baseline</td>\n",
       "      <td>0.000000</td>\n",
       "    </tr>\n",
       "    <tr>\n",
       "      <th>1</th>\n",
       "      <td>TSS_baseline</td>\n",
       "      <td>578.450200</td>\n",
       "    </tr>\n",
       "    <tr>\n",
       "      <th>2</th>\n",
       "      <td>R^2_baseline</td>\n",
       "      <td>0.000000</td>\n",
       "    </tr>\n",
       "  </tbody>\n",
       "</table>\n",
       "</div>"
      ],
      "text/plain": [
       "         metric  model_significance\n",
       "0     ESS_train            1.294461\n",
       "1      R2_train            0.002238\n",
       "2           TSS          578.450200\n",
       "3  ESS_validate            0.617669\n",
       "4   R2_validate            0.002579\n",
       "5      ESS_test            0.501071\n",
       "6       R2_test            0.003366\n",
       "0  ESS_baseline            0.000000\n",
       "1  TSS_baseline          578.450200\n",
       "2  R^2_baseline            0.000000"
      ]
     },
     "execution_count": 61,
     "metadata": {},
     "output_type": "execute_result"
    }
   ],
   "source": [
    "ols_sig"
   ]
  },
  {
   "cell_type": "code",
   "execution_count": 62,
   "id": "9ca9a613",
   "metadata": {},
   "outputs": [
    {
     "name": "stdout",
     "output_type": "stream",
     "text": [
      "RMSE using OLS\n",
      "Train/In-Sample:  [0.17] \n",
      "Validate/Out-of-Sample:  [0.16313797] \n",
      "Test/Out-of-Sample:  [0.14] \n",
      "R^2 Train:  [0.002] \n",
      "R^2 Validate:  [0.003] \n",
      "R^2 Test:  [0.003]\n"
     ]
    }
   ],
   "source": [
    "rmse_train_ols = ols_error[ols_error.metric == 'RMSE_train'].model_error.values\n",
    "rmse_validate_ols = ols_error[ols_error.metric == 'RMSE_validate'].model_error.values\n",
    "rmse_test_ols = ols_error[ols_error.metric == 'RMSE_test'].model_error.values\n",
    "r_2_train = ols_sig[ols_sig.metric == 'R2_train'].model_significance.values\n",
    "r_2_validate = ols_sig[ols_sig.metric == 'R2_validate'].model_significance.values\n",
    "r_2_test = ols_sig[ols_sig.metric == 'R2_test'].model_significance.values\n",
    "\n",
    "print(\"RMSE using OLS\\nTrain/In-Sample: \", rmse_train_ols.round(2), \n",
    "     \"\\nValidate/Out-of-Sample: \", rmse_validate_ols,\n",
    "      \"\\nTest/Out-of-Sample: \", rmse_test_ols.round(2), \n",
    "     \"\\nR^2 Train: \", r_2_train.round(3), \n",
    "     \"\\nR^2 Validate: \", r_2_validate.round(3), \n",
    "     \"\\nR^2 Test: \", r_2_test.round(3))"
   ]
  },
  {
   "cell_type": "code",
   "execution_count": 63,
   "id": "50a52ac3",
   "metadata": {
    "scrolled": true
   },
   "outputs": [
    {
     "data": {
      "text/plain": [
       "'RMSE better than baseline\\nR^2 better than baseline'"
      ]
     },
     "execution_count": 63,
     "metadata": {},
     "output_type": "execute_result"
    }
   ],
   "source": [
    "md.better_than_baseline(ols_test.logerror_test, ols_test.yhat_test, ols_sig[ols_sig.metric == 'R2_test'].model_significance.values, ols_sig[ols_sig.metric == 'R^2_baseline'].model_significance.values)"
   ]
  },
  {
   "cell_type": "markdown",
   "id": "876b1d16",
   "metadata": {},
   "source": [
    "## Error Visualizations:"
   ]
  },
  {
   "cell_type": "code",
   "execution_count": 64,
   "id": "e4766093",
   "metadata": {},
   "outputs": [
    {
     "data": {
      "image/png": "[encoded data removed]",
      "text/plain": [
       "<Figure size 432x288 with 1 Axes>"
      ]
     },
     "metadata": {
      "needs_background": "light"
     },
     "output_type": "display_data"
    }
   ],
   "source": [
    "plt.scatter(ols_test.logerror_test.sample(500), ols_test.yhat_test.sample(500), \n",
    "        alpha=.5, color=\"red\", s=100, label=\"Model: LinearRegression\")\n",
    "plt.show()"
   ]
  },
  {
   "cell_type": "code",
   "execution_count": 66,
   "id": "a686282b",
   "metadata": {},
   "outputs": [
    {
     "data": {
      "image/png": "[encoded data removed]",
      "text/plain": [
       "<Figure size 1152x576 with 1 Axes>"
      ]
     },
     "metadata": {
      "needs_background": "light"
     },
     "output_type": "display_data"
    }
   ],
   "source": [
    "md.plot_errors(y_test, ols_test.yhat_baseline, ols_test.yhat_test)"
   ]
  },
  {
   "cell_type": "code",
   "execution_count": 67,
   "id": "eadee798",
   "metadata": {},
   "outputs": [
    {
     "data": {
      "image/png": "[encoded data removed]",
      "text/plain": [
       "<Figure size 1152x576 with 1 Axes>"
      ]
     },
     "metadata": {
      "needs_background": "light"
     },
     "output_type": "display_data"
    }
   ],
   "source": [
    "plt.figure(figsize=(16,8))\n",
    "plt.axhline(label=\"No Error\")\n",
    "plt.scatter(y_test, ols_test.yhat_test - y_test, \n",
    "        alpha=.5, color=\"red\", s=100, label=\"Model: LinearRegression\")\n",
    "plt.xlabel(\"Actual\")\n",
    "plt.ylabel(\"Residual/Error: Predicted - Actual\")\n",
    "plt.title(\"Plotting Errors in Predictions\")\n",
    "plt.show()"
   ]
  },
  {
   "cell_type": "markdown",
   "id": "6bbb7e61",
   "metadata": {},
   "source": [
    "# Modeling Takeaways:\n",
    "- RMSE of my OLS preformed better than baseline\n",
    "- R^2 score indicates very miniscule model significance"
   ]
  }
 ],
 "metadata": {
  "kernelspec": {
   "display_name": "Python 3",
   "language": "python",
   "name": "python3"
  },
  "language_info": {
   "codemirror_mode": {
    "name": "ipython",
    "version": 3
   },
   "file_extension": ".py",
   "mimetype": "text/x-python",
   "name": "python",
   "nbconvert_exporter": "python",
   "pygments_lexer": "ipython3",
   "version": "3.8.8"
  }
 },
 "nbformat": 4,
 "nbformat_minor": 5
}
